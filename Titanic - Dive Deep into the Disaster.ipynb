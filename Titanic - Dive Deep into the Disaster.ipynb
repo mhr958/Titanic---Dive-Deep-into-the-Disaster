{
 "cells": [
  {
   "cell_type": "markdown",
   "id": "536eb0f8",
   "metadata": {
    "tags": []
   },
   "source": [
    "# Importing Libraries, Function Definitions & Loading Dataset"
   ]
  },
  {
   "cell_type": "code",
   "execution_count": 122,
   "id": "d163338f",
   "metadata": {
    "ExecuteTime": {
     "end_time": "2021-12-26T09:43:14.506002Z",
     "start_time": "2021-12-26T09:43:14.487985Z"
    }
   },
   "outputs": [],
   "source": [
    "import numpy as np\n",
    "import pandas as pd\n",
    "import matplotlib.pyplot as plt\n",
    "import seaborn as sns\n",
    "import warnings\n",
    "from sklearn.preprocessing import StandardScaler, OrdinalEncoder\n",
    "from sklearn.model_selection import train_test_split, cross_val_score, RandomizedSearchCV, GridSearchCV\n",
    "from sklearn.metrics import accuracy_score\n",
    "from sklearn.linear_model import LogisticRegression\n",
    "from sklearn.tree import DecisionTreeClassifier\n",
    "from sklearn.ensemble import RandomForestClassifier, GradientBoostingClassifier, VotingClassifier\n",
    "from sklearn.neighbors import KNeighborsClassifier\n",
    "from sklearn.svm import SVC"
   ]
  },
  {
   "cell_type": "code",
   "execution_count": 2,
   "id": "5dca7289",
   "metadata": {
    "ExecuteTime": {
     "end_time": "2021-12-26T09:26:54.975335Z",
     "start_time": "2021-12-26T09:26:54.959711Z"
    }
   },
   "outputs": [],
   "source": [
    "np.random.seed(57) # set global seed\n",
    "plt.style.use('seaborn')  # set plotting style\n",
    "warnings.filterwarnings('ignore') # supress warnings"
   ]
  },
  {
   "cell_type": "code",
   "execution_count": 3,
   "id": "28860cba",
   "metadata": {
    "ExecuteTime": {
     "end_time": "2021-12-26T09:26:54.991405Z",
     "start_time": "2021-12-26T09:26:54.976394Z"
    }
   },
   "outputs": [],
   "source": [
    "# draw ECDF\n",
    "def draw_ecdf(data, data_label):\n",
    "    x = np.sort(data)\n",
    "    y = np.arange(1, len(x) + 1) / len(x)\n",
    "    plt.plot(x, y, marker='.', linestyle='none')\n",
    "    plt.xlabel(data_label)\n",
    "    plt.ylabel('ECDF')\n",
    "    plt.show()"
   ]
  },
  {
   "cell_type": "code",
   "execution_count": 4,
   "id": "f583228e",
   "metadata": {
    "ExecuteTime": {
     "end_time": "2021-12-26T09:26:55.039449Z",
     "start_time": "2021-12-26T09:26:54.993407Z"
    }
   },
   "outputs": [],
   "source": [
    "titanic = pd.read_csv(\"train.csv\")\n",
    "test_data = pd.read_csv(\"test.csv\")"
   ]
  },
  {
   "cell_type": "markdown",
   "id": "89c773a8",
   "metadata": {
    "tags": []
   },
   "source": [
    "# EDA"
   ]
  },
  {
   "cell_type": "code",
   "execution_count": 5,
   "id": "e949653a",
   "metadata": {
    "ExecuteTime": {
     "end_time": "2021-12-26T09:26:55.071478Z",
     "start_time": "2021-12-26T09:26:55.041451Z"
    }
   },
   "outputs": [
    {
     "data": {
      "text/html": [
       "<div>\n",
       "<style scoped>\n",
       "    .dataframe tbody tr th:only-of-type {\n",
       "        vertical-align: middle;\n",
       "    }\n",
       "\n",
       "    .dataframe tbody tr th {\n",
       "        vertical-align: top;\n",
       "    }\n",
       "\n",
       "    .dataframe thead th {\n",
       "        text-align: right;\n",
       "    }\n",
       "</style>\n",
       "<table border=\"1\" class=\"dataframe\">\n",
       "  <thead>\n",
       "    <tr style=\"text-align: right;\">\n",
       "      <th></th>\n",
       "      <th>PassengerId</th>\n",
       "      <th>Survived</th>\n",
       "      <th>Pclass</th>\n",
       "      <th>Name</th>\n",
       "      <th>Sex</th>\n",
       "      <th>Age</th>\n",
       "      <th>SibSp</th>\n",
       "      <th>Parch</th>\n",
       "      <th>Ticket</th>\n",
       "      <th>Fare</th>\n",
       "      <th>Cabin</th>\n",
       "      <th>Embarked</th>\n",
       "    </tr>\n",
       "  </thead>\n",
       "  <tbody>\n",
       "    <tr>\n",
       "      <th>0</th>\n",
       "      <td>1</td>\n",
       "      <td>0</td>\n",
       "      <td>3</td>\n",
       "      <td>Braund, Mr. Owen Harris</td>\n",
       "      <td>male</td>\n",
       "      <td>22.0</td>\n",
       "      <td>1</td>\n",
       "      <td>0</td>\n",
       "      <td>A/5 21171</td>\n",
       "      <td>7.2500</td>\n",
       "      <td>NaN</td>\n",
       "      <td>S</td>\n",
       "    </tr>\n",
       "    <tr>\n",
       "      <th>1</th>\n",
       "      <td>2</td>\n",
       "      <td>1</td>\n",
       "      <td>1</td>\n",
       "      <td>Cumings, Mrs. John Bradley (Florence Briggs Th...</td>\n",
       "      <td>female</td>\n",
       "      <td>38.0</td>\n",
       "      <td>1</td>\n",
       "      <td>0</td>\n",
       "      <td>PC 17599</td>\n",
       "      <td>71.2833</td>\n",
       "      <td>C85</td>\n",
       "      <td>C</td>\n",
       "    </tr>\n",
       "    <tr>\n",
       "      <th>2</th>\n",
       "      <td>3</td>\n",
       "      <td>1</td>\n",
       "      <td>3</td>\n",
       "      <td>Heikkinen, Miss. Laina</td>\n",
       "      <td>female</td>\n",
       "      <td>26.0</td>\n",
       "      <td>0</td>\n",
       "      <td>0</td>\n",
       "      <td>STON/O2. 3101282</td>\n",
       "      <td>7.9250</td>\n",
       "      <td>NaN</td>\n",
       "      <td>S</td>\n",
       "    </tr>\n",
       "    <tr>\n",
       "      <th>3</th>\n",
       "      <td>4</td>\n",
       "      <td>1</td>\n",
       "      <td>1</td>\n",
       "      <td>Futrelle, Mrs. Jacques Heath (Lily May Peel)</td>\n",
       "      <td>female</td>\n",
       "      <td>35.0</td>\n",
       "      <td>1</td>\n",
       "      <td>0</td>\n",
       "      <td>113803</td>\n",
       "      <td>53.1000</td>\n",
       "      <td>C123</td>\n",
       "      <td>S</td>\n",
       "    </tr>\n",
       "    <tr>\n",
       "      <th>4</th>\n",
       "      <td>5</td>\n",
       "      <td>0</td>\n",
       "      <td>3</td>\n",
       "      <td>Allen, Mr. William Henry</td>\n",
       "      <td>male</td>\n",
       "      <td>35.0</td>\n",
       "      <td>0</td>\n",
       "      <td>0</td>\n",
       "      <td>373450</td>\n",
       "      <td>8.0500</td>\n",
       "      <td>NaN</td>\n",
       "      <td>S</td>\n",
       "    </tr>\n",
       "  </tbody>\n",
       "</table>\n",
       "</div>"
      ],
      "text/plain": [
       "   PassengerId  Survived  Pclass  \\\n",
       "0            1         0       3   \n",
       "1            2         1       1   \n",
       "2            3         1       3   \n",
       "3            4         1       1   \n",
       "4            5         0       3   \n",
       "\n",
       "                                                Name     Sex   Age  SibSp  \\\n",
       "0                            Braund, Mr. Owen Harris    male  22.0      1   \n",
       "1  Cumings, Mrs. John Bradley (Florence Briggs Th...  female  38.0      1   \n",
       "2                             Heikkinen, Miss. Laina  female  26.0      0   \n",
       "3       Futrelle, Mrs. Jacques Heath (Lily May Peel)  female  35.0      1   \n",
       "4                           Allen, Mr. William Henry    male  35.0      0   \n",
       "\n",
       "   Parch            Ticket     Fare Cabin Embarked  \n",
       "0      0         A/5 21171   7.2500   NaN        S  \n",
       "1      0          PC 17599  71.2833   C85        C  \n",
       "2      0  STON/O2. 3101282   7.9250   NaN        S  \n",
       "3      0            113803  53.1000  C123        S  \n",
       "4      0            373450   8.0500   NaN        S  "
      ]
     },
     "execution_count": 5,
     "metadata": {},
     "output_type": "execute_result"
    }
   ],
   "source": [
    "titanic.head()"
   ]
  },
  {
   "cell_type": "code",
   "execution_count": 6,
   "id": "fd418006",
   "metadata": {
    "ExecuteTime": {
     "end_time": "2021-12-26T09:26:55.119522Z",
     "start_time": "2021-12-26T09:26:55.072479Z"
    }
   },
   "outputs": [
    {
     "name": "stdout",
     "output_type": "stream",
     "text": [
      "<class 'pandas.core.frame.DataFrame'>\n",
      "RangeIndex: 891 entries, 0 to 890\n",
      "Data columns (total 12 columns):\n",
      " #   Column       Non-Null Count  Dtype  \n",
      "---  ------       --------------  -----  \n",
      " 0   PassengerId  891 non-null    int64  \n",
      " 1   Survived     891 non-null    int64  \n",
      " 2   Pclass       891 non-null    int64  \n",
      " 3   Name         891 non-null    object \n",
      " 4   Sex          891 non-null    object \n",
      " 5   Age          714 non-null    float64\n",
      " 6   SibSp        891 non-null    int64  \n",
      " 7   Parch        891 non-null    int64  \n",
      " 8   Ticket       891 non-null    object \n",
      " 9   Fare         891 non-null    float64\n",
      " 10  Cabin        204 non-null    object \n",
      " 11  Embarked     889 non-null    object \n",
      "dtypes: float64(2), int64(5), object(5)\n",
      "memory usage: 83.7+ KB\n"
     ]
    }
   ],
   "source": [
    "titanic.info()"
   ]
  },
  {
   "cell_type": "code",
   "execution_count": 7,
   "id": "2a1b8a92",
   "metadata": {
    "ExecuteTime": {
     "end_time": "2021-12-26T09:26:55.150550Z",
     "start_time": "2021-12-26T09:26:55.120523Z"
    }
   },
   "outputs": [
    {
     "data": {
      "text/html": [
       "<div>\n",
       "<style scoped>\n",
       "    .dataframe tbody tr th:only-of-type {\n",
       "        vertical-align: middle;\n",
       "    }\n",
       "\n",
       "    .dataframe tbody tr th {\n",
       "        vertical-align: top;\n",
       "    }\n",
       "\n",
       "    .dataframe thead th {\n",
       "        text-align: right;\n",
       "    }\n",
       "</style>\n",
       "<table border=\"1\" class=\"dataframe\">\n",
       "  <thead>\n",
       "    <tr style=\"text-align: right;\">\n",
       "      <th></th>\n",
       "      <th>Age</th>\n",
       "      <th>SibSp</th>\n",
       "      <th>Parch</th>\n",
       "      <th>Fare</th>\n",
       "    </tr>\n",
       "  </thead>\n",
       "  <tbody>\n",
       "    <tr>\n",
       "      <th>count</th>\n",
       "      <td>714.000000</td>\n",
       "      <td>891.000000</td>\n",
       "      <td>891.000000</td>\n",
       "      <td>891.000000</td>\n",
       "    </tr>\n",
       "    <tr>\n",
       "      <th>mean</th>\n",
       "      <td>29.699118</td>\n",
       "      <td>0.523008</td>\n",
       "      <td>0.381594</td>\n",
       "      <td>32.204208</td>\n",
       "    </tr>\n",
       "    <tr>\n",
       "      <th>std</th>\n",
       "      <td>14.526497</td>\n",
       "      <td>1.102743</td>\n",
       "      <td>0.806057</td>\n",
       "      <td>49.693429</td>\n",
       "    </tr>\n",
       "    <tr>\n",
       "      <th>min</th>\n",
       "      <td>0.420000</td>\n",
       "      <td>0.000000</td>\n",
       "      <td>0.000000</td>\n",
       "      <td>0.000000</td>\n",
       "    </tr>\n",
       "    <tr>\n",
       "      <th>25%</th>\n",
       "      <td>20.125000</td>\n",
       "      <td>0.000000</td>\n",
       "      <td>0.000000</td>\n",
       "      <td>7.910400</td>\n",
       "    </tr>\n",
       "    <tr>\n",
       "      <th>50%</th>\n",
       "      <td>28.000000</td>\n",
       "      <td>0.000000</td>\n",
       "      <td>0.000000</td>\n",
       "      <td>14.454200</td>\n",
       "    </tr>\n",
       "    <tr>\n",
       "      <th>75%</th>\n",
       "      <td>38.000000</td>\n",
       "      <td>1.000000</td>\n",
       "      <td>0.000000</td>\n",
       "      <td>31.000000</td>\n",
       "    </tr>\n",
       "    <tr>\n",
       "      <th>max</th>\n",
       "      <td>80.000000</td>\n",
       "      <td>8.000000</td>\n",
       "      <td>6.000000</td>\n",
       "      <td>512.329200</td>\n",
       "    </tr>\n",
       "  </tbody>\n",
       "</table>\n",
       "</div>"
      ],
      "text/plain": [
       "              Age       SibSp       Parch        Fare\n",
       "count  714.000000  891.000000  891.000000  891.000000\n",
       "mean    29.699118    0.523008    0.381594   32.204208\n",
       "std     14.526497    1.102743    0.806057   49.693429\n",
       "min      0.420000    0.000000    0.000000    0.000000\n",
       "25%     20.125000    0.000000    0.000000    7.910400\n",
       "50%     28.000000    0.000000    0.000000   14.454200\n",
       "75%     38.000000    1.000000    0.000000   31.000000\n",
       "max     80.000000    8.000000    6.000000  512.329200"
      ]
     },
     "execution_count": 7,
     "metadata": {},
     "output_type": "execute_result"
    }
   ],
   "source": [
    "titanic[[\"Age\", \"SibSp\", \"Parch\", \"Fare\"]].describe()"
   ]
  },
  {
   "cell_type": "markdown",
   "id": "1d22f6f8",
   "metadata": {},
   "source": [
    "## Understanding the Features"
   ]
  },
  {
   "cell_type": "markdown",
   "id": "a0c371ac",
   "metadata": {},
   "source": [
    "### PassengerId"
   ]
  },
  {
   "cell_type": "code",
   "execution_count": 8,
   "id": "87f8aa48",
   "metadata": {
    "ExecuteTime": {
     "end_time": "2021-12-26T09:26:55.165564Z",
     "start_time": "2021-12-26T09:26:55.151551Z"
    }
   },
   "outputs": [
    {
     "name": "stdout",
     "output_type": "stream",
     "text": [
      "Data Type is int64\n",
      "Distribution Starts at 1 and Ends at 891\n",
      "Number of missing value is 0\n",
      "Number of duplicate value is 0\n"
     ]
    }
   ],
   "source": [
    "print(f'Data Type is {titanic.PassengerId.dtype}')\n",
    "print(\n",
    "    f'Distribution Starts at {titanic.PassengerId.min()} and Ends at {titanic.PassengerId.max()}'\n",
    ")\n",
    "print(f'Number of missing value is {titanic.PassengerId.isna().sum()}')\n",
    "print(f'Number of duplicate value is {titanic.PassengerId.duplicated().sum()}')"
   ]
  },
  {
   "cell_type": "markdown",
   "id": "c1e840b1",
   "metadata": {},
   "source": [
    "We see that PassengerId is unique and there are no missing values. It has no special significance other than being a unique identifying Number."
   ]
  },
  {
   "cell_type": "markdown",
   "id": "55706999",
   "metadata": {},
   "source": [
    "### Pclass"
   ]
  },
  {
   "cell_type": "code",
   "execution_count": 9,
   "id": "f31fdf35",
   "metadata": {
    "ExecuteTime": {
     "end_time": "2021-12-26T09:26:55.277666Z",
     "start_time": "2021-12-26T09:26:55.166565Z"
    }
   },
   "outputs": [
    {
     "name": "stdout",
     "output_type": "stream",
     "text": [
      "Data Type is int64\n",
      "Number of Unique Values are 3\n",
      "Value Distribution: \n",
      "1    216\n",
      "2    184\n",
      "3    491\n",
      "Name: Pclass, dtype: int64\n"
     ]
    }
   ],
   "source": [
    "print(f'Data Type is {titanic.Pclass.dtype}')\n",
    "print(f'Number of Unique Values are {titanic.Pclass.nunique()}')\n",
    "print(f'Value Distribution: \\n{titanic.Pclass.value_counts(sort=False)}')"
   ]
  },
  {
   "cell_type": "markdown",
   "id": "e16c35eb",
   "metadata": {},
   "source": [
    "Ticket Class is mainly categorical but it is encoded as integer. Also maximum percentage of passengers traveled with 3rd class ticket."
   ]
  },
  {
   "cell_type": "markdown",
   "id": "c05a9c39",
   "metadata": {},
   "source": [
    "### Name"
   ]
  },
  {
   "cell_type": "code",
   "execution_count": 10,
   "id": "8d23f563",
   "metadata": {
    "ExecuteTime": {
     "end_time": "2021-12-26T09:26:55.293680Z",
     "start_time": "2021-12-26T09:26:55.278667Z"
    }
   },
   "outputs": [
    {
     "name": "stdout",
     "output_type": "stream",
     "text": [
      "Data Type is object\n",
      "Number of duplicate value is 0\n"
     ]
    }
   ],
   "source": [
    "print(f'Data Type is {titanic.Name.dtype}')\n",
    "print(f'Number of duplicate value is {titanic.Name.duplicated().sum()}')"
   ]
  },
  {
   "cell_type": "code",
   "execution_count": 11,
   "id": "f5186901",
   "metadata": {
    "ExecuteTime": {
     "end_time": "2021-12-26T09:26:55.309695Z",
     "start_time": "2021-12-26T09:26:55.294681Z"
    },
    "scrolled": false
   },
   "outputs": [
    {
     "data": {
      "text/plain": [
       "array(['Abbing, Mr. Anthony', 'Abbott, Mr. Rossmore Edward',\n",
       "       'Abbott, Mrs. Stanton (Rosa Hunt)', 'Abelson, Mr. Samuel',\n",
       "       'Abelson, Mrs. Samuel (Hannah Wizosky)',\n",
       "       'Adahl, Mr. Mauritz Nils Martin', 'Adams, Mr. John',\n",
       "       'Ahlin, Mrs. Johan (Johanna Persdotter Larsson)',\n",
       "       'Aks, Mrs. Sam (Leah Rosen)', 'Albimona, Mr. Nassef Cassem',\n",
       "       'Alexander, Mr. William', 'Alhomaki, Mr. Ilmari Rudolf',\n",
       "       'Ali, Mr. Ahmed', 'Ali, Mr. William',\n",
       "       'Allen, Miss. Elisabeth Walton', 'Allen, Mr. William Henry',\n",
       "       'Allison, Master. Hudson Trevor', 'Allison, Miss. Helen Loraine',\n",
       "       'Allison, Mrs. Hudson J C (Bessie Waldo Daniels)',\n",
       "       'Allum, Mr. Owen George',\n",
       "       'Andersen-Jensen, Miss. Carla Christine Nielsine',\n",
       "       'Anderson, Mr. Harry', 'Andersson, Master. Sigvard Harald Elias',\n",
       "       'Andersson, Miss. Ebba Iris Alfrida',\n",
       "       'Andersson, Miss. Ellis Anna Maria',\n",
       "       'Andersson, Miss. Erna Alexandra',\n",
       "       'Andersson, Miss. Ingeborg Constanzia',\n",
       "       'Andersson, Miss. Sigrid Elisabeth', 'Andersson, Mr. Anders Johan',\n",
       "       'Andersson, Mr. August Edvard (\"Wennerstrom\")',\n",
       "       'Andersson, Mrs. Anders Johan (Alfrida Konstantia Brogren)',\n",
       "       'Andreasson, Mr. Paul Edvin', 'Andrew, Mr. Edgardo Samuel',\n",
       "       'Andrews, Miss. Kornelia Theodosia', 'Andrews, Mr. Thomas Jr',\n",
       "       'Angle, Mrs. William A (Florence \"Mary\" Agnes Hughes)',\n",
       "       'Appleton, Mrs. Edward Dale (Charlotte Lamson)',\n",
       "       'Arnold-Franchi, Mr. Josef',\n",
       "       'Arnold-Franchi, Mrs. Josef (Josefine Franchi)',\n",
       "       'Artagaveytia, Mr. Ramon', 'Asim, Mr. Adola',\n",
       "       'Asplund, Master. Clarence Gustaf Hugo',\n",
       "       'Asplund, Master. Edvin Rojj Felix',\n",
       "       'Asplund, Miss. Lillian Gertrud',\n",
       "       'Asplund, Mrs. Carl Oscar (Selma Augusta Emilia Johansson)',\n",
       "       'Astor, Mrs. John Jacob (Madeleine Talmadge Force)',\n",
       "       'Attalah, Miss. Malake', 'Attalah, Mr. Sleiman',\n",
       "       'Aubart, Mme. Leontine Pauline', 'Augustsson, Mr. Albert',\n",
       "       'Ayoub, Miss. Banoura', 'Backstrom, Mr. Karl Alfred',\n",
       "       'Backstrom, Mrs. Karl Alfred (Maria Mathilda Gustafsson)',\n",
       "       'Baclini, Miss. Eugenie', 'Baclini, Miss. Helene Barbara',\n",
       "       'Baclini, Miss. Marie Catherine',\n",
       "       'Baclini, Mrs. Solomon (Latifa Qurban)', 'Badt, Mr. Mohamed',\n",
       "       'Bailey, Mr. Percy Andrew', 'Balkic, Mr. Cerin',\n",
       "       'Ball, Mrs. (Ada E Hall)', 'Banfield, Mr. Frederick James',\n",
       "       'Barah, Mr. Hanna Assi', 'Barbara, Miss. Saiide',\n",
       "       'Barbara, Mrs. (Catherine David)', 'Barber, Miss. Ellen \"Nellie\"',\n",
       "       'Barkworth, Mr. Algernon Henry Wilson', 'Barton, Mr. David John',\n",
       "       'Bateman, Rev. Robert James', 'Baumann, Mr. John D',\n",
       "       'Baxter, Mr. Quigg Edmond',\n",
       "       'Baxter, Mrs. James (Helene DeLaudeniere Chaput)',\n",
       "       'Bazzani, Miss. Albina', 'Beane, Mr. Edward',\n",
       "       'Beane, Mrs. Edward (Ethel Clarke)', 'Beavan, Mr. William Thomas',\n",
       "       'Becker, Master. Richard F', 'Becker, Miss. Marion Louise',\n",
       "       'Beckwith, Mr. Richard Leonard',\n",
       "       'Beckwith, Mrs. Richard Leonard (Sallie Monypeny)',\n",
       "       'Beesley, Mr. Lawrence', 'Behr, Mr. Karl Howell',\n",
       "       'Bengtsson, Mr. John Viktor', 'Berglund, Mr. Karl Ivar Sven',\n",
       "       'Berriman, Mr. William John', 'Betros, Mr. Tannous',\n",
       "       'Bidois, Miss. Rosalie', 'Bing, Mr. Lee',\n",
       "       'Birkeland, Mr. Hans Martin Monsen', 'Bishop, Mr. Dickinson H',\n",
       "       'Bishop, Mrs. Dickinson H (Helen Walton)',\n",
       "       'Bissette, Miss. Amelia',\n",
       "       'Bjornstrom-Steffansson, Mr. Mauritz Hakan',\n",
       "       'Blackwell, Mr. Stephen Weart', 'Blank, Mr. Henry',\n",
       "       'Bonnell, Miss. Elizabeth', 'Bostandyeff, Mr. Guentcho',\n",
       "       'Boulos, Miss. Nourelain', 'Boulos, Mr. Hanna',\n",
       "       'Boulos, Mrs. Joseph (Sultana)', 'Bourke, Miss. Mary',\n",
       "       'Bourke, Mr. John', 'Bourke, Mrs. John (Catherine)',\n",
       "       'Bowen, Mr. David John \"Dai\"', 'Bowerman, Miss. Elsie Edith',\n",
       "       'Bracken, Mr. James H',\n",
       "       'Bradley, Mr. George (\"George Arthur Brayton\")',\n",
       "       'Braund, Mr. Lewis Richard', 'Braund, Mr. Owen Harris',\n",
       "       'Brewe, Dr. Arthur Jackson', 'Brocklebank, Mr. William Alfred',\n",
       "       'Brown, Miss. Amelia \"Mildred\"',\n",
       "       'Brown, Mr. Thomas William Solomon',\n",
       "       'Brown, Mrs. James Joseph (Margaret Tobin)',\n",
       "       'Brown, Mrs. Thomas William Solomon (Elizabeth Catherine Ford)',\n",
       "       'Bryhl, Mr. Kurt Arnold Gottfrid', 'Burke, Mr. Jeremiah',\n",
       "       'Burns, Miss. Elizabeth Margaret', 'Buss, Miss. Kate',\n",
       "       'Butler, Mr. Reginald Fenton', 'Butt, Major. Archibald Willingham',\n",
       "       'Byles, Rev. Thomas Roussel Davids', 'Bystrom, Mrs. (Karolina)',\n",
       "       'Cacic, Miss. Marija', 'Cacic, Mr. Luka', 'Cairns, Mr. Alexander',\n",
       "       'Calderhead, Mr. Edward Pennington',\n",
       "       'Caldwell, Master. Alden Gates',\n",
       "       'Caldwell, Mrs. Albert Francis (Sylvia Mae Harbaugh)',\n",
       "       'Calic, Mr. Jovo', 'Calic, Mr. Petar',\n",
       "       'Cameron, Miss. Clear Annie', 'Campbell, Mr. William',\n",
       "       'Canavan, Miss. Mary', 'Cann, Mr. Ernest Charles',\n",
       "       'Caram, Mrs. Joseph (Maria Elias)', 'Carbines, Mr. William',\n",
       "       'Cardeza, Mr. Thomas Drake Martinez',\n",
       "       'Carlsson, Mr. August Sigfrid', 'Carlsson, Mr. Frans Olof',\n",
       "       'Carr, Miss. Helen \"Ellen\"', 'Carrau, Mr. Francisco M',\n",
       "       'Carter, Master. William Thornton II', 'Carter, Miss. Lucile Polk',\n",
       "       'Carter, Mr. William Ernest',\n",
       "       'Carter, Mrs. Ernest Courtenay (Lilian Hughes)',\n",
       "       'Carter, Mrs. William Ernest (Lucile Polk)',\n",
       "       'Carter, Rev. Ernest Courtenay', 'Cavendish, Mr. Tyrell William',\n",
       "       'Celotti, Mr. Francesco', 'Chaffee, Mr. Herbert Fuller',\n",
       "       'Chambers, Mr. Norman Campbell',\n",
       "       'Chambers, Mrs. Norman Campbell (Bertha Griggs)',\n",
       "       'Chapman, Mr. Charles Henry', 'Chapman, Mr. John Henry',\n",
       "       'Charters, Mr. David', 'Cherry, Miss. Gladys',\n",
       "       'Chibnall, Mrs. (Edith Martha Bowerman)', 'Chip, Mr. Chang',\n",
       "       'Christmann, Mr. Emil', 'Christy, Miss. Julie Rachel',\n",
       "       'Chronopoulos, Mr. Apostolos',\n",
       "       'Clarke, Mrs. Charles V (Ada Maria Winfield)',\n",
       "       'Cleaver, Miss. Alice', 'Clifford, Mr. George Quincy',\n",
       "       'Coelho, Mr. Domingos Fernandeo', 'Cohen, Mr. Gurshon \"Gus\"',\n",
       "       'Coleff, Mr. Peju', 'Coleff, Mr. Satio',\n",
       "       'Coleridge, Mr. Reginald Charles', 'Collander, Mr. Erik Gustaf',\n",
       "       'Colley, Mr. Edward Pomeroy', 'Collyer, Miss. Marjorie \"Lottie\"',\n",
       "       'Collyer, Mr. Harvey',\n",
       "       'Collyer, Mrs. Harvey (Charlotte Annie Tate)',\n",
       "       'Compton, Miss. Sara Rebecca', 'Connaghton, Mr. Michael',\n",
       "       'Connolly, Miss. Kate', 'Connors, Mr. Patrick', 'Cook, Mr. Jacob',\n",
       "       'Cor, Mr. Liudevit', 'Corn, Mr. Harry',\n",
       "       'Coutts, Master. Eden Leslie \"Neville\"',\n",
       "       'Coutts, Master. William Loch \"William\"', 'Coxon, Mr. Daniel',\n",
       "       'Crease, Mr. Ernest James', 'Cribb, Mr. John Hatfield',\n",
       "       'Crosby, Capt. Edward Gifford', 'Crosby, Miss. Harriet R',\n",
       "       'Culumovic, Mr. Jeso',\n",
       "       'Cumings, Mrs. John Bradley (Florence Briggs Thayer)',\n",
       "       'Cunningham, Mr. Alfred Fleming', 'Dahl, Mr. Karl Edwart',\n",
       "       'Dahlberg, Miss. Gerda Ulrika', 'Dakic, Mr. Branko',\n",
       "       'Daly, Mr. Eugene Patrick', 'Daly, Mr. Peter Denis ',\n",
       "       'Danbom, Mr. Ernst Gilbert',\n",
       "       'Danbom, Mrs. Ernst Gilbert (Anna Sigrid Maria Brogren)',\n",
       "       'Daniel, Mr. Robert Williams', 'Danoff, Mr. Yoto',\n",
       "       'Dantcheff, Mr. Ristiu', 'Davidson, Mr. Thornton',\n",
       "       'Davies, Master. John Morgan Jr', 'Davies, Mr. Alfred J',\n",
       "       'Davies, Mr. Charles Henry', 'Davis, Miss. Mary',\n",
       "       'Davison, Mrs. Thomas Henry (Mary E Finck)',\n",
       "       'Dean, Master. Bertram Vere', 'Dean, Mr. Bertram Frank',\n",
       "       'Denkoff, Mr. Mitto', 'Dennis, Mr. Samuel',\n",
       "       'Devaney, Miss. Margaret Delia', 'Dick, Mr. Albert Adrian',\n",
       "       'Dick, Mrs. Albert Adrian (Vera Gillespie)', 'Dimic, Mr. Jovan',\n",
       "       'Dodge, Master. Washington', 'Doharr, Mr. Tannous',\n",
       "       'Doling, Miss. Elsie', 'Doling, Mrs. John T (Ada Julia Bone)',\n",
       "       'Dooley, Mr. Patrick', 'Dorking, Mr. Edward Arthur',\n",
       "       'Douglas, Mr. Walter Donald', 'Dowdell, Miss. Elizabeth',\n",
       "       'Downton, Mr. William James', 'Drazenoic, Mr. Jozef',\n",
       "       'Drew, Mrs. James Vivian (Lulu Thorne Christian)',\n",
       "       'Duane, Mr. Frank',\n",
       "       'Duff Gordon, Lady. (Lucille Christiana Sutherland) (\"Mrs Morgan\")',\n",
       "       'Duff Gordon, Sir. Cosmo Edmund (\"Mr Morgan\")',\n",
       "       'Duran y More, Miss. Asuncion', 'Edvardsson, Mr. Gustaf Hjalmar',\n",
       "       'Eitemiller, Mr. George Floyd', 'Eklund, Mr. Hans Linus',\n",
       "       'Ekstrom, Mr. Johan', 'Elias, Mr. Dibo', 'Elias, Mr. Joseph Jr',\n",
       "       'Elias, Mr. Tannous', 'Elsbury, Mr. William James',\n",
       "       'Emanuel, Miss. Virginia Ethel', 'Emir, Mr. Farred Chehab',\n",
       "       'Endres, Miss. Caroline Louise', 'Eustis, Miss. Elizabeth Mussey',\n",
       "       'Fahlstrom, Mr. Arne Jonas', 'Farrell, Mr. James',\n",
       "       'Farthing, Mr. John',\n",
       "       'Faunthorpe, Mrs. Lizzie (Elizabeth Anne Wilkinson)',\n",
       "       'Fischer, Mr. Eberhard Thelander', 'Fleming, Miss. Margaret',\n",
       "       'Flynn, Mr. James', 'Flynn, Mr. John',\n",
       "       'Flynn, Mr. John Irwin (\"Irving\")', 'Foo, Mr. Choong',\n",
       "       'Ford, Miss. Doolina Margaret \"Daisy\"',\n",
       "       'Ford, Miss. Robina Maggie \"Ruby\"', 'Ford, Mr. William Neal',\n",
       "       'Ford, Mrs. Edward (Margaret Ann Watson)',\n",
       "       'Foreman, Mr. Benjamin Laventall',\n",
       "       'Fortune, Miss. Alice Elizabeth', 'Fortune, Miss. Mabel Helen',\n",
       "       'Fortune, Mr. Charles Alexander', 'Fortune, Mr. Mark',\n",
       "       'Fox, Mr. Stanley Hubert', 'Francatelli, Miss. Laura Mabel',\n",
       "       'Frauenthal, Dr. Henry William',\n",
       "       'Frauenthal, Mrs. Henry William (Clara Heinsheimer)',\n",
       "       'Frolicher, Miss. Hedwig Margaritha',\n",
       "       'Frolicher-Stehli, Mr. Maxmillian',\n",
       "       'Frost, Mr. Anthony Wood \"Archie\"', 'Fry, Mr. Richard',\n",
       "       'Funk, Miss. Annie Clemmer', 'Futrelle, Mr. Jacques Heath',\n",
       "       'Futrelle, Mrs. Jacques Heath (Lily May Peel)',\n",
       "       'Fynney, Mr. Joseph J', 'Gale, Mr. Shadrach',\n",
       "       'Gallagher, Mr. Martin', 'Garfirth, Mr. John',\n",
       "       'Garside, Miss. Ethel', 'Gaskell, Mr. Alfred',\n",
       "       'Gavey, Mr. Lawrence', 'Gee, Mr. Arthur H',\n",
       "       'Gheorgheff, Mr. Stanio', 'Giglio, Mr. Victor',\n",
       "       'Giles, Mr. Frederick Edward', 'Gilinski, Mr. Eliezer',\n",
       "       'Gill, Mr. John William', 'Gillespie, Mr. William Henry',\n",
       "       'Gilnagh, Miss. Katherine \"Katie\"', 'Givard, Mr. Hans Kristensen',\n",
       "       'Glynn, Miss. Mary Agatha', 'Goldenberg, Mr. Samuel L',\n",
       "       'Goldenberg, Mrs. Samuel L (Edwiga Grabowska)',\n",
       "       'Goldschmidt, Mr. George B',\n",
       "       'Goldsmith, Master. Frank John William \"Frankie\"',\n",
       "       'Goldsmith, Mr. Frank John',\n",
       "       'Goldsmith, Mrs. Frank John (Emily Alice Brown)',\n",
       "       'Goncalves, Mr. Manuel Estanslas',\n",
       "       'Goodwin, Master. Harold Victor',\n",
       "       'Goodwin, Master. Sidney Leonard',\n",
       "       'Goodwin, Master. William Frederick', 'Goodwin, Miss. Lillian Amy',\n",
       "       'Goodwin, Mr. Charles Edward',\n",
       "       'Goodwin, Mrs. Frederick (Augusta Tyler)',\n",
       "       'Graham, Miss. Margaret Edith', 'Graham, Mr. George Edward',\n",
       "       'Graham, Mrs. William Thompson (Edith Junkins)',\n",
       "       'Green, Mr. George Henry', 'Greenberg, Mr. Samuel',\n",
       "       'Greenfield, Mr. William Bertram',\n",
       "       'Gronnestad, Mr. Daniel Danielsen', 'Guggenheim, Mr. Benjamin',\n",
       "       'Gustafsson, Mr. Alfred Ossian', 'Gustafsson, Mr. Anders Vilhelm',\n",
       "       'Gustafsson, Mr. Johan Birger', 'Gustafsson, Mr. Karl Gideon',\n",
       "       'Haas, Miss. Aloisia', 'Hagland, Mr. Ingvald Olai Olsen',\n",
       "       'Hagland, Mr. Konrad Mathias Reiersen',\n",
       "       'Hakkarainen, Mr. Pekka Pietari',\n",
       "       'Hakkarainen, Mrs. Pekka Pietari (Elin Matilda Dolck)',\n",
       "       'Hale, Mr. Reginald', 'Hamalainen, Master. Viljo',\n",
       "       'Hamalainen, Mrs. William (Anna)', 'Hampe, Mr. Leon',\n",
       "       'Hanna, Mr. Mansour', 'Hansen, Mr. Claus Peter',\n",
       "       'Hansen, Mr. Henrik Juul', 'Hansen, Mr. Henry Damsgaard',\n",
       "       'Harder, Mr. George Achilles', 'Harknett, Miss. Alice Phoebe',\n",
       "       'Harmer, Mr. Abraham (David Lishin)',\n",
       "       'Harper, Miss. Annie Jessie \"Nina\"', 'Harper, Mr. Henry Sleeper',\n",
       "       'Harper, Mrs. Henry Sleeper (Myna Haxtun)', 'Harper, Rev. John',\n",
       "       'Harrington, Mr. Charles H', 'Harris, Mr. George',\n",
       "       'Harris, Mr. Henry Birkhardt', 'Harris, Mr. Walter',\n",
       "       'Harris, Mrs. Henry Birkhardt (Irene Wallach)',\n",
       "       'Harrison, Mr. William', 'Hart, Miss. Eva Miriam',\n",
       "       'Hart, Mr. Benjamin', 'Hart, Mr. Henry',\n",
       "       'Hart, Mrs. Benjamin (Esther Ada Bloomfield)',\n",
       "       'Hassab, Mr. Hammad', 'Hassan, Mr. Houssein G N',\n",
       "       'Hawksford, Mr. Walter James', 'Hays, Miss. Margaret Bechstein',\n",
       "       'Hays, Mrs. Charles Melville (Clara Jennings Gregg)',\n",
       "       'Healy, Miss. Hanora \"Nora\"', 'Hedman, Mr. Oskar Arvid',\n",
       "       'Hegarty, Miss. Hanora \"Nora\"', 'Heikkinen, Miss. Laina',\n",
       "       'Heininen, Miss. Wendla Maria', 'Hendekovic, Mr. Ignjac',\n",
       "       'Henry, Miss. Delia', 'Herman, Miss. Alice',\n",
       "       'Herman, Mrs. Samuel (Jane Laver)',\n",
       "       'Hewlett, Mrs. (Mary D Kingcome) ', 'Hickman, Mr. Leonard Mark',\n",
       "       'Hickman, Mr. Lewis', 'Hickman, Mr. Stanley George',\n",
       "       'Hippach, Miss. Jean Gertrude',\n",
       "       'Hippach, Mrs. Louis Albert (Ida Sophia Fischer)',\n",
       "       'Hirvonen, Miss. Hildur E', 'Hocking, Mr. Richard George',\n",
       "       'Hocking, Mrs. Elizabeth (Eliza Needs)', 'Hodges, Mr. Henry Price',\n",
       "       'Hogeboom, Mrs. John C (Anna Andrews)', 'Hold, Mr. Stephen',\n",
       "       'Holm, Mr. John Fredrik Alexander',\n",
       "       'Holverson, Mr. Alexander Oskar',\n",
       "       'Holverson, Mrs. Alexander Oskar (Mary Aline Towner)',\n",
       "       'Homer, Mr. Harry (\"Mr E Haven\")', 'Honkanen, Miss. Eliina',\n",
       "       'Hood, Mr. Ambrose Jr', 'Horgan, Mr. John', 'Hosono, Mr. Masabumi',\n",
       "       'Hoyt, Mr. Frederick Maxfield', 'Hoyt, Mr. William Fisher',\n",
       "       'Hoyt, Mrs. Frederick Maxfield (Jane Anne Forby)',\n",
       "       'Humblen, Mr. Adolf Mathias Nicolai Olsen',\n",
       "       'Hunt, Mr. George Henry', 'Ibrahim Shawah, Mr. Yousseff',\n",
       "       'Icard, Miss. Amelie', 'Ilett, Miss. Bertha',\n",
       "       'Ilmakangas, Miss. Pieta Sofia', 'Isham, Miss. Ann Elizabeth',\n",
       "       'Ivanoff, Mr. Kanio', 'Jacobsohn, Mr. Sidney Samuel',\n",
       "       'Jacobsohn, Mrs. Sidney Samuel (Amy Frances Christy)',\n",
       "       'Jalsevac, Mr. Ivan', 'Jansson, Mr. Carl Olof',\n",
       "       'Jardin, Mr. Jose Neto', 'Jarvis, Mr. John Denzil',\n",
       "       'Jenkin, Mr. Stephen Curnow', 'Jensen, Mr. Hans Peder',\n",
       "       'Jensen, Mr. Niels Peder', 'Jensen, Mr. Svend Lauritz',\n",
       "       'Jermyn, Miss. Annie',\n",
       "       'Jerwan, Mrs. Amin S (Marie Marthe Thuillard)',\n",
       "       'Johannesen-Bratthammer, Mr. Bernt', 'Johanson, Mr. Jakob Alfred',\n",
       "       'Johansson, Mr. Erik', 'Johansson, Mr. Gustaf Joel',\n",
       "       'Johansson, Mr. Karl Johan', 'Johnson, Master. Harold Theodor',\n",
       "       'Johnson, Miss. Eleanor Ileen', 'Johnson, Mr. Alfred',\n",
       "       'Johnson, Mr. Malkolm Joackim', 'Johnson, Mr. William Cahoone Jr',\n",
       "       'Johnson, Mrs. Oscar W (Elisabeth Vilhelmina Berg)',\n",
       "       'Johnston, Miss. Catherine Helen \"Carrie\"',\n",
       "       'Johnston, Mr. Andrew G', 'Jonkoff, Mr. Lalio',\n",
       "       'Jonsson, Mr. Carl', 'Jussila, Miss. Katriina',\n",
       "       'Jussila, Miss. Mari Aina', 'Jussila, Mr. Eiriik',\n",
       "       'Kallio, Mr. Nikolai Erland', 'Kalvik, Mr. Johannes Halvorsen',\n",
       "       'Kantor, Mr. Sinai', 'Kantor, Mrs. Sinai (Miriam Sternin)',\n",
       "       'Karaic, Mr. Milan', 'Karlsson, Mr. Nils August',\n",
       "       'Karun, Miss. Manca', 'Kassem, Mr. Fared', 'Keane, Miss. Nora A',\n",
       "       'Keane, Mr. Andrew \"Andy\"', 'Keefe, Mr. Arthur',\n",
       "       'Kelly, Miss. Anna Katherine \"Annie Kate\"', 'Kelly, Miss. Mary',\n",
       "       'Kelly, Mr. James', 'Kelly, Mrs. Florence \"Fannie\"',\n",
       "       'Kent, Mr. Edward Austin', 'Kenyon, Mrs. Frederick R (Marion)',\n",
       "       'Kiernan, Mr. Philip', 'Kilgannon, Mr. Thomas J',\n",
       "       'Kimball, Mr. Edwin Nelson Jr', 'Kink, Mr. Vincenz',\n",
       "       'Kink-Heilmann, Miss. Luise Gretchen',\n",
       "       'Kirkland, Rev. Charles Leonard', 'Klaber, Mr. Herman',\n",
       "       'Klasen, Mr. Klas Albin', 'Knight, Mr. Robert J',\n",
       "       'Kraeff, Mr. Theodor', 'Kvillner, Mr. Johan Henrik Johannesson',\n",
       "       'Lahoud, Mr. Sarkis', 'Lahtinen, Mrs. William (Anna Sylfven)',\n",
       "       'Laitinen, Miss. Kristina Sofia', 'Laleff, Mr. Kristo',\n",
       "       'Lam, Mr. Ali', 'Lam, Mr. Len', 'Landergren, Miss. Aurora Adelia',\n",
       "       'Lang, Mr. Fang', 'Laroche, Miss. Simonne Marie Anne Andree',\n",
       "       'Laroche, Mr. Joseph Philippe Lemercier',\n",
       "       'Laroche, Mrs. Joseph (Juliette Marie Louise Lafargue)',\n",
       "       'Larsson, Mr. August Viktor', 'Larsson, Mr. Bengt Edvin',\n",
       "       'LeRoy, Miss. Bertha', 'Leader, Dr. Alice (Farnham)',\n",
       "       'Leeni, Mr. Fahim (\"Philip Zenni\")',\n",
       "       'Lefebre, Master. Henry Forbes', 'Lefebre, Miss. Ida',\n",
       "       'Lefebre, Miss. Jeannie', 'Lefebre, Miss. Mathilde',\n",
       "       'Lehmann, Miss. Bertha', 'Leinonen, Mr. Antti Gustaf',\n",
       "       'Leitch, Miss. Jessie Wills', 'Lemberopolous, Mr. Peter L',\n",
       "       'Lemore, Mrs. (Amelia Milley)', 'Lennon, Mr. Denis',\n",
       "       'Leonard, Mr. Lionel', 'Lester, Mr. James',\n",
       "       'Lesurer, Mr. Gustave J', 'Levy, Mr. Rene Jacques',\n",
       "       'Lewy, Mr. Ervin G', 'Leyson, Mr. Robert William Norman',\n",
       "       'Lievens, Mr. Rene Aime', 'Lindahl, Miss. Agda Thorilda Viktoria',\n",
       "       'Lindblom, Miss. Augusta Charlotta',\n",
       "       'Lindell, Mr. Edvard Bengtsson', 'Lindqvist, Mr. Eino William',\n",
       "       'Lines, Miss. Mary Conover', 'Ling, Mr. Lee',\n",
       "       'Lobb, Mr. William Arthur',\n",
       "       'Lobb, Mrs. William Arthur (Cordelia K Stanlick)',\n",
       "       'Long, Mr. Milton Clyde', 'Longley, Miss. Gretchen Fiske',\n",
       "       'Louch, Mrs. Charles Alexander (Alice Adelaide Slow)',\n",
       "       'Lovell, Mr. John Hall (\"Henry\")', 'Lulic, Mr. Nikola',\n",
       "       'Lundahl, Mr. Johan Svensson', 'Lurette, Miss. Elise',\n",
       "       'Mack, Mrs. (Mary)', 'Madigan, Miss. Margaret \"Maggie\"',\n",
       "       'Madill, Miss. Georgette Alexandra', 'Madsen, Mr. Fridtjof Arne',\n",
       "       'Maenpaa, Mr. Matti Alexanteri', 'Maioni, Miss. Roberta',\n",
       "       'Maisner, Mr. Simon', 'Mallet, Master. Andre',\n",
       "       'Mallet, Mr. Albert', 'Mamee, Mr. Hanna', 'Mangan, Miss. Mary',\n",
       "       'Mannion, Miss. Margareth', 'Marechal, Mr. Pierre',\n",
       "       'Markoff, Mr. Marin', 'Markun, Mr. Johann',\n",
       "       'Marvin, Mr. Daniel Warner', 'Masselmani, Mrs. Fatima',\n",
       "       'Matthews, Mr. William John',\n",
       "       'Mayne, Mlle. Berthe Antonine (\"Mrs de Villiers\")',\n",
       "       'McCarthy, Mr. Timothy J', 'McCormack, Mr. Thomas Joseph',\n",
       "       'McCoy, Miss. Agnes', 'McCoy, Mr. Bernard',\n",
       "       'McDermott, Miss. Brigdet Delia', 'McEvoy, Mr. Michael',\n",
       "       'McGough, Mr. James Robert', 'McGovern, Miss. Mary',\n",
       "       'McGowan, Miss. Anna \"Annie\"', 'McKane, Mr. Peter David',\n",
       "       'McMahon, Mr. Martin', 'McNamee, Mr. Neal',\n",
       "       'Meanwell, Miss. (Marion Ogden)',\n",
       "       'Meek, Mrs. Thomas (Annie Louise Rowley)',\n",
       "       'Mellinger, Miss. Madeleine Violet',\n",
       "       'Mellinger, Mrs. (Elizabeth Anne Maidment)',\n",
       "       'Mellors, Mr. William John', 'Meo, Mr. Alfonzo',\n",
       "       'Mernagh, Mr. Robert', 'Meyer, Mr. August',\n",
       "       'Meyer, Mr. Edgar Joseph', 'Meyer, Mrs. Edgar Joseph (Leila Saks)',\n",
       "       'Millet, Mr. Francis Davis', 'Milling, Mr. Jacob Christian',\n",
       "       'Minahan, Dr. William Edward', 'Minahan, Miss. Daisy E',\n",
       "       'Mineff, Mr. Ivan', 'Mionoff, Mr. Stoytcho',\n",
       "       'Mitchell, Mr. Henry Michael', 'Mitkoff, Mr. Mito',\n",
       "       'Mockler, Miss. Helen Mary \"Ellie\"', 'Moen, Mr. Sigurd Hansen',\n",
       "       'Molson, Mr. Harry Markland', 'Montvila, Rev. Juozas',\n",
       "       'Moor, Master. Meier', 'Moor, Mrs. (Beila)',\n",
       "       'Moore, Mr. Leonard Charles', 'Moran, Miss. Bertha',\n",
       "       'Moran, Mr. Daniel J', 'Moran, Mr. James', 'Moraweck, Dr. Ernest',\n",
       "       'Morley, Mr. Henry Samuel (\"Mr Henry Marshall\")',\n",
       "       'Morley, Mr. William', 'Morrow, Mr. Thomas Rowan',\n",
       "       'Moss, Mr. Albert Johan', 'Moubarek, Master. Gerios',\n",
       "       'Moubarek, Master. Halim Gonios (\"William George\")',\n",
       "       'Moussa, Mrs. (Mantoura Boulos)', 'Moutal, Mr. Rahamin Haim',\n",
       "       'Mudd, Mr. Thomas Charles', 'Mullens, Miss. Katherine \"Katie\"',\n",
       "       'Murdlin, Mr. Joseph', 'Murphy, Miss. Katherine \"Kate\"',\n",
       "       'Murphy, Miss. Margaret Jane',\n",
       "       'Myhrman, Mr. Pehr Fabian Oliver Malkolm', 'Naidenoff, Mr. Penko',\n",
       "       'Najib, Miss. Adele Kiamie \"Jane\"', 'Nakid, Miss. Maria (\"Mary\")',\n",
       "       'Nakid, Mr. Sahid', 'Nankoff, Mr. Minko', 'Nasser, Mr. Nicholas',\n",
       "       'Nasser, Mrs. Nicholas (Adele Achem)', 'Natsch, Mr. Charles H',\n",
       "       'Navratil, Master. Edmond Roger', 'Navratil, Master. Michel M',\n",
       "       'Navratil, Mr. Michel (\"Louis M Hoffman\")', 'Nenkoff, Mr. Christo',\n",
       "       'Newell, Miss. Madeleine', 'Newell, Miss. Marjorie',\n",
       "       'Newell, Mr. Arthur Webster', 'Newsom, Miss. Helen Monypeny',\n",
       "       'Nicholls, Mr. Joseph Charles', 'Nicholson, Mr. Arthur Ernest',\n",
       "       'Nicola-Yarred, Master. Elias', 'Nicola-Yarred, Miss. Jamila',\n",
       "       'Nilsson, Miss. Helmina Josefina',\n",
       "       'Nirva, Mr. Iisakki Antino Aijo', 'Niskanen, Mr. Juha',\n",
       "       'Norman, Mr. Robert Douglas', 'Nosworthy, Mr. Richard Cater',\n",
       "       'Novel, Mr. Mansouer', 'Nye, Mrs. (Elizabeth Ramell)',\n",
       "       'Nysten, Miss. Anna Sofia', 'Nysveen, Mr. Johan Hansen',\n",
       "       \"O'Brien, Mr. Thomas\", \"O'Brien, Mr. Timothy\",\n",
       "       'O\\'Brien, Mrs. Thomas (Johanna \"Hannah\" Godfrey)',\n",
       "       \"O'Connell, Mr. Patrick D\", \"O'Connor, Mr. Maurice\",\n",
       "       \"O'Driscoll, Miss. Bridget\", 'O\\'Dwyer, Miss. Ellen \"Nellie\"',\n",
       "       'O\\'Leary, Miss. Hanora \"Norah\"', \"O'Sullivan, Miss. Bridget Mary\",\n",
       "       'Odahl, Mr. Nils Martin', 'Ohman, Miss. Velin',\n",
       "       'Olsen, Mr. Henry Margido', 'Olsen, Mr. Karl Siegwart Andreas',\n",
       "       'Olsen, Mr. Ole Martin', 'Olsson, Miss. Elina',\n",
       "       'Olsson, Mr. Nils Johan Goransson', 'Olsvigen, Mr. Thor Anderson',\n",
       "       'Oreskovic, Miss. Marija', 'Oreskovic, Mr. Luka',\n",
       "       'Osen, Mr. Olaf Elon', 'Osman, Mrs. Mara',\n",
       "       'Ostby, Mr. Engelhart Cornelius', 'Otter, Mr. Richard',\n",
       "       'Padro y Manent, Mr. Julian', 'Pain, Dr. Alfred',\n",
       "       'Palsson, Master. Gosta Leonard', 'Palsson, Miss. Stina Viola',\n",
       "       'Palsson, Miss. Torborg Danira',\n",
       "       'Palsson, Mrs. Nils (Alma Cornelia Berglund)',\n",
       "       'Panula, Master. Eino Viljami', 'Panula, Master. Juha Niilo',\n",
       "       'Panula, Master. Urho Abraham', 'Panula, Mr. Ernesti Arvid',\n",
       "       'Panula, Mr. Jaako Arnold',\n",
       "       'Panula, Mrs. Juha (Maria Emilia Ojala)',\n",
       "       'Parkes, Mr. Francis \"Frank\"', 'Parr, Mr. William Henry Marsh',\n",
       "       'Parrish, Mrs. (Lutie Davis)', 'Partner, Mr. Austen',\n",
       "       'Pasic, Mr. Jakob', 'Patchett, Mr. George', 'Paulner, Mr. Uscher',\n",
       "       'Pavlovic, Mr. Stefo', 'Pears, Mr. Thomas Clinton',\n",
       "       'Pears, Mrs. Thomas (Edith Wearne)', 'Peduzzi, Mr. Joseph',\n",
       "       'Pekoniemi, Mr. Edvard',\n",
       "       'Penasco y Castellana, Mr. Victor de Satode',\n",
       "       'Penasco y Castellana, Mrs. Victor de Satode (Maria Josefa Perez de Soto y Vallejo)',\n",
       "       'Pengelly, Mr. Frederick William', 'Perkin, Mr. John Henry',\n",
       "       'Pernot, Mr. Rene', 'Perreault, Miss. Anne',\n",
       "       'Persson, Mr. Ernst Ulrik', 'Peter, Miss. Anna',\n",
       "       'Peter, Mrs. Catherine (Catherine Rizk)', 'Peters, Miss. Katie',\n",
       "       'Petranec, Miss. Matilda', 'Petroff, Mr. Nedelio',\n",
       "       'Petroff, Mr. Pastcho (\"Pentcho\")', 'Petterson, Mr. Johan Emil',\n",
       "       'Pettersson, Miss. Ellen Natalia',\n",
       "       'Peuchen, Major. Arthur Godfrey',\n",
       "       'Phillips, Miss. Kate Florence (\"Mrs Kate Louise Phillips Marshall\")',\n",
       "       'Pickard, Mr. Berk (Berk Trembisky)', 'Pinsky, Mrs. (Rosa)',\n",
       "       'Plotcharsky, Mr. Vasil', 'Ponesell, Mr. Martin',\n",
       "       'Porter, Mr. Walter Chamberlain',\n",
       "       'Potter, Mrs. Thomas Jr (Lily Alexenia Wilson)',\n",
       "       'Quick, Miss. Phyllis May',\n",
       "       'Quick, Mrs. Frederick Charles (Jane Richards)',\n",
       "       'Radeff, Mr. Alexander', 'Razi, Mr. Raihed',\n",
       "       'Reed, Mr. James George', 'Reeves, Mr. David', 'Rekic, Mr. Tido',\n",
       "       'Renouf, Mr. Peter Henry',\n",
       "       'Renouf, Mrs. Peter Henry (Lillian Jefferys)',\n",
       "       'Reuchlin, Jonkheer. John George', 'Reynaldo, Ms. Encarnacion',\n",
       "       'Rice, Master. Arthur', 'Rice, Master. Eric',\n",
       "       'Rice, Master. Eugene', 'Rice, Master. George Hugh',\n",
       "       'Rice, Mrs. William (Margaret Norton)', 'Richard, Mr. Emile',\n",
       "       'Richards, Master. George Sibley',\n",
       "       'Richards, Master. William Rowe',\n",
       "       'Richards, Mrs. Sidney (Emily Hocking)', 'Ridsdale, Miss. Lucy',\n",
       "       'Ringhini, Mr. Sante', 'Rintamaki, Mr. Matti',\n",
       "       'Risien, Mr. Samuel Beard', 'Robbins, Mr. Victor',\n",
       "       'Robert, Mrs. Edward Scott (Elisabeth Walton McMillan)',\n",
       "       'Robins, Mrs. Alexander A (Grace Charity Laury)',\n",
       "       'Roebling, Mr. Washington Augustus II', 'Rogers, Mr. William John',\n",
       "       'Romaine, Mr. Charles Hallace (\"Mr C Rolmane\")',\n",
       "       'Rommetvedt, Mr. Knud Paust', 'Rood, Mr. Hugh Roscoe',\n",
       "       'Rosblom, Mr. Viktor Richard',\n",
       "       'Rosblom, Mrs. Viktor (Helena Wilhelmina)', 'Ross, Mr. John Hugo',\n",
       "       'Rothes, the Countess. of (Lucy Noel Martha Dyer-Edwards)',\n",
       "       'Rothschild, Mrs. Martin (Elizabeth L. Barrett)',\n",
       "       'Rouse, Mr. Richard Henry', 'Rugg, Miss. Emily',\n",
       "       'Rush, Mr. Alfred George John', 'Ryan, Mr. Patrick',\n",
       "       'Ryerson, Miss. Emily Borie',\n",
       "       'Ryerson, Miss. Susan Parker \"Suzette\"', 'Saad, Mr. Amin',\n",
       "       'Saad, Mr. Khalil', 'Saalfeld, Mr. Adolphe',\n",
       "       'Sadlier, Mr. Matthew', 'Sage, Master. Thomas Henry',\n",
       "       'Sage, Miss. Constance Gladys',\n",
       "       'Sage, Miss. Dorothy Edith \"Dolly\"', 'Sage, Miss. Stella Anna',\n",
       "       'Sage, Mr. Douglas Bullen', 'Sage, Mr. Frederick',\n",
       "       'Sage, Mr. George John Jr', 'Sagesser, Mlle. Emma',\n",
       "       'Salkjelsvik, Miss. Anna Kristine', 'Salonen, Mr. Johan Werner',\n",
       "       'Samaan, Mr. Youssef', 'Sandstrom, Miss. Marguerite Rut',\n",
       "       'Sandstrom, Mrs. Hjalmar (Agnes Charlotta Bengtsson)',\n",
       "       'Saundercock, Mr. William Henry', 'Sawyer, Mr. Frederick Charles',\n",
       "       'Scanlan, Mr. James', 'Sdycoff, Mr. Todor',\n",
       "       'Sedgwick, Mr. Charles Frederick Waddington',\n",
       "       'Serepeca, Miss. Augusta', 'Seward, Mr. Frederic Kimber',\n",
       "       'Sharp, Mr. Percival James R', 'Sheerlinck, Mr. Jan Baptist',\n",
       "       'Shellard, Mr. Frederick William',\n",
       "       'Shelley, Mrs. William (Imanita Parrish Hall)',\n",
       "       'Shorney, Mr. Charles Joseph', 'Shutes, Miss. Elizabeth W',\n",
       "       'Silven, Miss. Lyyli Karoliina',\n",
       "       'Silverthorne, Mr. Spencer Victor', 'Silvey, Mr. William Baird',\n",
       "       'Silvey, Mrs. William Baird (Alice Munger)', 'Simmons, Mr. John',\n",
       "       'Simonius-Blumer, Col. Oberst Alfons', 'Sinkkonen, Miss. Anna',\n",
       "       'Sirayanian, Mr. Orsen', 'Sirota, Mr. Maurice',\n",
       "       'Sivic, Mr. Husein', 'Sivola, Mr. Antti Wilhelm',\n",
       "       'Sjoblom, Miss. Anna Sofia', 'Sjostedt, Mr. Ernst Adolf',\n",
       "       'Skoog, Master. Harald', 'Skoog, Master. Karl Thorsten',\n",
       "       'Skoog, Miss. Mabel', 'Skoog, Miss. Margit Elizabeth',\n",
       "       'Skoog, Mr. Wilhelm',\n",
       "       'Skoog, Mrs. William (Anna Bernhardina Karlsson)',\n",
       "       'Slabenoff, Mr. Petco', 'Slayter, Miss. Hilda Mary',\n",
       "       'Slemen, Mr. Richard James', 'Slocovski, Mr. Selman Francis',\n",
       "       'Sloper, Mr. William Thompson', 'Smart, Mr. John Montgomery',\n",
       "       'Smiljanic, Mr. Mile', 'Smith, Miss. Marion Elsie',\n",
       "       'Smith, Mr. James Clinch', 'Smith, Mr. Richard William',\n",
       "       'Smith, Mr. Thomas', 'Sobey, Mr. Samuel James Hayden',\n",
       "       'Soholt, Mr. Peter Andreas Lauritz Andersen',\n",
       "       'Somerton, Mr. Francis William',\n",
       "       'Spedden, Mrs. Frederic Oakley (Margaretta Corning Stone)',\n",
       "       'Spencer, Mrs. William Augustus (Marie Eugenie)',\n",
       "       'Stahelin-Maeglin, Dr. Max', 'Staneff, Mr. Ivan',\n",
       "       'Stankovic, Mr. Ivan', 'Stanley, Miss. Amy Zillah Elsie',\n",
       "       'Stanley, Mr. Edward Roland', 'Stead, Mr. William Thomas',\n",
       "       'Stephenson, Mrs. Walter Bertram (Martha Eustis)',\n",
       "       'Stewart, Mr. Albert A',\n",
       "       'Stone, Mrs. George Nelson (Martha Evelyn)',\n",
       "       'Stoytcheff, Mr. Ilia', 'Strandberg, Miss. Ida Sofia',\n",
       "       'Stranden, Mr. Juho', 'Strom, Miss. Telma Matilda',\n",
       "       'Strom, Mrs. Wilhelm (Elna Matilda Persson)',\n",
       "       'Sunderland, Mr. Victor Francis', 'Sundman, Mr. Johan Julian',\n",
       "       'Sutehall, Mr. Henry Jr', 'Sutton, Mr. Frederick',\n",
       "       'Svensson, Mr. Johan', 'Svensson, Mr. Olof',\n",
       "       'Swift, Mrs. Frederick Joel (Margaret Welles Barron)',\n",
       "       'Taussig, Miss. Ruth', 'Taussig, Mr. Emil',\n",
       "       'Taussig, Mrs. Emil (Tillie Mandelbaum)',\n",
       "       'Taylor, Mr. Elmer Zebley',\n",
       "       'Taylor, Mrs. Elmer Zebley (Juliet Cummins Wright)',\n",
       "       'Thayer, Mr. John Borland', 'Thayer, Mr. John Borland Jr',\n",
       "       'Thayer, Mrs. John Borland (Marian Longstreth Morris)',\n",
       "       'Theobald, Mr. Thomas Leonard', 'Thomas, Master. Assad Alexander',\n",
       "       'Thorne, Mrs. Gertrude Maybelle', 'Thorneycroft, Mr. Percival',\n",
       "       'Thorneycroft, Mrs. Percival (Florence Kate White)',\n",
       "       'Tikkanen, Mr. Juho', 'Tobin, Mr. Roger', 'Todoroff, Mr. Lalio',\n",
       "       'Tomlin, Mr. Ernest Portage', 'Toomey, Miss. Ellen',\n",
       "       'Torber, Mr. Ernst William', 'Tornquist, Mr. William Henry',\n",
       "       'Toufik, Mr. Nakli', 'Touma, Mrs. Darwis (Hanne Youssef Razi)',\n",
       "       'Troupiansky, Mr. Moses Aaron', 'Trout, Mrs. William H (Jessie L)',\n",
       "       'Troutt, Miss. Edwina Celia \"Winnie\"', 'Turcin, Mr. Stjepan',\n",
       "       'Turja, Miss. Anna Sofia', 'Turkula, Mrs. (Hedwig)',\n",
       "       'Turpin, Mr. William John Robert',\n",
       "       'Turpin, Mrs. William John Robert (Dorothy Ann Wonnacott)',\n",
       "       'Uruchurtu, Don. Manuel E', 'Van Impe, Miss. Catharina',\n",
       "       'Van Impe, Mr. Jean Baptiste',\n",
       "       'Van Impe, Mrs. Jean Baptiste (Rosalie Paula Govaert)',\n",
       "       'Van der hoef, Mr. Wyckoff', 'Vande Velde, Mr. Johannes Joseph',\n",
       "       'Vande Walle, Mr. Nestor Cyriel', 'Vanden Steen, Mr. Leo Peter',\n",
       "       'Vander Cruyssen, Mr. Victor',\n",
       "       'Vander Planke, Miss. Augusta Maria',\n",
       "       'Vander Planke, Mr. Leo Edmondus',\n",
       "       'Vander Planke, Mrs. Julius (Emelia Maria Vandemoortele)',\n",
       "       'Vestrom, Miss. Hulda Amanda Adolfina', 'Vovk, Mr. Janko',\n",
       "       'Waelens, Mr. Achille', 'Walker, Mr. William Anderson',\n",
       "       'Ward, Miss. Anna',\n",
       "       'Warren, Mrs. Frank Manley (Anna Sophia Atkinson)',\n",
       "       'Watson, Mr. Ennis Hastings',\n",
       "       'Watt, Mrs. James (Elizabeth \"Bessie\" Inglis Milne)',\n",
       "       'Webber, Miss. Susan', 'Webber, Mr. James', 'Weir, Col. John',\n",
       "       'Weisz, Mrs. Leopold (Mathilde Francoise Pede)',\n",
       "       'Wells, Miss. Joan', 'West, Miss. Constance Mirium',\n",
       "       'West, Mr. Edwy Arthur', 'West, Mrs. Edwy Arthur (Ada Mary Worth)',\n",
       "       'Wheadon, Mr. Edward H', 'White, Mr. Percival Wayland',\n",
       "       'White, Mr. Richard Frasar', 'Wick, Miss. Mary Natalie',\n",
       "       'Wick, Mrs. George Dennick (Mary Hitchcock)',\n",
       "       'Widegren, Mr. Carl/Charles Peter', 'Widener, Mr. Harry Elkins',\n",
       "       'Wiklund, Mr. Jakob Alfred', 'Wilhelms, Mr. Charles',\n",
       "       'Willey, Mr. Edward', 'Williams, Mr. Charles Duane',\n",
       "       'Williams, Mr. Charles Eugene',\n",
       "       'Williams, Mr. Howard Hugh \"Harry\"', 'Williams, Mr. Leslie',\n",
       "       'Williams-Lambert, Mr. Fletcher Fellows', 'Windelov, Mr. Einar',\n",
       "       'Wiseman, Mr. Phillippe', 'Woolner, Mr. Hugh',\n",
       "       'Wright, Mr. George', 'Yasbeck, Mr. Antoni',\n",
       "       'Yasbeck, Mrs. Antoni (Selini Alexander)',\n",
       "       'Young, Miss. Marie Grice', 'Youseff, Mr. Gerious',\n",
       "       'Yousif, Mr. Wazli', 'Yousseff, Mr. Gerious',\n",
       "       'Yrois, Miss. Henriette (\"Mrs Harbeck\")', 'Zabour, Miss. Hileni',\n",
       "       'Zabour, Miss. Thamine', 'Zimmerman, Mr. Leo',\n",
       "       'de Messemaeker, Mrs. Guillaume Joseph (Emma)',\n",
       "       'de Mulder, Mr. Theodore', 'de Pelsmaeker, Mr. Alfons',\n",
       "       'del Carlo, Mr. Sebastiano', 'van Billiard, Mr. Austin Blyler',\n",
       "       'van Melkebeke, Mr. Philemon'], dtype=object)"
      ]
     },
     "execution_count": 11,
     "metadata": {},
     "output_type": "execute_result"
    }
   ],
   "source": [
    "np.sort(titanic.Name)"
   ]
  },
  {
   "cell_type": "markdown",
   "id": "1dcbb183",
   "metadata": {},
   "source": [
    "Name is Unique but we see a lot of people with same family name, which can be used as a new feature"
   ]
  },
  {
   "cell_type": "markdown",
   "id": "d9735834",
   "metadata": {},
   "source": [
    "### Sex"
   ]
  },
  {
   "cell_type": "code",
   "execution_count": 12,
   "id": "bafd04da",
   "metadata": {
    "ExecuteTime": {
     "end_time": "2021-12-26T09:26:55.373753Z",
     "start_time": "2021-12-26T09:26:55.312698Z"
    }
   },
   "outputs": [
    {
     "name": "stdout",
     "output_type": "stream",
     "text": [
      "Data Type is object\n",
      "Number of Unique Values are 2\n",
      "Value Distribution: \n",
      "female    314\n",
      "male      577\n",
      "Name: Sex, dtype: int64\n"
     ]
    }
   ],
   "source": [
    "print(f'Data Type is {titanic.Sex.dtype}')\n",
    "print(f'Number of Unique Values are {titanic.Sex.nunique()}')\n",
    "print(f'Value Distribution: \\n{titanic.Sex.value_counts(sort=False)}')"
   ]
  },
  {
   "cell_type": "markdown",
   "id": "b1e96282",
   "metadata": {},
   "source": [
    "Gender is a categorical variable but encoded as string. We also see males are almost double of that of females."
   ]
  },
  {
   "cell_type": "markdown",
   "id": "f9c682f3",
   "metadata": {},
   "source": [
    "### Age"
   ]
  },
  {
   "cell_type": "code",
   "execution_count": 13,
   "id": "0a7b1008",
   "metadata": {
    "ExecuteTime": {
     "end_time": "2021-12-26T09:26:55.389768Z",
     "start_time": "2021-12-26T09:26:55.375755Z"
    }
   },
   "outputs": [
    {
     "name": "stdout",
     "output_type": "stream",
     "text": [
      "Data Type is float64\n",
      "Number of missing value is: 177\n"
     ]
    }
   ],
   "source": [
    "print(f'Data Type is {titanic.Age.dtype}')\n",
    "print(f'Number of missing value is: {titanic.Age.isna().sum()}')"
   ]
  },
  {
   "cell_type": "code",
   "execution_count": 14,
   "id": "1b9a37d7",
   "metadata": {
    "ExecuteTime": {
     "end_time": "2021-12-26T09:26:56.089396Z",
     "start_time": "2021-12-26T09:26:55.390769Z"
    }
   },
   "outputs": [
    {
     "data": {
      "image/png": "[encoded data removed]",
      "text/plain": [
       "<Figure size 576x396 with 2 Axes>"
      ]
     },
     "metadata": {},
     "output_type": "display_data"
    }
   ],
   "source": [
    "# let's visualize it's distribution\n",
    "fig, axis = plt.subplots(ncols=2)\n",
    "sns.histplot(titanic.Age, bins=8, ax=axis[0])\n",
    "sns.boxplot(x=titanic.Age, ax=axis[1])\n",
    "plt.show()"
   ]
  },
  {
   "cell_type": "markdown",
   "id": "79422255",
   "metadata": {},
   "source": [
    "Age distribution is concentrated at around 20-40 years Age. There are very few passengers above 60. There are some missing values which needs to be imputed."
   ]
  },
  {
   "cell_type": "markdown",
   "id": "ceb018e3",
   "metadata": {},
   "source": [
    "### SibSp(Number of Siblings/Spouses) & Parch(Number of Parents/Children)"
   ]
  },
  {
   "cell_type": "markdown",
   "id": "7a121635",
   "metadata": {},
   "source": [
    "We can create a column Family Size by adding these two columns."
   ]
  },
  {
   "cell_type": "code",
   "execution_count": 15,
   "id": "5f58e819",
   "metadata": {
    "ExecuteTime": {
     "end_time": "2021-12-26T09:26:56.105085Z",
     "start_time": "2021-12-26T09:26:56.090397Z"
    }
   },
   "outputs": [],
   "source": [
    "titanic['Family_Size'] = titanic.SibSp + titanic.Parch"
   ]
  },
  {
   "cell_type": "code",
   "execution_count": 16,
   "id": "5e06cc7f",
   "metadata": {
    "ExecuteTime": {
     "end_time": "2021-12-26T09:26:56.499204Z",
     "start_time": "2021-12-26T09:26:56.106086Z"
    }
   },
   "outputs": [
    {
     "data": {
      "text/plain": [
       "<seaborn.axisgrid.FacetGrid at 0x18f811f0978>"
      ]
     },
     "execution_count": 16,
     "metadata": {},
     "output_type": "execute_result"
    },
    {
     "data": {
      "image/png": "[encoded data removed]",
      "text/plain": [
       "<Figure size 360x360 with 1 Axes>"
      ]
     },
     "metadata": {},
     "output_type": "display_data"
    }
   ],
   "source": [
    "sns.displot(titanic.Family_Size)"
   ]
  },
  {
   "cell_type": "markdown",
   "id": "a8e12bdc",
   "metadata": {},
   "source": [
    "Maximum percentage of people are traveling alone."
   ]
  },
  {
   "cell_type": "markdown",
   "id": "c7379918",
   "metadata": {},
   "source": [
    "### Ticket"
   ]
  },
  {
   "cell_type": "code",
   "execution_count": 17,
   "id": "566aa80e",
   "metadata": {
    "ExecuteTime": {
     "end_time": "2021-12-26T09:26:56.563263Z",
     "start_time": "2021-12-26T09:26:56.500205Z"
    }
   },
   "outputs": [
    {
     "data": {
      "text/plain": [
       "347082      7\n",
       "1601        7\n",
       "CA. 2343    7\n",
       "347088      6\n",
       "CA 2144     6\n",
       "Name: Ticket, dtype: int64"
      ]
     },
     "execution_count": 17,
     "metadata": {},
     "output_type": "execute_result"
    }
   ],
   "source": [
    "titanic.Ticket.value_counts()[:5]"
   ]
  },
  {
   "cell_type": "markdown",
   "id": "73a826e0",
   "metadata": {},
   "source": [
    "We see some tickets are present multiple times in the dataset. This may mean multiple passengers traveling together were issued only one ticket. we will further inspect this later."
   ]
  },
  {
   "cell_type": "markdown",
   "id": "824c4cc2",
   "metadata": {},
   "source": [
    "### Fare"
   ]
  },
  {
   "cell_type": "code",
   "execution_count": 18,
   "id": "12e87609",
   "metadata": {
    "ExecuteTime": {
     "end_time": "2021-12-26T09:26:56.881552Z",
     "start_time": "2021-12-26T09:26:56.564263Z"
    }
   },
   "outputs": [
    {
     "data": {
      "image/png": "[encoded data removed]",
      "text/plain": [
       "<Figure size 576x396 with 1 Axes>"
      ]
     },
     "metadata": {},
     "output_type": "display_data"
    },
    {
     "data": {
      "image/png": "[encoded data removed]",
      "text/plain": [
       "<Figure size 576x396 with 1 Axes>"
      ]
     },
     "metadata": {},
     "output_type": "display_data"
    }
   ],
   "source": [
    "sns.boxplot(x=titanic.Fare)\n",
    "plt.show()\n",
    "draw_ecdf(titanic.Fare, 'Fare')"
   ]
  },
  {
   "cell_type": "markdown",
   "id": "c3cf6b55",
   "metadata": {},
   "source": [
    "We see there are some very big Fares. It may be due to registering total fare of group travelers(Passengers with same ticket) to every group member. To Check our hypothesis let's dig deeper."
   ]
  },
  {
   "cell_type": "code",
   "execution_count": 19,
   "id": "7db11e82",
   "metadata": {
    "ExecuteTime": {
     "end_time": "2021-12-26T09:26:56.897567Z",
     "start_time": "2021-12-26T09:26:56.882553Z"
    }
   },
   "outputs": [
    {
     "data": {
      "text/html": [
       "<div>\n",
       "<style scoped>\n",
       "    .dataframe tbody tr th:only-of-type {\n",
       "        vertical-align: middle;\n",
       "    }\n",
       "\n",
       "    .dataframe tbody tr th {\n",
       "        vertical-align: top;\n",
       "    }\n",
       "\n",
       "    .dataframe thead th {\n",
       "        text-align: right;\n",
       "    }\n",
       "</style>\n",
       "<table border=\"1\" class=\"dataframe\">\n",
       "  <thead>\n",
       "    <tr style=\"text-align: right;\">\n",
       "      <th></th>\n",
       "      <th>PassengerId</th>\n",
       "      <th>Survived</th>\n",
       "      <th>Pclass</th>\n",
       "      <th>Name</th>\n",
       "      <th>Sex</th>\n",
       "      <th>Age</th>\n",
       "      <th>SibSp</th>\n",
       "      <th>Parch</th>\n",
       "      <th>Ticket</th>\n",
       "      <th>Fare</th>\n",
       "      <th>Cabin</th>\n",
       "      <th>Embarked</th>\n",
       "      <th>Family_Size</th>\n",
       "    </tr>\n",
       "  </thead>\n",
       "  <tbody>\n",
       "    <tr>\n",
       "      <th>377</th>\n",
       "      <td>378</td>\n",
       "      <td>0</td>\n",
       "      <td>1</td>\n",
       "      <td>Widener, Mr. Harry Elkins</td>\n",
       "      <td>male</td>\n",
       "      <td>27.0</td>\n",
       "      <td>0</td>\n",
       "      <td>2</td>\n",
       "      <td>113503</td>\n",
       "      <td>211.5</td>\n",
       "      <td>C82</td>\n",
       "      <td>C</td>\n",
       "      <td>2</td>\n",
       "    </tr>\n",
       "  </tbody>\n",
       "</table>\n",
       "</div>"
      ],
      "text/plain": [
       "     PassengerId  Survived  Pclass                       Name   Sex   Age  \\\n",
       "377          378         0       1  Widener, Mr. Harry Elkins  male  27.0   \n",
       "\n",
       "     SibSp  Parch  Ticket   Fare Cabin Embarked  Family_Size  \n",
       "377      0      2  113503  211.5   C82        C            2  "
      ]
     },
     "execution_count": 19,
     "metadata": {},
     "output_type": "execute_result"
    }
   ],
   "source": [
    "titanic.query(\"Ticket == '113503'\")"
   ]
  },
  {
   "cell_type": "code",
   "execution_count": 20,
   "id": "f9cab816",
   "metadata": {
    "ExecuteTime": {
     "end_time": "2021-12-26T09:26:56.945610Z",
     "start_time": "2021-12-26T09:26:56.898568Z"
    }
   },
   "outputs": [
    {
     "data": {
      "text/html": [
       "<div>\n",
       "<style scoped>\n",
       "    .dataframe tbody tr th:only-of-type {\n",
       "        vertical-align: middle;\n",
       "    }\n",
       "\n",
       "    .dataframe tbody tr th {\n",
       "        vertical-align: top;\n",
       "    }\n",
       "\n",
       "    .dataframe thead th {\n",
       "        text-align: right;\n",
       "    }\n",
       "</style>\n",
       "<table border=\"1\" class=\"dataframe\">\n",
       "  <thead>\n",
       "    <tr style=\"text-align: right;\">\n",
       "      <th></th>\n",
       "      <th>PassengerId</th>\n",
       "      <th>Survived</th>\n",
       "      <th>Pclass</th>\n",
       "      <th>Name</th>\n",
       "      <th>Sex</th>\n",
       "      <th>Age</th>\n",
       "      <th>SibSp</th>\n",
       "      <th>Parch</th>\n",
       "      <th>Ticket</th>\n",
       "      <th>Fare</th>\n",
       "      <th>Cabin</th>\n",
       "      <th>Embarked</th>\n",
       "      <th>Family_Size</th>\n",
       "    </tr>\n",
       "  </thead>\n",
       "  <tbody>\n",
       "    <tr>\n",
       "      <th>257</th>\n",
       "      <td>258</td>\n",
       "      <td>1</td>\n",
       "      <td>1</td>\n",
       "      <td>Cherry, Miss. Gladys</td>\n",
       "      <td>female</td>\n",
       "      <td>30.0</td>\n",
       "      <td>0</td>\n",
       "      <td>0</td>\n",
       "      <td>110152</td>\n",
       "      <td>86.500</td>\n",
       "      <td>B77</td>\n",
       "      <td>S</td>\n",
       "      <td>0</td>\n",
       "    </tr>\n",
       "    <tr>\n",
       "      <th>504</th>\n",
       "      <td>505</td>\n",
       "      <td>1</td>\n",
       "      <td>1</td>\n",
       "      <td>Maioni, Miss. Roberta</td>\n",
       "      <td>female</td>\n",
       "      <td>16.0</td>\n",
       "      <td>0</td>\n",
       "      <td>0</td>\n",
       "      <td>110152</td>\n",
       "      <td>86.500</td>\n",
       "      <td>B79</td>\n",
       "      <td>S</td>\n",
       "      <td>0</td>\n",
       "    </tr>\n",
       "    <tr>\n",
       "      <th>759</th>\n",
       "      <td>760</td>\n",
       "      <td>1</td>\n",
       "      <td>1</td>\n",
       "      <td>Rothes, the Countess. of (Lucy Noel Martha Dye...</td>\n",
       "      <td>female</td>\n",
       "      <td>33.0</td>\n",
       "      <td>0</td>\n",
       "      <td>0</td>\n",
       "      <td>110152</td>\n",
       "      <td>86.500</td>\n",
       "      <td>B77</td>\n",
       "      <td>S</td>\n",
       "      <td>0</td>\n",
       "    </tr>\n",
       "    <tr>\n",
       "      <th>558</th>\n",
       "      <td>559</td>\n",
       "      <td>1</td>\n",
       "      <td>1</td>\n",
       "      <td>Taussig, Mrs. Emil (Tillie Mandelbaum)</td>\n",
       "      <td>female</td>\n",
       "      <td>39.0</td>\n",
       "      <td>1</td>\n",
       "      <td>1</td>\n",
       "      <td>110413</td>\n",
       "      <td>79.650</td>\n",
       "      <td>E67</td>\n",
       "      <td>S</td>\n",
       "      <td>2</td>\n",
       "    </tr>\n",
       "    <tr>\n",
       "      <th>262</th>\n",
       "      <td>263</td>\n",
       "      <td>0</td>\n",
       "      <td>1</td>\n",
       "      <td>Taussig, Mr. Emil</td>\n",
       "      <td>male</td>\n",
       "      <td>52.0</td>\n",
       "      <td>1</td>\n",
       "      <td>1</td>\n",
       "      <td>110413</td>\n",
       "      <td>79.650</td>\n",
       "      <td>E67</td>\n",
       "      <td>S</td>\n",
       "      <td>2</td>\n",
       "    </tr>\n",
       "    <tr>\n",
       "      <th>...</th>\n",
       "      <td>...</td>\n",
       "      <td>...</td>\n",
       "      <td>...</td>\n",
       "      <td>...</td>\n",
       "      <td>...</td>\n",
       "      <td>...</td>\n",
       "      <td>...</td>\n",
       "      <td>...</td>\n",
       "      <td>...</td>\n",
       "      <td>...</td>\n",
       "      <td>...</td>\n",
       "      <td>...</td>\n",
       "      <td>...</td>\n",
       "    </tr>\n",
       "    <tr>\n",
       "      <th>72</th>\n",
       "      <td>73</td>\n",
       "      <td>0</td>\n",
       "      <td>2</td>\n",
       "      <td>Hood, Mr. Ambrose Jr</td>\n",
       "      <td>male</td>\n",
       "      <td>21.0</td>\n",
       "      <td>0</td>\n",
       "      <td>0</td>\n",
       "      <td>S.O.C. 14879</td>\n",
       "      <td>73.500</td>\n",
       "      <td>NaN</td>\n",
       "      <td>S</td>\n",
       "      <td>0</td>\n",
       "    </tr>\n",
       "    <tr>\n",
       "      <th>665</th>\n",
       "      <td>666</td>\n",
       "      <td>0</td>\n",
       "      <td>2</td>\n",
       "      <td>Hickman, Mr. Lewis</td>\n",
       "      <td>male</td>\n",
       "      <td>32.0</td>\n",
       "      <td>2</td>\n",
       "      <td>0</td>\n",
       "      <td>S.O.C. 14879</td>\n",
       "      <td>73.500</td>\n",
       "      <td>NaN</td>\n",
       "      <td>S</td>\n",
       "      <td>2</td>\n",
       "    </tr>\n",
       "    <tr>\n",
       "      <th>92</th>\n",
       "      <td>93</td>\n",
       "      <td>0</td>\n",
       "      <td>1</td>\n",
       "      <td>Chaffee, Mr. Herbert Fuller</td>\n",
       "      <td>male</td>\n",
       "      <td>46.0</td>\n",
       "      <td>1</td>\n",
       "      <td>0</td>\n",
       "      <td>W.E.P. 5734</td>\n",
       "      <td>61.175</td>\n",
       "      <td>E31</td>\n",
       "      <td>S</td>\n",
       "      <td>1</td>\n",
       "    </tr>\n",
       "    <tr>\n",
       "      <th>745</th>\n",
       "      <td>746</td>\n",
       "      <td>0</td>\n",
       "      <td>1</td>\n",
       "      <td>Crosby, Capt. Edward Gifford</td>\n",
       "      <td>male</td>\n",
       "      <td>70.0</td>\n",
       "      <td>1</td>\n",
       "      <td>1</td>\n",
       "      <td>WE/P 5735</td>\n",
       "      <td>71.000</td>\n",
       "      <td>B22</td>\n",
       "      <td>S</td>\n",
       "      <td>2</td>\n",
       "    </tr>\n",
       "    <tr>\n",
       "      <th>540</th>\n",
       "      <td>541</td>\n",
       "      <td>1</td>\n",
       "      <td>1</td>\n",
       "      <td>Crosby, Miss. Harriet R</td>\n",
       "      <td>female</td>\n",
       "      <td>36.0</td>\n",
       "      <td>0</td>\n",
       "      <td>2</td>\n",
       "      <td>WE/P 5735</td>\n",
       "      <td>71.000</td>\n",
       "      <td>B22</td>\n",
       "      <td>S</td>\n",
       "      <td>2</td>\n",
       "    </tr>\n",
       "  </tbody>\n",
       "</table>\n",
       "<p>160 rows × 13 columns</p>\n",
       "</div>"
      ],
      "text/plain": [
       "     PassengerId  Survived  Pclass  \\\n",
       "257          258         1       1   \n",
       "504          505         1       1   \n",
       "759          760         1       1   \n",
       "558          559         1       1   \n",
       "262          263         0       1   \n",
       "..           ...       ...     ...   \n",
       "72            73         0       2   \n",
       "665          666         0       2   \n",
       "92            93         0       1   \n",
       "745          746         0       1   \n",
       "540          541         1       1   \n",
       "\n",
       "                                                  Name     Sex   Age  SibSp  \\\n",
       "257                               Cherry, Miss. Gladys  female  30.0      0   \n",
       "504                              Maioni, Miss. Roberta  female  16.0      0   \n",
       "759  Rothes, the Countess. of (Lucy Noel Martha Dye...  female  33.0      0   \n",
       "558             Taussig, Mrs. Emil (Tillie Mandelbaum)  female  39.0      1   \n",
       "262                                  Taussig, Mr. Emil    male  52.0      1   \n",
       "..                                                 ...     ...   ...    ...   \n",
       "72                                Hood, Mr. Ambrose Jr    male  21.0      0   \n",
       "665                                 Hickman, Mr. Lewis    male  32.0      2   \n",
       "92                         Chaffee, Mr. Herbert Fuller    male  46.0      1   \n",
       "745                       Crosby, Capt. Edward Gifford    male  70.0      1   \n",
       "540                            Crosby, Miss. Harriet R  female  36.0      0   \n",
       "\n",
       "     Parch        Ticket    Fare Cabin Embarked  Family_Size  \n",
       "257      0        110152  86.500   B77        S            0  \n",
       "504      0        110152  86.500   B79        S            0  \n",
       "759      0        110152  86.500   B77        S            0  \n",
       "558      1        110413  79.650   E67        S            2  \n",
       "262      1        110413  79.650   E67        S            2  \n",
       "..     ...           ...     ...   ...      ...          ...  \n",
       "72       0  S.O.C. 14879  73.500   NaN        S            0  \n",
       "665      0  S.O.C. 14879  73.500   NaN        S            2  \n",
       "92       0   W.E.P. 5734  61.175   E31        S            1  \n",
       "745      1     WE/P 5735  71.000   B22        S            2  \n",
       "540      2     WE/P 5735  71.000   B22        S            2  \n",
       "\n",
       "[160 rows x 13 columns]"
      ]
     },
     "execution_count": 20,
     "metadata": {},
     "output_type": "execute_result"
    }
   ],
   "source": [
    "# we took 50 as threshold as from ECDF we see that more than 80% Fare is less than 50$.\n",
    "titanic[titanic.Fare > 50].sort_values('Ticket')"
   ]
  },
  {
   "cell_type": "markdown",
   "id": "a6b7e532",
   "metadata": {},
   "source": [
    "From visual inspection of Data we see that our hypothesis is highly likely to be true."
   ]
  },
  {
   "cell_type": "code",
   "execution_count": 21,
   "id": "3d8eab38",
   "metadata": {
    "ExecuteTime": {
     "end_time": "2021-12-26T09:26:57.009669Z",
     "start_time": "2021-12-26T09:26:56.946611Z"
    }
   },
   "outputs": [
    {
     "data": {
      "text/plain": [
       "PC 17755    3\n",
       "PC 17558    2\n",
       "PC 17608    2\n",
       "113503      1\n",
       "PC 17483    1\n",
       "Name: Ticket, dtype: int64"
      ]
     },
     "execution_count": 21,
     "metadata": {},
     "output_type": "execute_result"
    }
   ],
   "source": [
    "# A lucky break\n",
    "titanic.query('Fare > 200').Ticket.value_counts().tail()"
   ]
  },
  {
   "cell_type": "markdown",
   "id": "6f221b87",
   "metadata": {},
   "source": [
    "There are two passengers who has >200$ Fare but has no one with same ticket. What's Going on!!"
   ]
  },
  {
   "cell_type": "code",
   "execution_count": 22,
   "id": "e68177eb",
   "metadata": {
    "ExecuteTime": {
     "end_time": "2021-12-26T09:26:57.025683Z",
     "start_time": "2021-12-26T09:26:57.010670Z"
    }
   },
   "outputs": [
    {
     "data": {
      "text/html": [
       "<div>\n",
       "<style scoped>\n",
       "    .dataframe tbody tr th:only-of-type {\n",
       "        vertical-align: middle;\n",
       "    }\n",
       "\n",
       "    .dataframe tbody tr th {\n",
       "        vertical-align: top;\n",
       "    }\n",
       "\n",
       "    .dataframe thead th {\n",
       "        text-align: right;\n",
       "    }\n",
       "</style>\n",
       "<table border=\"1\" class=\"dataframe\">\n",
       "  <thead>\n",
       "    <tr style=\"text-align: right;\">\n",
       "      <th></th>\n",
       "      <th>PassengerId</th>\n",
       "      <th>Survived</th>\n",
       "      <th>Pclass</th>\n",
       "      <th>Name</th>\n",
       "      <th>Sex</th>\n",
       "      <th>Age</th>\n",
       "      <th>SibSp</th>\n",
       "      <th>Parch</th>\n",
       "      <th>Ticket</th>\n",
       "      <th>Fare</th>\n",
       "      <th>Cabin</th>\n",
       "      <th>Embarked</th>\n",
       "      <th>Family_Size</th>\n",
       "    </tr>\n",
       "  </thead>\n",
       "  <tbody>\n",
       "    <tr>\n",
       "      <th>377</th>\n",
       "      <td>378</td>\n",
       "      <td>0</td>\n",
       "      <td>1</td>\n",
       "      <td>Widener, Mr. Harry Elkins</td>\n",
       "      <td>male</td>\n",
       "      <td>27.0</td>\n",
       "      <td>0</td>\n",
       "      <td>2</td>\n",
       "      <td>113503</td>\n",
       "      <td>211.5000</td>\n",
       "      <td>C82</td>\n",
       "      <td>C</td>\n",
       "      <td>2</td>\n",
       "    </tr>\n",
       "    <tr>\n",
       "      <th>527</th>\n",
       "      <td>528</td>\n",
       "      <td>0</td>\n",
       "      <td>1</td>\n",
       "      <td>Farthing, Mr. John</td>\n",
       "      <td>male</td>\n",
       "      <td>NaN</td>\n",
       "      <td>0</td>\n",
       "      <td>0</td>\n",
       "      <td>PC 17483</td>\n",
       "      <td>221.7792</td>\n",
       "      <td>C95</td>\n",
       "      <td>S</td>\n",
       "      <td>0</td>\n",
       "    </tr>\n",
       "  </tbody>\n",
       "</table>\n",
       "</div>"
      ],
      "text/plain": [
       "     PassengerId  Survived  Pclass                       Name   Sex   Age  \\\n",
       "377          378         0       1  Widener, Mr. Harry Elkins  male  27.0   \n",
       "527          528         0       1         Farthing, Mr. John  male   NaN   \n",
       "\n",
       "     SibSp  Parch    Ticket      Fare Cabin Embarked  Family_Size  \n",
       "377      0      2    113503  211.5000   C82        C            2  \n",
       "527      0      0  PC 17483  221.7792   C95        S            0  "
      ]
     },
     "execution_count": 22,
     "metadata": {},
     "output_type": "execute_result"
    }
   ],
   "source": [
    "titanic.query(\"Ticket == '113503' | Ticket == 'PC 17483'\")"
   ]
  },
  {
   "cell_type": "markdown",
   "id": "b69a020b",
   "metadata": {},
   "source": [
    "We see though 'Widener, Mr. Harry Elkins' has no one with same ticket but looks like he has 2 Family members on board. But 'Farthing, Mr. John' has no family members on board. So, let's check it out."
   ]
  },
  {
   "cell_type": "code",
   "execution_count": 23,
   "id": "fd6d8d44",
   "metadata": {
    "ExecuteTime": {
     "end_time": "2021-12-26T09:26:57.041698Z",
     "start_time": "2021-12-26T09:26:57.026684Z"
    }
   },
   "outputs": [
    {
     "data": {
      "text/html": [
       "<div>\n",
       "<style scoped>\n",
       "    .dataframe tbody tr th:only-of-type {\n",
       "        vertical-align: middle;\n",
       "    }\n",
       "\n",
       "    .dataframe tbody tr th {\n",
       "        vertical-align: top;\n",
       "    }\n",
       "\n",
       "    .dataframe thead th {\n",
       "        text-align: right;\n",
       "    }\n",
       "</style>\n",
       "<table border=\"1\" class=\"dataframe\">\n",
       "  <thead>\n",
       "    <tr style=\"text-align: right;\">\n",
       "      <th></th>\n",
       "      <th>PassengerId</th>\n",
       "      <th>Survived</th>\n",
       "      <th>Pclass</th>\n",
       "      <th>Name</th>\n",
       "      <th>Sex</th>\n",
       "      <th>Age</th>\n",
       "      <th>SibSp</th>\n",
       "      <th>Parch</th>\n",
       "      <th>Ticket</th>\n",
       "      <th>Fare</th>\n",
       "      <th>Cabin</th>\n",
       "      <th>Embarked</th>\n",
       "      <th>Family_Size</th>\n",
       "    </tr>\n",
       "  </thead>\n",
       "  <tbody>\n",
       "    <tr>\n",
       "      <th>377</th>\n",
       "      <td>378</td>\n",
       "      <td>0</td>\n",
       "      <td>1</td>\n",
       "      <td>Widener, Mr. Harry Elkins</td>\n",
       "      <td>male</td>\n",
       "      <td>27.0</td>\n",
       "      <td>0</td>\n",
       "      <td>2</td>\n",
       "      <td>113503</td>\n",
       "      <td>211.5</td>\n",
       "      <td>C82</td>\n",
       "      <td>C</td>\n",
       "      <td>2</td>\n",
       "    </tr>\n",
       "  </tbody>\n",
       "</table>\n",
       "</div>"
      ],
      "text/plain": [
       "     PassengerId  Survived  Pclass                       Name   Sex   Age  \\\n",
       "377          378         0       1  Widener, Mr. Harry Elkins  male  27.0   \n",
       "\n",
       "     SibSp  Parch  Ticket   Fare Cabin Embarked  Family_Size  \n",
       "377      0      2  113503  211.5   C82        C            2  "
      ]
     },
     "execution_count": 23,
     "metadata": {},
     "output_type": "execute_result"
    }
   ],
   "source": [
    "titanic[titanic.Name.str.contains('Widener')]"
   ]
  },
  {
   "cell_type": "code",
   "execution_count": 24,
   "id": "066c38e5",
   "metadata": {
    "ExecuteTime": {
     "end_time": "2021-12-26T09:26:57.087740Z",
     "start_time": "2021-12-26T09:26:57.042699Z"
    },
    "scrolled": true
   },
   "outputs": [
    {
     "data": {
      "text/html": [
       "<div>\n",
       "<style scoped>\n",
       "    .dataframe tbody tr th:only-of-type {\n",
       "        vertical-align: middle;\n",
       "    }\n",
       "\n",
       "    .dataframe tbody tr th {\n",
       "        vertical-align: top;\n",
       "    }\n",
       "\n",
       "    .dataframe thead th {\n",
       "        text-align: right;\n",
       "    }\n",
       "</style>\n",
       "<table border=\"1\" class=\"dataframe\">\n",
       "  <thead>\n",
       "    <tr style=\"text-align: right;\">\n",
       "      <th></th>\n",
       "      <th>PassengerId</th>\n",
       "      <th>Survived</th>\n",
       "      <th>Pclass</th>\n",
       "      <th>Name</th>\n",
       "      <th>Sex</th>\n",
       "      <th>Age</th>\n",
       "      <th>SibSp</th>\n",
       "      <th>Parch</th>\n",
       "      <th>Ticket</th>\n",
       "      <th>Fare</th>\n",
       "      <th>Cabin</th>\n",
       "      <th>Embarked</th>\n",
       "      <th>Family_Size</th>\n",
       "    </tr>\n",
       "  </thead>\n",
       "  <tbody>\n",
       "    <tr>\n",
       "      <th>571</th>\n",
       "      <td>572</td>\n",
       "      <td>1</td>\n",
       "      <td>1</td>\n",
       "      <td>Appleton, Mrs. Edward Dale (Charlotte Lamson)</td>\n",
       "      <td>female</td>\n",
       "      <td>53.00</td>\n",
       "      <td>2</td>\n",
       "      <td>0</td>\n",
       "      <td>11769</td>\n",
       "      <td>51.4792</td>\n",
       "      <td>C101</td>\n",
       "      <td>S</td>\n",
       "      <td>2</td>\n",
       "    </tr>\n",
       "    <tr>\n",
       "      <th>11</th>\n",
       "      <td>12</td>\n",
       "      <td>1</td>\n",
       "      <td>1</td>\n",
       "      <td>Bonnell, Miss. Elizabeth</td>\n",
       "      <td>female</td>\n",
       "      <td>58.00</td>\n",
       "      <td>0</td>\n",
       "      <td>0</td>\n",
       "      <td>113783</td>\n",
       "      <td>26.5500</td>\n",
       "      <td>C103</td>\n",
       "      <td>S</td>\n",
       "      <td>0</td>\n",
       "    </tr>\n",
       "    <tr>\n",
       "      <th>449</th>\n",
       "      <td>450</td>\n",
       "      <td>1</td>\n",
       "      <td>1</td>\n",
       "      <td>Peuchen, Major. Arthur Godfrey</td>\n",
       "      <td>male</td>\n",
       "      <td>52.00</td>\n",
       "      <td>0</td>\n",
       "      <td>0</td>\n",
       "      <td>113786</td>\n",
       "      <td>30.5000</td>\n",
       "      <td>C104</td>\n",
       "      <td>S</td>\n",
       "      <td>0</td>\n",
       "    </tr>\n",
       "    <tr>\n",
       "      <th>298</th>\n",
       "      <td>299</td>\n",
       "      <td>1</td>\n",
       "      <td>1</td>\n",
       "      <td>Saalfeld, Mr. Adolphe</td>\n",
       "      <td>male</td>\n",
       "      <td>NaN</td>\n",
       "      <td>0</td>\n",
       "      <td>0</td>\n",
       "      <td>19988</td>\n",
       "      <td>30.5000</td>\n",
       "      <td>C106</td>\n",
       "      <td>S</td>\n",
       "      <td>0</td>\n",
       "    </tr>\n",
       "    <tr>\n",
       "      <th>110</th>\n",
       "      <td>111</td>\n",
       "      <td>0</td>\n",
       "      <td>1</td>\n",
       "      <td>Porter, Mr. Walter Chamberlain</td>\n",
       "      <td>male</td>\n",
       "      <td>47.00</td>\n",
       "      <td>0</td>\n",
       "      <td>0</td>\n",
       "      <td>110465</td>\n",
       "      <td>52.0000</td>\n",
       "      <td>C110</td>\n",
       "      <td>S</td>\n",
       "      <td>0</td>\n",
       "    </tr>\n",
       "    <tr>\n",
       "      <th>452</th>\n",
       "      <td>453</td>\n",
       "      <td>0</td>\n",
       "      <td>1</td>\n",
       "      <td>Foreman, Mr. Benjamin Laventall</td>\n",
       "      <td>male</td>\n",
       "      <td>30.00</td>\n",
       "      <td>0</td>\n",
       "      <td>0</td>\n",
       "      <td>113051</td>\n",
       "      <td>27.7500</td>\n",
       "      <td>C111</td>\n",
       "      <td>C</td>\n",
       "      <td>0</td>\n",
       "    </tr>\n",
       "    <tr>\n",
       "      <th>273</th>\n",
       "      <td>274</td>\n",
       "      <td>0</td>\n",
       "      <td>1</td>\n",
       "      <td>Natsch, Mr. Charles H</td>\n",
       "      <td>male</td>\n",
       "      <td>37.00</td>\n",
       "      <td>0</td>\n",
       "      <td>1</td>\n",
       "      <td>PC 17596</td>\n",
       "      <td>29.7000</td>\n",
       "      <td>C118</td>\n",
       "      <td>C</td>\n",
       "      <td>1</td>\n",
       "    </tr>\n",
       "    <tr>\n",
       "      <th>3</th>\n",
       "      <td>4</td>\n",
       "      <td>1</td>\n",
       "      <td>1</td>\n",
       "      <td>Futrelle, Mrs. Jacques Heath (Lily May Peel)</td>\n",
       "      <td>female</td>\n",
       "      <td>35.00</td>\n",
       "      <td>1</td>\n",
       "      <td>0</td>\n",
       "      <td>113803</td>\n",
       "      <td>53.1000</td>\n",
       "      <td>C123</td>\n",
       "      <td>S</td>\n",
       "      <td>1</td>\n",
       "    </tr>\n",
       "    <tr>\n",
       "      <th>137</th>\n",
       "      <td>138</td>\n",
       "      <td>0</td>\n",
       "      <td>1</td>\n",
       "      <td>Futrelle, Mr. Jacques Heath</td>\n",
       "      <td>male</td>\n",
       "      <td>37.00</td>\n",
       "      <td>1</td>\n",
       "      <td>0</td>\n",
       "      <td>113803</td>\n",
       "      <td>53.1000</td>\n",
       "      <td>C123</td>\n",
       "      <td>S</td>\n",
       "      <td>1</td>\n",
       "    </tr>\n",
       "    <tr>\n",
       "      <th>711</th>\n",
       "      <td>712</td>\n",
       "      <td>0</td>\n",
       "      <td>1</td>\n",
       "      <td>Klaber, Mr. Herman</td>\n",
       "      <td>male</td>\n",
       "      <td>NaN</td>\n",
       "      <td>0</td>\n",
       "      <td>0</td>\n",
       "      <td>113028</td>\n",
       "      <td>26.5500</td>\n",
       "      <td>C124</td>\n",
       "      <td>S</td>\n",
       "      <td>0</td>\n",
       "    </tr>\n",
       "    <tr>\n",
       "      <th>331</th>\n",
       "      <td>332</td>\n",
       "      <td>0</td>\n",
       "      <td>1</td>\n",
       "      <td>Partner, Mr. Austen</td>\n",
       "      <td>male</td>\n",
       "      <td>45.50</td>\n",
       "      <td>0</td>\n",
       "      <td>0</td>\n",
       "      <td>113043</td>\n",
       "      <td>28.5000</td>\n",
       "      <td>C124</td>\n",
       "      <td>S</td>\n",
       "      <td>0</td>\n",
       "    </tr>\n",
       "    <tr>\n",
       "      <th>609</th>\n",
       "      <td>610</td>\n",
       "      <td>1</td>\n",
       "      <td>1</td>\n",
       "      <td>Shutes, Miss. Elizabeth W</td>\n",
       "      <td>female</td>\n",
       "      <td>40.00</td>\n",
       "      <td>0</td>\n",
       "      <td>0</td>\n",
       "      <td>PC 17582</td>\n",
       "      <td>153.4625</td>\n",
       "      <td>C125</td>\n",
       "      <td>S</td>\n",
       "      <td>0</td>\n",
       "    </tr>\n",
       "    <tr>\n",
       "      <th>268</th>\n",
       "      <td>269</td>\n",
       "      <td>1</td>\n",
       "      <td>1</td>\n",
       "      <td>Graham, Mrs. William Thompson (Edith Junkins)</td>\n",
       "      <td>female</td>\n",
       "      <td>58.00</td>\n",
       "      <td>0</td>\n",
       "      <td>1</td>\n",
       "      <td>PC 17582</td>\n",
       "      <td>153.4625</td>\n",
       "      <td>C125</td>\n",
       "      <td>S</td>\n",
       "      <td>1</td>\n",
       "    </tr>\n",
       "    <tr>\n",
       "      <th>712</th>\n",
       "      <td>713</td>\n",
       "      <td>1</td>\n",
       "      <td>1</td>\n",
       "      <td>Taylor, Mr. Elmer Zebley</td>\n",
       "      <td>male</td>\n",
       "      <td>48.00</td>\n",
       "      <td>1</td>\n",
       "      <td>0</td>\n",
       "      <td>19996</td>\n",
       "      <td>52.0000</td>\n",
       "      <td>C126</td>\n",
       "      <td>S</td>\n",
       "      <td>1</td>\n",
       "    </tr>\n",
       "    <tr>\n",
       "      <th>669</th>\n",
       "      <td>670</td>\n",
       "      <td>1</td>\n",
       "      <td>1</td>\n",
       "      <td>Taylor, Mrs. Elmer Zebley (Juliet Cummins Wright)</td>\n",
       "      <td>female</td>\n",
       "      <td>NaN</td>\n",
       "      <td>1</td>\n",
       "      <td>0</td>\n",
       "      <td>19996</td>\n",
       "      <td>52.0000</td>\n",
       "      <td>C126</td>\n",
       "      <td>S</td>\n",
       "      <td>1</td>\n",
       "    </tr>\n",
       "    <tr>\n",
       "      <th>351</th>\n",
       "      <td>352</td>\n",
       "      <td>0</td>\n",
       "      <td>1</td>\n",
       "      <td>Williams-Lambert, Mr. Fletcher Fellows</td>\n",
       "      <td>male</td>\n",
       "      <td>NaN</td>\n",
       "      <td>0</td>\n",
       "      <td>0</td>\n",
       "      <td>113510</td>\n",
       "      <td>35.0000</td>\n",
       "      <td>C128</td>\n",
       "      <td>S</td>\n",
       "      <td>0</td>\n",
       "    </tr>\n",
       "    <tr>\n",
       "      <th>889</th>\n",
       "      <td>890</td>\n",
       "      <td>1</td>\n",
       "      <td>1</td>\n",
       "      <td>Behr, Mr. Karl Howell</td>\n",
       "      <td>male</td>\n",
       "      <td>26.00</td>\n",
       "      <td>0</td>\n",
       "      <td>0</td>\n",
       "      <td>111369</td>\n",
       "      <td>30.0000</td>\n",
       "      <td>C148</td>\n",
       "      <td>C</td>\n",
       "      <td>0</td>\n",
       "    </tr>\n",
       "    <tr>\n",
       "      <th>151</th>\n",
       "      <td>152</td>\n",
       "      <td>1</td>\n",
       "      <td>1</td>\n",
       "      <td>Pears, Mrs. Thomas (Edith Wearne)</td>\n",
       "      <td>female</td>\n",
       "      <td>22.00</td>\n",
       "      <td>1</td>\n",
       "      <td>0</td>\n",
       "      <td>113776</td>\n",
       "      <td>66.6000</td>\n",
       "      <td>C2</td>\n",
       "      <td>S</td>\n",
       "      <td>1</td>\n",
       "    </tr>\n",
       "    <tr>\n",
       "      <th>336</th>\n",
       "      <td>337</td>\n",
       "      <td>0</td>\n",
       "      <td>1</td>\n",
       "      <td>Pears, Mr. Thomas Clinton</td>\n",
       "      <td>male</td>\n",
       "      <td>29.00</td>\n",
       "      <td>1</td>\n",
       "      <td>0</td>\n",
       "      <td>113776</td>\n",
       "      <td>66.6000</td>\n",
       "      <td>C2</td>\n",
       "      <td>S</td>\n",
       "      <td>1</td>\n",
       "    </tr>\n",
       "    <tr>\n",
       "      <th>297</th>\n",
       "      <td>298</td>\n",
       "      <td>0</td>\n",
       "      <td>1</td>\n",
       "      <td>Allison, Miss. Helen Loraine</td>\n",
       "      <td>female</td>\n",
       "      <td>2.00</td>\n",
       "      <td>1</td>\n",
       "      <td>2</td>\n",
       "      <td>113781</td>\n",
       "      <td>151.5500</td>\n",
       "      <td>C22 C26</td>\n",
       "      <td>S</td>\n",
       "      <td>3</td>\n",
       "    </tr>\n",
       "    <tr>\n",
       "      <th>305</th>\n",
       "      <td>306</td>\n",
       "      <td>1</td>\n",
       "      <td>1</td>\n",
       "      <td>Allison, Master. Hudson Trevor</td>\n",
       "      <td>male</td>\n",
       "      <td>0.92</td>\n",
       "      <td>1</td>\n",
       "      <td>2</td>\n",
       "      <td>113781</td>\n",
       "      <td>151.5500</td>\n",
       "      <td>C22 C26</td>\n",
       "      <td>S</td>\n",
       "      <td>3</td>\n",
       "    </tr>\n",
       "    <tr>\n",
       "      <th>498</th>\n",
       "      <td>499</td>\n",
       "      <td>0</td>\n",
       "      <td>1</td>\n",
       "      <td>Allison, Mrs. Hudson J C (Bessie Waldo Daniels)</td>\n",
       "      <td>female</td>\n",
       "      <td>25.00</td>\n",
       "      <td>1</td>\n",
       "      <td>2</td>\n",
       "      <td>113781</td>\n",
       "      <td>151.5500</td>\n",
       "      <td>C22 C26</td>\n",
       "      <td>S</td>\n",
       "      <td>3</td>\n",
       "    </tr>\n",
       "    <tr>\n",
       "      <th>438</th>\n",
       "      <td>439</td>\n",
       "      <td>0</td>\n",
       "      <td>1</td>\n",
       "      <td>Fortune, Mr. Mark</td>\n",
       "      <td>male</td>\n",
       "      <td>64.00</td>\n",
       "      <td>1</td>\n",
       "      <td>4</td>\n",
       "      <td>19950</td>\n",
       "      <td>263.0000</td>\n",
       "      <td>C23 C25 C27</td>\n",
       "      <td>S</td>\n",
       "      <td>5</td>\n",
       "    </tr>\n",
       "    <tr>\n",
       "      <th>88</th>\n",
       "      <td>89</td>\n",
       "      <td>1</td>\n",
       "      <td>1</td>\n",
       "      <td>Fortune, Miss. Mabel Helen</td>\n",
       "      <td>female</td>\n",
       "      <td>23.00</td>\n",
       "      <td>3</td>\n",
       "      <td>2</td>\n",
       "      <td>19950</td>\n",
       "      <td>263.0000</td>\n",
       "      <td>C23 C25 C27</td>\n",
       "      <td>S</td>\n",
       "      <td>5</td>\n",
       "    </tr>\n",
       "    <tr>\n",
       "      <th>27</th>\n",
       "      <td>28</td>\n",
       "      <td>0</td>\n",
       "      <td>1</td>\n",
       "      <td>Fortune, Mr. Charles Alexander</td>\n",
       "      <td>male</td>\n",
       "      <td>19.00</td>\n",
       "      <td>3</td>\n",
       "      <td>2</td>\n",
       "      <td>19950</td>\n",
       "      <td>263.0000</td>\n",
       "      <td>C23 C25 C27</td>\n",
       "      <td>S</td>\n",
       "      <td>5</td>\n",
       "    </tr>\n",
       "    <tr>\n",
       "      <th>341</th>\n",
       "      <td>342</td>\n",
       "      <td>1</td>\n",
       "      <td>1</td>\n",
       "      <td>Fortune, Miss. Alice Elizabeth</td>\n",
       "      <td>female</td>\n",
       "      <td>24.00</td>\n",
       "      <td>3</td>\n",
       "      <td>2</td>\n",
       "      <td>19950</td>\n",
       "      <td>263.0000</td>\n",
       "      <td>C23 C25 C27</td>\n",
       "      <td>S</td>\n",
       "      <td>5</td>\n",
       "    </tr>\n",
       "    <tr>\n",
       "      <th>492</th>\n",
       "      <td>493</td>\n",
       "      <td>0</td>\n",
       "      <td>1</td>\n",
       "      <td>Molson, Mr. Harry Markland</td>\n",
       "      <td>male</td>\n",
       "      <td>55.00</td>\n",
       "      <td>0</td>\n",
       "      <td>0</td>\n",
       "      <td>113787</td>\n",
       "      <td>30.5000</td>\n",
       "      <td>C30</td>\n",
       "      <td>S</td>\n",
       "      <td>0</td>\n",
       "    </tr>\n",
       "    <tr>\n",
       "      <th>325</th>\n",
       "      <td>326</td>\n",
       "      <td>1</td>\n",
       "      <td>1</td>\n",
       "      <td>Young, Miss. Marie Grice</td>\n",
       "      <td>female</td>\n",
       "      <td>36.00</td>\n",
       "      <td>0</td>\n",
       "      <td>0</td>\n",
       "      <td>PC 17760</td>\n",
       "      <td>135.6333</td>\n",
       "      <td>C32</td>\n",
       "      <td>C</td>\n",
       "      <td>0</td>\n",
       "    </tr>\n",
       "    <tr>\n",
       "      <th>716</th>\n",
       "      <td>717</td>\n",
       "      <td>1</td>\n",
       "      <td>1</td>\n",
       "      <td>Endres, Miss. Caroline Louise</td>\n",
       "      <td>female</td>\n",
       "      <td>38.00</td>\n",
       "      <td>0</td>\n",
       "      <td>0</td>\n",
       "      <td>PC 17757</td>\n",
       "      <td>227.5250</td>\n",
       "      <td>C45</td>\n",
       "      <td>C</td>\n",
       "      <td>0</td>\n",
       "    </tr>\n",
       "    <tr>\n",
       "      <th>741</th>\n",
       "      <td>742</td>\n",
       "      <td>0</td>\n",
       "      <td>1</td>\n",
       "      <td>Cavendish, Mr. Tyrell William</td>\n",
       "      <td>male</td>\n",
       "      <td>36.00</td>\n",
       "      <td>1</td>\n",
       "      <td>0</td>\n",
       "      <td>19877</td>\n",
       "      <td>78.8500</td>\n",
       "      <td>C46</td>\n",
       "      <td>S</td>\n",
       "      <td>1</td>\n",
       "    </tr>\n",
       "    <tr>\n",
       "      <th>839</th>\n",
       "      <td>840</td>\n",
       "      <td>1</td>\n",
       "      <td>1</td>\n",
       "      <td>Marechal, Mr. Pierre</td>\n",
       "      <td>male</td>\n",
       "      <td>NaN</td>\n",
       "      <td>0</td>\n",
       "      <td>0</td>\n",
       "      <td>11774</td>\n",
       "      <td>29.7000</td>\n",
       "      <td>C47</td>\n",
       "      <td>C</td>\n",
       "      <td>0</td>\n",
       "    </tr>\n",
       "    <tr>\n",
       "      <th>177</th>\n",
       "      <td>178</td>\n",
       "      <td>0</td>\n",
       "      <td>1</td>\n",
       "      <td>Isham, Miss. Ann Elizabeth</td>\n",
       "      <td>female</td>\n",
       "      <td>50.00</td>\n",
       "      <td>0</td>\n",
       "      <td>0</td>\n",
       "      <td>PC 17595</td>\n",
       "      <td>28.7125</td>\n",
       "      <td>C49</td>\n",
       "      <td>C</td>\n",
       "      <td>0</td>\n",
       "    </tr>\n",
       "    <tr>\n",
       "      <th>879</th>\n",
       "      <td>880</td>\n",
       "      <td>1</td>\n",
       "      <td>1</td>\n",
       "      <td>Potter, Mrs. Thomas Jr (Lily Alexenia Wilson)</td>\n",
       "      <td>female</td>\n",
       "      <td>56.00</td>\n",
       "      <td>0</td>\n",
       "      <td>1</td>\n",
       "      <td>11767</td>\n",
       "      <td>83.1583</td>\n",
       "      <td>C50</td>\n",
       "      <td>C</td>\n",
       "      <td>1</td>\n",
       "    </tr>\n",
       "    <tr>\n",
       "      <th>55</th>\n",
       "      <td>56</td>\n",
       "      <td>1</td>\n",
       "      <td>1</td>\n",
       "      <td>Woolner, Mr. Hugh</td>\n",
       "      <td>male</td>\n",
       "      <td>NaN</td>\n",
       "      <td>0</td>\n",
       "      <td>0</td>\n",
       "      <td>19947</td>\n",
       "      <td>35.5000</td>\n",
       "      <td>C52</td>\n",
       "      <td>S</td>\n",
       "      <td>0</td>\n",
       "    </tr>\n",
       "    <tr>\n",
       "      <th>430</th>\n",
       "      <td>431</td>\n",
       "      <td>1</td>\n",
       "      <td>1</td>\n",
       "      <td>Bjornstrom-Steffansson, Mr. Mauritz Hakan</td>\n",
       "      <td>male</td>\n",
       "      <td>28.00</td>\n",
       "      <td>0</td>\n",
       "      <td>0</td>\n",
       "      <td>110564</td>\n",
       "      <td>26.5500</td>\n",
       "      <td>C52</td>\n",
       "      <td>S</td>\n",
       "      <td>0</td>\n",
       "    </tr>\n",
       "    <tr>\n",
       "      <th>310</th>\n",
       "      <td>311</td>\n",
       "      <td>1</td>\n",
       "      <td>1</td>\n",
       "      <td>Hays, Miss. Margaret Bechstein</td>\n",
       "      <td>female</td>\n",
       "      <td>24.00</td>\n",
       "      <td>0</td>\n",
       "      <td>0</td>\n",
       "      <td>11767</td>\n",
       "      <td>83.1583</td>\n",
       "      <td>C54</td>\n",
       "      <td>C</td>\n",
       "      <td>0</td>\n",
       "    </tr>\n",
       "    <tr>\n",
       "      <th>700</th>\n",
       "      <td>701</td>\n",
       "      <td>1</td>\n",
       "      <td>1</td>\n",
       "      <td>Astor, Mrs. John Jacob (Madeleine Talmadge Force)</td>\n",
       "      <td>female</td>\n",
       "      <td>18.00</td>\n",
       "      <td>1</td>\n",
       "      <td>0</td>\n",
       "      <td>PC 17757</td>\n",
       "      <td>227.5250</td>\n",
       "      <td>C62 C64</td>\n",
       "      <td>C</td>\n",
       "      <td>1</td>\n",
       "    </tr>\n",
       "    <tr>\n",
       "      <th>505</th>\n",
       "      <td>506</td>\n",
       "      <td>0</td>\n",
       "      <td>1</td>\n",
       "      <td>Penasco y Castellana, Mr. Victor de Satode</td>\n",
       "      <td>male</td>\n",
       "      <td>18.00</td>\n",
       "      <td>1</td>\n",
       "      <td>0</td>\n",
       "      <td>PC 17758</td>\n",
       "      <td>108.9000</td>\n",
       "      <td>C65</td>\n",
       "      <td>C</td>\n",
       "      <td>1</td>\n",
       "    </tr>\n",
       "    <tr>\n",
       "      <th>307</th>\n",
       "      <td>308</td>\n",
       "      <td>1</td>\n",
       "      <td>1</td>\n",
       "      <td>Penasco y Castellana, Mrs. Victor de Satode (M...</td>\n",
       "      <td>female</td>\n",
       "      <td>17.00</td>\n",
       "      <td>1</td>\n",
       "      <td>0</td>\n",
       "      <td>PC 17758</td>\n",
       "      <td>108.9000</td>\n",
       "      <td>C65</td>\n",
       "      <td>C</td>\n",
       "      <td>1</td>\n",
       "    </tr>\n",
       "    <tr>\n",
       "      <th>581</th>\n",
       "      <td>582</td>\n",
       "      <td>1</td>\n",
       "      <td>1</td>\n",
       "      <td>Thayer, Mrs. John Borland (Marian Longstreth M...</td>\n",
       "      <td>female</td>\n",
       "      <td>39.00</td>\n",
       "      <td>1</td>\n",
       "      <td>1</td>\n",
       "      <td>17421</td>\n",
       "      <td>110.8833</td>\n",
       "      <td>C68</td>\n",
       "      <td>C</td>\n",
       "      <td>2</td>\n",
       "    </tr>\n",
       "    <tr>\n",
       "      <th>698</th>\n",
       "      <td>699</td>\n",
       "      <td>0</td>\n",
       "      <td>1</td>\n",
       "      <td>Thayer, Mr. John Borland</td>\n",
       "      <td>male</td>\n",
       "      <td>49.00</td>\n",
       "      <td>1</td>\n",
       "      <td>1</td>\n",
       "      <td>17421</td>\n",
       "      <td>110.8833</td>\n",
       "      <td>C68</td>\n",
       "      <td>C</td>\n",
       "      <td>2</td>\n",
       "    </tr>\n",
       "    <tr>\n",
       "      <th>318</th>\n",
       "      <td>319</td>\n",
       "      <td>1</td>\n",
       "      <td>1</td>\n",
       "      <td>Wick, Miss. Mary Natalie</td>\n",
       "      <td>female</td>\n",
       "      <td>31.00</td>\n",
       "      <td>0</td>\n",
       "      <td>2</td>\n",
       "      <td>36928</td>\n",
       "      <td>164.8667</td>\n",
       "      <td>C7</td>\n",
       "      <td>S</td>\n",
       "      <td>2</td>\n",
       "    </tr>\n",
       "    <tr>\n",
       "      <th>550</th>\n",
       "      <td>551</td>\n",
       "      <td>1</td>\n",
       "      <td>1</td>\n",
       "      <td>Thayer, Mr. John Borland Jr</td>\n",
       "      <td>male</td>\n",
       "      <td>17.00</td>\n",
       "      <td>0</td>\n",
       "      <td>2</td>\n",
       "      <td>17421</td>\n",
       "      <td>110.8833</td>\n",
       "      <td>C70</td>\n",
       "      <td>C</td>\n",
       "      <td>2</td>\n",
       "    </tr>\n",
       "    <tr>\n",
       "      <th>412</th>\n",
       "      <td>413</td>\n",
       "      <td>1</td>\n",
       "      <td>1</td>\n",
       "      <td>Minahan, Miss. Daisy E</td>\n",
       "      <td>female</td>\n",
       "      <td>33.00</td>\n",
       "      <td>1</td>\n",
       "      <td>0</td>\n",
       "      <td>19928</td>\n",
       "      <td>90.0000</td>\n",
       "      <td>C78</td>\n",
       "      <td>Q</td>\n",
       "      <td>1</td>\n",
       "    </tr>\n",
       "    <tr>\n",
       "      <th>245</th>\n",
       "      <td>246</td>\n",
       "      <td>0</td>\n",
       "      <td>1</td>\n",
       "      <td>Minahan, Dr. William Edward</td>\n",
       "      <td>male</td>\n",
       "      <td>44.00</td>\n",
       "      <td>2</td>\n",
       "      <td>0</td>\n",
       "      <td>19928</td>\n",
       "      <td>90.0000</td>\n",
       "      <td>C78</td>\n",
       "      <td>Q</td>\n",
       "      <td>2</td>\n",
       "    </tr>\n",
       "    <tr>\n",
       "      <th>377</th>\n",
       "      <td>378</td>\n",
       "      <td>0</td>\n",
       "      <td>1</td>\n",
       "      <td>Widener, Mr. Harry Elkins</td>\n",
       "      <td>male</td>\n",
       "      <td>27.00</td>\n",
       "      <td>0</td>\n",
       "      <td>2</td>\n",
       "      <td>113503</td>\n",
       "      <td>211.5000</td>\n",
       "      <td>C82</td>\n",
       "      <td>C</td>\n",
       "      <td>2</td>\n",
       "    </tr>\n",
       "    <tr>\n",
       "      <th>230</th>\n",
       "      <td>231</td>\n",
       "      <td>1</td>\n",
       "      <td>1</td>\n",
       "      <td>Harris, Mrs. Henry Birkhardt (Irene Wallach)</td>\n",
       "      <td>female</td>\n",
       "      <td>35.00</td>\n",
       "      <td>1</td>\n",
       "      <td>0</td>\n",
       "      <td>36973</td>\n",
       "      <td>83.4750</td>\n",
       "      <td>C83</td>\n",
       "      <td>S</td>\n",
       "      <td>1</td>\n",
       "    </tr>\n",
       "    <tr>\n",
       "      <th>62</th>\n",
       "      <td>63</td>\n",
       "      <td>0</td>\n",
       "      <td>1</td>\n",
       "      <td>Harris, Mr. Henry Birkhardt</td>\n",
       "      <td>male</td>\n",
       "      <td>45.00</td>\n",
       "      <td>1</td>\n",
       "      <td>0</td>\n",
       "      <td>36973</td>\n",
       "      <td>83.4750</td>\n",
       "      <td>C83</td>\n",
       "      <td>S</td>\n",
       "      <td>1</td>\n",
       "    </tr>\n",
       "    <tr>\n",
       "      <th>1</th>\n",
       "      <td>2</td>\n",
       "      <td>1</td>\n",
       "      <td>1</td>\n",
       "      <td>Cumings, Mrs. John Bradley (Florence Briggs Th...</td>\n",
       "      <td>female</td>\n",
       "      <td>38.00</td>\n",
       "      <td>1</td>\n",
       "      <td>0</td>\n",
       "      <td>PC 17599</td>\n",
       "      <td>71.2833</td>\n",
       "      <td>C85</td>\n",
       "      <td>C</td>\n",
       "      <td>1</td>\n",
       "    </tr>\n",
       "    <tr>\n",
       "      <th>544</th>\n",
       "      <td>545</td>\n",
       "      <td>0</td>\n",
       "      <td>1</td>\n",
       "      <td>Douglas, Mr. Walter Donald</td>\n",
       "      <td>male</td>\n",
       "      <td>50.00</td>\n",
       "      <td>1</td>\n",
       "      <td>0</td>\n",
       "      <td>PC 17761</td>\n",
       "      <td>106.4250</td>\n",
       "      <td>C86</td>\n",
       "      <td>C</td>\n",
       "      <td>1</td>\n",
       "    </tr>\n",
       "    <tr>\n",
       "      <th>252</th>\n",
       "      <td>253</td>\n",
       "      <td>0</td>\n",
       "      <td>1</td>\n",
       "      <td>Stead, Mr. William Thomas</td>\n",
       "      <td>male</td>\n",
       "      <td>62.00</td>\n",
       "      <td>0</td>\n",
       "      <td>0</td>\n",
       "      <td>113514</td>\n",
       "      <td>26.5500</td>\n",
       "      <td>C87</td>\n",
       "      <td>S</td>\n",
       "      <td>0</td>\n",
       "    </tr>\n",
       "    <tr>\n",
       "      <th>710</th>\n",
       "      <td>711</td>\n",
       "      <td>1</td>\n",
       "      <td>1</td>\n",
       "      <td>Mayne, Mlle. Berthe Antonine (\"Mrs de Villiers\")</td>\n",
       "      <td>female</td>\n",
       "      <td>24.00</td>\n",
       "      <td>0</td>\n",
       "      <td>0</td>\n",
       "      <td>PC 17482</td>\n",
       "      <td>49.5042</td>\n",
       "      <td>C90</td>\n",
       "      <td>C</td>\n",
       "      <td>0</td>\n",
       "    </tr>\n",
       "    <tr>\n",
       "      <th>332</th>\n",
       "      <td>333</td>\n",
       "      <td>0</td>\n",
       "      <td>1</td>\n",
       "      <td>Graham, Mr. George Edward</td>\n",
       "      <td>male</td>\n",
       "      <td>38.00</td>\n",
       "      <td>0</td>\n",
       "      <td>1</td>\n",
       "      <td>PC 17582</td>\n",
       "      <td>153.4625</td>\n",
       "      <td>C91</td>\n",
       "      <td>S</td>\n",
       "      <td>1</td>\n",
       "    </tr>\n",
       "    <tr>\n",
       "      <th>453</th>\n",
       "      <td>454</td>\n",
       "      <td>1</td>\n",
       "      <td>1</td>\n",
       "      <td>Goldenberg, Mr. Samuel L</td>\n",
       "      <td>male</td>\n",
       "      <td>49.00</td>\n",
       "      <td>1</td>\n",
       "      <td>0</td>\n",
       "      <td>17453</td>\n",
       "      <td>89.1042</td>\n",
       "      <td>C92</td>\n",
       "      <td>C</td>\n",
       "      <td>1</td>\n",
       "    </tr>\n",
       "    <tr>\n",
       "      <th>849</th>\n",
       "      <td>850</td>\n",
       "      <td>1</td>\n",
       "      <td>1</td>\n",
       "      <td>Goldenberg, Mrs. Samuel L (Edwiga Grabowska)</td>\n",
       "      <td>female</td>\n",
       "      <td>NaN</td>\n",
       "      <td>1</td>\n",
       "      <td>0</td>\n",
       "      <td>17453</td>\n",
       "      <td>89.1042</td>\n",
       "      <td>C92</td>\n",
       "      <td>C</td>\n",
       "      <td>1</td>\n",
       "    </tr>\n",
       "    <tr>\n",
       "      <th>224</th>\n",
       "      <td>225</td>\n",
       "      <td>1</td>\n",
       "      <td>1</td>\n",
       "      <td>Hoyt, Mr. Frederick Maxfield</td>\n",
       "      <td>male</td>\n",
       "      <td>38.00</td>\n",
       "      <td>1</td>\n",
       "      <td>0</td>\n",
       "      <td>19943</td>\n",
       "      <td>90.0000</td>\n",
       "      <td>C93</td>\n",
       "      <td>S</td>\n",
       "      <td>1</td>\n",
       "    </tr>\n",
       "    <tr>\n",
       "      <th>486</th>\n",
       "      <td>487</td>\n",
       "      <td>1</td>\n",
       "      <td>1</td>\n",
       "      <td>Hoyt, Mrs. Frederick Maxfield (Jane Anne Forby)</td>\n",
       "      <td>female</td>\n",
       "      <td>35.00</td>\n",
       "      <td>1</td>\n",
       "      <td>0</td>\n",
       "      <td>19943</td>\n",
       "      <td>90.0000</td>\n",
       "      <td>C93</td>\n",
       "      <td>S</td>\n",
       "      <td>1</td>\n",
       "    </tr>\n",
       "    <tr>\n",
       "      <th>527</th>\n",
       "      <td>528</td>\n",
       "      <td>0</td>\n",
       "      <td>1</td>\n",
       "      <td>Farthing, Mr. John</td>\n",
       "      <td>male</td>\n",
       "      <td>NaN</td>\n",
       "      <td>0</td>\n",
       "      <td>0</td>\n",
       "      <td>PC 17483</td>\n",
       "      <td>221.7792</td>\n",
       "      <td>C95</td>\n",
       "      <td>S</td>\n",
       "      <td>0</td>\n",
       "    </tr>\n",
       "    <tr>\n",
       "      <th>269</th>\n",
       "      <td>270</td>\n",
       "      <td>1</td>\n",
       "      <td>1</td>\n",
       "      <td>Bissette, Miss. Amelia</td>\n",
       "      <td>female</td>\n",
       "      <td>35.00</td>\n",
       "      <td>0</td>\n",
       "      <td>0</td>\n",
       "      <td>PC 17760</td>\n",
       "      <td>135.6333</td>\n",
       "      <td>C99</td>\n",
       "      <td>S</td>\n",
       "      <td>0</td>\n",
       "    </tr>\n",
       "  </tbody>\n",
       "</table>\n",
       "</div>"
      ],
      "text/plain": [
       "     PassengerId  Survived  Pclass  \\\n",
       "571          572         1       1   \n",
       "11            12         1       1   \n",
       "449          450         1       1   \n",
       "298          299         1       1   \n",
       "110          111         0       1   \n",
       "452          453         0       1   \n",
       "273          274         0       1   \n",
       "3              4         1       1   \n",
       "137          138         0       1   \n",
       "711          712         0       1   \n",
       "331          332         0       1   \n",
       "609          610         1       1   \n",
       "268          269         1       1   \n",
       "712          713         1       1   \n",
       "669          670         1       1   \n",
       "351          352         0       1   \n",
       "889          890         1       1   \n",
       "151          152         1       1   \n",
       "336          337         0       1   \n",
       "297          298         0       1   \n",
       "305          306         1       1   \n",
       "498          499         0       1   \n",
       "438          439         0       1   \n",
       "88            89         1       1   \n",
       "27            28         0       1   \n",
       "341          342         1       1   \n",
       "492          493         0       1   \n",
       "325          326         1       1   \n",
       "716          717         1       1   \n",
       "741          742         0       1   \n",
       "839          840         1       1   \n",
       "177          178         0       1   \n",
       "879          880         1       1   \n",
       "55            56         1       1   \n",
       "430          431         1       1   \n",
       "310          311         1       1   \n",
       "700          701         1       1   \n",
       "505          506         0       1   \n",
       "307          308         1       1   \n",
       "581          582         1       1   \n",
       "698          699         0       1   \n",
       "318          319         1       1   \n",
       "550          551         1       1   \n",
       "412          413         1       1   \n",
       "245          246         0       1   \n",
       "377          378         0       1   \n",
       "230          231         1       1   \n",
       "62            63         0       1   \n",
       "1              2         1       1   \n",
       "544          545         0       1   \n",
       "252          253         0       1   \n",
       "710          711         1       1   \n",
       "332          333         0       1   \n",
       "453          454         1       1   \n",
       "849          850         1       1   \n",
       "224          225         1       1   \n",
       "486          487         1       1   \n",
       "527          528         0       1   \n",
       "269          270         1       1   \n",
       "\n",
       "                                                  Name     Sex    Age  SibSp  \\\n",
       "571      Appleton, Mrs. Edward Dale (Charlotte Lamson)  female  53.00      2   \n",
       "11                            Bonnell, Miss. Elizabeth  female  58.00      0   \n",
       "449                     Peuchen, Major. Arthur Godfrey    male  52.00      0   \n",
       "298                              Saalfeld, Mr. Adolphe    male    NaN      0   \n",
       "110                     Porter, Mr. Walter Chamberlain    male  47.00      0   \n",
       "452                    Foreman, Mr. Benjamin Laventall    male  30.00      0   \n",
       "273                              Natsch, Mr. Charles H    male  37.00      0   \n",
       "3         Futrelle, Mrs. Jacques Heath (Lily May Peel)  female  35.00      1   \n",
       "137                        Futrelle, Mr. Jacques Heath    male  37.00      1   \n",
       "711                                 Klaber, Mr. Herman    male    NaN      0   \n",
       "331                                Partner, Mr. Austen    male  45.50      0   \n",
       "609                          Shutes, Miss. Elizabeth W  female  40.00      0   \n",
       "268      Graham, Mrs. William Thompson (Edith Junkins)  female  58.00      0   \n",
       "712                           Taylor, Mr. Elmer Zebley    male  48.00      1   \n",
       "669  Taylor, Mrs. Elmer Zebley (Juliet Cummins Wright)  female    NaN      1   \n",
       "351             Williams-Lambert, Mr. Fletcher Fellows    male    NaN      0   \n",
       "889                              Behr, Mr. Karl Howell    male  26.00      0   \n",
       "151                  Pears, Mrs. Thomas (Edith Wearne)  female  22.00      1   \n",
       "336                          Pears, Mr. Thomas Clinton    male  29.00      1   \n",
       "297                       Allison, Miss. Helen Loraine  female   2.00      1   \n",
       "305                     Allison, Master. Hudson Trevor    male   0.92      1   \n",
       "498    Allison, Mrs. Hudson J C (Bessie Waldo Daniels)  female  25.00      1   \n",
       "438                                  Fortune, Mr. Mark    male  64.00      1   \n",
       "88                          Fortune, Miss. Mabel Helen  female  23.00      3   \n",
       "27                      Fortune, Mr. Charles Alexander    male  19.00      3   \n",
       "341                     Fortune, Miss. Alice Elizabeth  female  24.00      3   \n",
       "492                         Molson, Mr. Harry Markland    male  55.00      0   \n",
       "325                           Young, Miss. Marie Grice  female  36.00      0   \n",
       "716                      Endres, Miss. Caroline Louise  female  38.00      0   \n",
       "741                      Cavendish, Mr. Tyrell William    male  36.00      1   \n",
       "839                               Marechal, Mr. Pierre    male    NaN      0   \n",
       "177                         Isham, Miss. Ann Elizabeth  female  50.00      0   \n",
       "879      Potter, Mrs. Thomas Jr (Lily Alexenia Wilson)  female  56.00      0   \n",
       "55                                   Woolner, Mr. Hugh    male    NaN      0   \n",
       "430          Bjornstrom-Steffansson, Mr. Mauritz Hakan    male  28.00      0   \n",
       "310                     Hays, Miss. Margaret Bechstein  female  24.00      0   \n",
       "700  Astor, Mrs. John Jacob (Madeleine Talmadge Force)  female  18.00      1   \n",
       "505         Penasco y Castellana, Mr. Victor de Satode    male  18.00      1   \n",
       "307  Penasco y Castellana, Mrs. Victor de Satode (M...  female  17.00      1   \n",
       "581  Thayer, Mrs. John Borland (Marian Longstreth M...  female  39.00      1   \n",
       "698                           Thayer, Mr. John Borland    male  49.00      1   \n",
       "318                           Wick, Miss. Mary Natalie  female  31.00      0   \n",
       "550                        Thayer, Mr. John Borland Jr    male  17.00      0   \n",
       "412                             Minahan, Miss. Daisy E  female  33.00      1   \n",
       "245                        Minahan, Dr. William Edward    male  44.00      2   \n",
       "377                          Widener, Mr. Harry Elkins    male  27.00      0   \n",
       "230       Harris, Mrs. Henry Birkhardt (Irene Wallach)  female  35.00      1   \n",
       "62                         Harris, Mr. Henry Birkhardt    male  45.00      1   \n",
       "1    Cumings, Mrs. John Bradley (Florence Briggs Th...  female  38.00      1   \n",
       "544                         Douglas, Mr. Walter Donald    male  50.00      1   \n",
       "252                          Stead, Mr. William Thomas    male  62.00      0   \n",
       "710   Mayne, Mlle. Berthe Antonine (\"Mrs de Villiers\")  female  24.00      0   \n",
       "332                          Graham, Mr. George Edward    male  38.00      0   \n",
       "453                           Goldenberg, Mr. Samuel L    male  49.00      1   \n",
       "849       Goldenberg, Mrs. Samuel L (Edwiga Grabowska)  female    NaN      1   \n",
       "224                       Hoyt, Mr. Frederick Maxfield    male  38.00      1   \n",
       "486    Hoyt, Mrs. Frederick Maxfield (Jane Anne Forby)  female  35.00      1   \n",
       "527                                 Farthing, Mr. John    male    NaN      0   \n",
       "269                             Bissette, Miss. Amelia  female  35.00      0   \n",
       "\n",
       "     Parch    Ticket      Fare        Cabin Embarked  Family_Size  \n",
       "571      0     11769   51.4792         C101        S            2  \n",
       "11       0    113783   26.5500         C103        S            0  \n",
       "449      0    113786   30.5000         C104        S            0  \n",
       "298      0     19988   30.5000         C106        S            0  \n",
       "110      0    110465   52.0000         C110        S            0  \n",
       "452      0    113051   27.7500         C111        C            0  \n",
       "273      1  PC 17596   29.7000         C118        C            1  \n",
       "3        0    113803   53.1000         C123        S            1  \n",
       "137      0    113803   53.1000         C123        S            1  \n",
       "711      0    113028   26.5500         C124        S            0  \n",
       "331      0    113043   28.5000         C124        S            0  \n",
       "609      0  PC 17582  153.4625         C125        S            0  \n",
       "268      1  PC 17582  153.4625         C125        S            1  \n",
       "712      0     19996   52.0000         C126        S            1  \n",
       "669      0     19996   52.0000         C126        S            1  \n",
       "351      0    113510   35.0000         C128        S            0  \n",
       "889      0    111369   30.0000         C148        C            0  \n",
       "151      0    113776   66.6000           C2        S            1  \n",
       "336      0    113776   66.6000           C2        S            1  \n",
       "297      2    113781  151.5500      C22 C26        S            3  \n",
       "305      2    113781  151.5500      C22 C26        S            3  \n",
       "498      2    113781  151.5500      C22 C26        S            3  \n",
       "438      4     19950  263.0000  C23 C25 C27        S            5  \n",
       "88       2     19950  263.0000  C23 C25 C27        S            5  \n",
       "27       2     19950  263.0000  C23 C25 C27        S            5  \n",
       "341      2     19950  263.0000  C23 C25 C27        S            5  \n",
       "492      0    113787   30.5000          C30        S            0  \n",
       "325      0  PC 17760  135.6333          C32        C            0  \n",
       "716      0  PC 17757  227.5250          C45        C            0  \n",
       "741      0     19877   78.8500          C46        S            1  \n",
       "839      0     11774   29.7000          C47        C            0  \n",
       "177      0  PC 17595   28.7125          C49        C            0  \n",
       "879      1     11767   83.1583          C50        C            1  \n",
       "55       0     19947   35.5000          C52        S            0  \n",
       "430      0    110564   26.5500          C52        S            0  \n",
       "310      0     11767   83.1583          C54        C            0  \n",
       "700      0  PC 17757  227.5250      C62 C64        C            1  \n",
       "505      0  PC 17758  108.9000          C65        C            1  \n",
       "307      0  PC 17758  108.9000          C65        C            1  \n",
       "581      1     17421  110.8833          C68        C            2  \n",
       "698      1     17421  110.8833          C68        C            2  \n",
       "318      2     36928  164.8667           C7        S            2  \n",
       "550      2     17421  110.8833          C70        C            2  \n",
       "412      0     19928   90.0000          C78        Q            1  \n",
       "245      0     19928   90.0000          C78        Q            2  \n",
       "377      2    113503  211.5000          C82        C            2  \n",
       "230      0     36973   83.4750          C83        S            1  \n",
       "62       0     36973   83.4750          C83        S            1  \n",
       "1        0  PC 17599   71.2833          C85        C            1  \n",
       "544      0  PC 17761  106.4250          C86        C            1  \n",
       "252      0    113514   26.5500          C87        S            0  \n",
       "710      0  PC 17482   49.5042          C90        C            0  \n",
       "332      1  PC 17582  153.4625          C91        S            1  \n",
       "453      0     17453   89.1042          C92        C            1  \n",
       "849      0     17453   89.1042          C92        C            1  \n",
       "224      0     19943   90.0000          C93        S            1  \n",
       "486      0     19943   90.0000          C93        S            1  \n",
       "527      0  PC 17483  221.7792          C95        S            0  \n",
       "269      0  PC 17760  135.6333          C99        S            0  "
      ]
     },
     "execution_count": 24,
     "metadata": {},
     "output_type": "execute_result"
    }
   ],
   "source": [
    "titanic.dropna(axis=0, subset=[\n",
    "    'Cabin'\n",
    "])[titanic.Cabin.dropna().str.contains('C')].sort_values('Cabin')"
   ]
  },
  {
   "cell_type": "markdown",
   "id": "8b235ff9",
   "metadata": {},
   "source": [
    "It seems there is no other passenger with last name 'Widener'. Besides from visually inspecting the data and comparing with fares of passengers with same cabin level 'C' and Same boarding port we, see this Fares are very unlikely under normal circumstances. The reason remains Unknown. (sigh)."
   ]
  },
  {
   "cell_type": "markdown",
   "id": "879cecfc",
   "metadata": {},
   "source": [
    "### Cabin"
   ]
  },
  {
   "cell_type": "code",
   "execution_count": 25,
   "id": "e92c67b4",
   "metadata": {
    "ExecuteTime": {
     "end_time": "2021-12-26T09:26:57.150797Z",
     "start_time": "2021-12-26T09:26:57.088741Z"
    }
   },
   "outputs": [
    {
     "data": {
      "text/plain": [
       "B96 B98        4\n",
       "G6             4\n",
       "C23 C25 C27    4\n",
       "F2             3\n",
       "E101           3\n",
       "Name: Cabin, dtype: int64"
      ]
     },
     "execution_count": 25,
     "metadata": {},
     "output_type": "execute_result"
    }
   ],
   "source": [
    "titanic.Cabin.value_counts()[:5]"
   ]
  },
  {
   "cell_type": "markdown",
   "id": "099747e1",
   "metadata": {},
   "source": [
    "We see that some cabin are issued for several passengers which is normal for passengers who has family members or companions.\n",
    "We also see that several cabins were also booked together in some cases."
   ]
  },
  {
   "cell_type": "code",
   "execution_count": 26,
   "id": "2feca094",
   "metadata": {
    "ExecuteTime": {
     "end_time": "2021-12-26T09:26:57.165811Z",
     "start_time": "2021-12-26T09:26:57.151798Z"
    }
   },
   "outputs": [
    {
     "data": {
      "text/plain": [
       "687"
      ]
     },
     "execution_count": 26,
     "metadata": {},
     "output_type": "execute_result"
    }
   ],
   "source": [
    "titanic.Cabin.isna().sum()"
   ]
  },
  {
   "cell_type": "markdown",
   "id": "6e8ce8f1",
   "metadata": {},
   "source": [
    "We see there are many missing values for Cabin which is pretty unlikely to happen randomly. Let's dig deeper.\n",
    "\n",
    "We have a pretty good guess about where to start. Our guess is not all ticket class holders could book a Cabin if they wanted."
   ]
  },
  {
   "cell_type": "code",
   "execution_count": 27,
   "id": "f7cb6c89",
   "metadata": {
    "ExecuteTime": {
     "end_time": "2021-12-26T09:26:57.227867Z",
     "start_time": "2021-12-26T09:26:57.166812Z"
    }
   },
   "outputs": [
    {
     "data": {
      "text/plain": [
       "Pclass\n",
       "1    176\n",
       "2     16\n",
       "3     12\n",
       "Name: Cabin, dtype: int64"
      ]
     },
     "execution_count": 27,
     "metadata": {},
     "output_type": "execute_result"
    }
   ],
   "source": [
    "titanic.groupby('Pclass').Cabin.count()"
   ]
  },
  {
   "cell_type": "markdown",
   "id": "5bdfa665",
   "metadata": {},
   "source": [
    "We saw that our guess wasn't correct. We will deal with these missing values later."
   ]
  },
  {
   "cell_type": "markdown",
   "id": "6ff6d62e",
   "metadata": {},
   "source": [
    "### Embarked"
   ]
  },
  {
   "cell_type": "code",
   "execution_count": 28,
   "id": "1eb15f99",
   "metadata": {
    "ExecuteTime": {
     "end_time": "2021-12-26T09:26:57.291926Z",
     "start_time": "2021-12-26T09:26:57.228868Z"
    }
   },
   "outputs": [
    {
     "data": {
      "text/plain": [
       "S    644\n",
       "C    168\n",
       "Q     77\n",
       "Name: Embarked, dtype: int64"
      ]
     },
     "execution_count": 28,
     "metadata": {},
     "output_type": "execute_result"
    }
   ],
   "source": [
    "titanic.Embarked.value_counts()"
   ]
  },
  {
   "cell_type": "code",
   "execution_count": 29,
   "id": "e574c88d",
   "metadata": {
    "ExecuteTime": {
     "end_time": "2021-12-26T09:26:57.307940Z",
     "start_time": "2021-12-26T09:26:57.292926Z"
    }
   },
   "outputs": [
    {
     "data": {
      "text/plain": [
       "2"
      ]
     },
     "execution_count": 29,
     "metadata": {},
     "output_type": "execute_result"
    }
   ],
   "source": [
    "titanic.Embarked.isna().sum()"
   ]
  },
  {
   "cell_type": "markdown",
   "id": "3d36e2e2",
   "metadata": {},
   "source": [
    "We see there are 3 boarding ports. Also only 2 missing value."
   ]
  },
  {
   "cell_type": "markdown",
   "id": "d7cfd1f6",
   "metadata": {
    "jp-MarkdownHeadingCollapsed": true,
    "tags": []
   },
   "source": [
    "## Checking For Duplicate Values"
   ]
  },
  {
   "cell_type": "code",
   "execution_count": 30,
   "id": "683523ce",
   "metadata": {
    "ExecuteTime": {
     "end_time": "2021-12-26T09:26:57.323955Z",
     "start_time": "2021-12-26T09:26:57.308941Z"
    }
   },
   "outputs": [
    {
     "data": {
      "text/plain": [
       "0"
      ]
     },
     "execution_count": 30,
     "metadata": {},
     "output_type": "execute_result"
    }
   ],
   "source": [
    "titanic.duplicated().sum()"
   ]
  },
  {
   "cell_type": "markdown",
   "id": "a87bddf1",
   "metadata": {},
   "source": [
    "We see that no row is duplicate of other rows.\n",
    "\n",
    "But, from previous analysis we saw 'Ticket' & 'Cabin' column has duplicate values. They may be very insightful. For example, passengers with same ticket number are likely to travel together, passengers with same cabin number are also likely to travel together and many other possibilities."
   ]
  },
  {
   "cell_type": "markdown",
   "id": "16ed23df",
   "metadata": {},
   "source": [
    "### Duplicated Ticket"
   ]
  },
  {
   "cell_type": "code",
   "execution_count": 31,
   "id": "f8e8d387",
   "metadata": {
    "ExecuteTime": {
     "end_time": "2021-12-26T09:26:57.339969Z",
     "start_time": "2021-12-26T09:26:57.324955Z"
    }
   },
   "outputs": [],
   "source": [
    "titanic_ticket_duplicated = titanic[titanic.duplicated(\n",
    "    \"Ticket\", keep=False)].sort_values(\"Ticket\")"
   ]
  },
  {
   "cell_type": "code",
   "execution_count": 32,
   "id": "246dbe7e",
   "metadata": {
    "ExecuteTime": {
     "end_time": "2021-12-26T09:26:57.355984Z",
     "start_time": "2021-12-26T09:26:57.340970Z"
    }
   },
   "outputs": [
    {
     "name": "stdout",
     "output_type": "stream",
     "text": [
      "Total number of Duplicated Tickets is: 344\n",
      "Total number of Unique Duplicated Tickets is: 134\n"
     ]
    }
   ],
   "source": [
    "print(\n",
    "    f\"Total number of Duplicated Tickets is: {titanic_ticket_duplicated.shape[0]}\"\n",
    ")\n",
    "print(\n",
    "    f\"Total number of Unique Duplicated Tickets is: {titanic_ticket_duplicated.Ticket.nunique()}\"\n",
    ")"
   ]
  },
  {
   "cell_type": "code",
   "execution_count": 33,
   "id": "4c82a221",
   "metadata": {
    "ExecuteTime": {
     "end_time": "2021-12-26T09:26:57.403026Z",
     "start_time": "2021-12-26T09:26:57.356985Z"
    }
   },
   "outputs": [
    {
     "data": {
      "text/html": [
       "<div>\n",
       "<style scoped>\n",
       "    .dataframe tbody tr th:only-of-type {\n",
       "        vertical-align: middle;\n",
       "    }\n",
       "\n",
       "    .dataframe tbody tr th {\n",
       "        vertical-align: top;\n",
       "    }\n",
       "\n",
       "    .dataframe thead th {\n",
       "        text-align: right;\n",
       "    }\n",
       "</style>\n",
       "<table border=\"1\" class=\"dataframe\">\n",
       "  <thead>\n",
       "    <tr style=\"text-align: right;\">\n",
       "      <th></th>\n",
       "      <th>PassengerId</th>\n",
       "      <th>Survived</th>\n",
       "      <th>Pclass</th>\n",
       "      <th>Name</th>\n",
       "      <th>Sex</th>\n",
       "      <th>Age</th>\n",
       "      <th>SibSp</th>\n",
       "      <th>Parch</th>\n",
       "      <th>Ticket</th>\n",
       "      <th>Fare</th>\n",
       "      <th>Cabin</th>\n",
       "      <th>Embarked</th>\n",
       "      <th>Family_Size</th>\n",
       "    </tr>\n",
       "  </thead>\n",
       "  <tbody>\n",
       "    <tr>\n",
       "      <th>257</th>\n",
       "      <td>258</td>\n",
       "      <td>1</td>\n",
       "      <td>1</td>\n",
       "      <td>Cherry, Miss. Gladys</td>\n",
       "      <td>female</td>\n",
       "      <td>30.0</td>\n",
       "      <td>0</td>\n",
       "      <td>0</td>\n",
       "      <td>110152</td>\n",
       "      <td>86.5000</td>\n",
       "      <td>B77</td>\n",
       "      <td>S</td>\n",
       "      <td>0</td>\n",
       "    </tr>\n",
       "    <tr>\n",
       "      <th>759</th>\n",
       "      <td>760</td>\n",
       "      <td>1</td>\n",
       "      <td>1</td>\n",
       "      <td>Rothes, the Countess. of (Lucy Noel Martha Dye...</td>\n",
       "      <td>female</td>\n",
       "      <td>33.0</td>\n",
       "      <td>0</td>\n",
       "      <td>0</td>\n",
       "      <td>110152</td>\n",
       "      <td>86.5000</td>\n",
       "      <td>B77</td>\n",
       "      <td>S</td>\n",
       "      <td>0</td>\n",
       "    </tr>\n",
       "    <tr>\n",
       "      <th>504</th>\n",
       "      <td>505</td>\n",
       "      <td>1</td>\n",
       "      <td>1</td>\n",
       "      <td>Maioni, Miss. Roberta</td>\n",
       "      <td>female</td>\n",
       "      <td>16.0</td>\n",
       "      <td>0</td>\n",
       "      <td>0</td>\n",
       "      <td>110152</td>\n",
       "      <td>86.5000</td>\n",
       "      <td>B79</td>\n",
       "      <td>S</td>\n",
       "      <td>0</td>\n",
       "    </tr>\n",
       "    <tr>\n",
       "      <th>262</th>\n",
       "      <td>263</td>\n",
       "      <td>0</td>\n",
       "      <td>1</td>\n",
       "      <td>Taussig, Mr. Emil</td>\n",
       "      <td>male</td>\n",
       "      <td>52.0</td>\n",
       "      <td>1</td>\n",
       "      <td>1</td>\n",
       "      <td>110413</td>\n",
       "      <td>79.6500</td>\n",
       "      <td>E67</td>\n",
       "      <td>S</td>\n",
       "      <td>2</td>\n",
       "    </tr>\n",
       "    <tr>\n",
       "      <th>558</th>\n",
       "      <td>559</td>\n",
       "      <td>1</td>\n",
       "      <td>1</td>\n",
       "      <td>Taussig, Mrs. Emil (Tillie Mandelbaum)</td>\n",
       "      <td>female</td>\n",
       "      <td>39.0</td>\n",
       "      <td>1</td>\n",
       "      <td>1</td>\n",
       "      <td>110413</td>\n",
       "      <td>79.6500</td>\n",
       "      <td>E67</td>\n",
       "      <td>S</td>\n",
       "      <td>2</td>\n",
       "    </tr>\n",
       "    <tr>\n",
       "      <th>585</th>\n",
       "      <td>586</td>\n",
       "      <td>1</td>\n",
       "      <td>1</td>\n",
       "      <td>Taussig, Miss. Ruth</td>\n",
       "      <td>female</td>\n",
       "      <td>18.0</td>\n",
       "      <td>0</td>\n",
       "      <td>2</td>\n",
       "      <td>110413</td>\n",
       "      <td>79.6500</td>\n",
       "      <td>E68</td>\n",
       "      <td>S</td>\n",
       "      <td>2</td>\n",
       "    </tr>\n",
       "    <tr>\n",
       "      <th>110</th>\n",
       "      <td>111</td>\n",
       "      <td>0</td>\n",
       "      <td>1</td>\n",
       "      <td>Porter, Mr. Walter Chamberlain</td>\n",
       "      <td>male</td>\n",
       "      <td>47.0</td>\n",
       "      <td>0</td>\n",
       "      <td>0</td>\n",
       "      <td>110465</td>\n",
       "      <td>52.0000</td>\n",
       "      <td>C110</td>\n",
       "      <td>S</td>\n",
       "      <td>0</td>\n",
       "    </tr>\n",
       "    <tr>\n",
       "      <th>475</th>\n",
       "      <td>476</td>\n",
       "      <td>0</td>\n",
       "      <td>1</td>\n",
       "      <td>Clifford, Mr. George Quincy</td>\n",
       "      <td>male</td>\n",
       "      <td>NaN</td>\n",
       "      <td>0</td>\n",
       "      <td>0</td>\n",
       "      <td>110465</td>\n",
       "      <td>52.0000</td>\n",
       "      <td>A14</td>\n",
       "      <td>S</td>\n",
       "      <td>0</td>\n",
       "    </tr>\n",
       "    <tr>\n",
       "      <th>523</th>\n",
       "      <td>524</td>\n",
       "      <td>1</td>\n",
       "      <td>1</td>\n",
       "      <td>Hippach, Mrs. Louis Albert (Ida Sophia Fischer)</td>\n",
       "      <td>female</td>\n",
       "      <td>44.0</td>\n",
       "      <td>0</td>\n",
       "      <td>1</td>\n",
       "      <td>111361</td>\n",
       "      <td>57.9792</td>\n",
       "      <td>B18</td>\n",
       "      <td>C</td>\n",
       "      <td>1</td>\n",
       "    </tr>\n",
       "    <tr>\n",
       "      <th>329</th>\n",
       "      <td>330</td>\n",
       "      <td>1</td>\n",
       "      <td>1</td>\n",
       "      <td>Hippach, Miss. Jean Gertrude</td>\n",
       "      <td>female</td>\n",
       "      <td>16.0</td>\n",
       "      <td>0</td>\n",
       "      <td>1</td>\n",
       "      <td>111361</td>\n",
       "      <td>57.9792</td>\n",
       "      <td>B18</td>\n",
       "      <td>C</td>\n",
       "      <td>1</td>\n",
       "    </tr>\n",
       "  </tbody>\n",
       "</table>\n",
       "</div>"
      ],
      "text/plain": [
       "     PassengerId  Survived  Pclass  \\\n",
       "257          258         1       1   \n",
       "759          760         1       1   \n",
       "504          505         1       1   \n",
       "262          263         0       1   \n",
       "558          559         1       1   \n",
       "585          586         1       1   \n",
       "110          111         0       1   \n",
       "475          476         0       1   \n",
       "523          524         1       1   \n",
       "329          330         1       1   \n",
       "\n",
       "                                                  Name     Sex   Age  SibSp  \\\n",
       "257                               Cherry, Miss. Gladys  female  30.0      0   \n",
       "759  Rothes, the Countess. of (Lucy Noel Martha Dye...  female  33.0      0   \n",
       "504                              Maioni, Miss. Roberta  female  16.0      0   \n",
       "262                                  Taussig, Mr. Emil    male  52.0      1   \n",
       "558             Taussig, Mrs. Emil (Tillie Mandelbaum)  female  39.0      1   \n",
       "585                                Taussig, Miss. Ruth  female  18.0      0   \n",
       "110                     Porter, Mr. Walter Chamberlain    male  47.0      0   \n",
       "475                        Clifford, Mr. George Quincy    male   NaN      0   \n",
       "523    Hippach, Mrs. Louis Albert (Ida Sophia Fischer)  female  44.0      0   \n",
       "329                       Hippach, Miss. Jean Gertrude  female  16.0      0   \n",
       "\n",
       "     Parch  Ticket     Fare Cabin Embarked  Family_Size  \n",
       "257      0  110152  86.5000   B77        S            0  \n",
       "759      0  110152  86.5000   B77        S            0  \n",
       "504      0  110152  86.5000   B79        S            0  \n",
       "262      1  110413  79.6500   E67        S            2  \n",
       "558      1  110413  79.6500   E67        S            2  \n",
       "585      2  110413  79.6500   E68        S            2  \n",
       "110      0  110465  52.0000  C110        S            0  \n",
       "475      0  110465  52.0000   A14        S            0  \n",
       "523      1  111361  57.9792   B18        C            1  \n",
       "329      1  111361  57.9792   B18        C            1  "
      ]
     },
     "execution_count": 33,
     "metadata": {},
     "output_type": "execute_result"
    }
   ],
   "source": [
    "# Examine first few rows\n",
    "titanic_ticket_duplicated.head(10)"
   ]
  },
  {
   "cell_type": "code",
   "execution_count": 34,
   "id": "8850cd98",
   "metadata": {
    "ExecuteTime": {
     "end_time": "2021-12-26T09:26:57.466084Z",
     "start_time": "2021-12-26T09:26:57.404027Z"
    }
   },
   "outputs": [
    {
     "data": {
      "text/plain": [
       "CA. 2343        7\n",
       "1601            7\n",
       "347082          7\n",
       "347088          6\n",
       "CA 2144         6\n",
       "3101295         6\n",
       "382652          5\n",
       "S.O.C. 14879    5\n",
       "4133            4\n",
       "17421           4\n",
       "Name: Ticket, dtype: int64"
      ]
     },
     "execution_count": 34,
     "metadata": {},
     "output_type": "execute_result"
    }
   ],
   "source": [
    "# Now let's check for most frequent duplicated tickets\n",
    "titanic_ticket_duplicated.Ticket.value_counts()[:10]"
   ]
  },
  {
   "cell_type": "code",
   "execution_count": 35,
   "id": "6b037a59",
   "metadata": {
    "ExecuteTime": {
     "end_time": "2021-12-26T09:26:57.482098Z",
     "start_time": "2021-12-26T09:26:57.467085Z"
    }
   },
   "outputs": [
    {
     "data": {
      "text/html": [
       "<div>\n",
       "<style scoped>\n",
       "    .dataframe tbody tr th:only-of-type {\n",
       "        vertical-align: middle;\n",
       "    }\n",
       "\n",
       "    .dataframe tbody tr th {\n",
       "        vertical-align: top;\n",
       "    }\n",
       "\n",
       "    .dataframe thead th {\n",
       "        text-align: right;\n",
       "    }\n",
       "</style>\n",
       "<table border=\"1\" class=\"dataframe\">\n",
       "  <thead>\n",
       "    <tr style=\"text-align: right;\">\n",
       "      <th></th>\n",
       "      <th>PassengerId</th>\n",
       "      <th>Survived</th>\n",
       "      <th>Pclass</th>\n",
       "      <th>Name</th>\n",
       "      <th>Sex</th>\n",
       "      <th>Age</th>\n",
       "      <th>SibSp</th>\n",
       "      <th>Parch</th>\n",
       "      <th>Ticket</th>\n",
       "      <th>Fare</th>\n",
       "      <th>Cabin</th>\n",
       "      <th>Embarked</th>\n",
       "      <th>Family_Size</th>\n",
       "    </tr>\n",
       "  </thead>\n",
       "  <tbody>\n",
       "    <tr>\n",
       "      <th>119</th>\n",
       "      <td>120</td>\n",
       "      <td>0</td>\n",
       "      <td>3</td>\n",
       "      <td>Andersson, Miss. Ellis Anna Maria</td>\n",
       "      <td>female</td>\n",
       "      <td>2.0</td>\n",
       "      <td>4</td>\n",
       "      <td>2</td>\n",
       "      <td>347082</td>\n",
       "      <td>31.275</td>\n",
       "      <td>NaN</td>\n",
       "      <td>S</td>\n",
       "      <td>6</td>\n",
       "    </tr>\n",
       "    <tr>\n",
       "      <th>813</th>\n",
       "      <td>814</td>\n",
       "      <td>0</td>\n",
       "      <td>3</td>\n",
       "      <td>Andersson, Miss. Ebba Iris Alfrida</td>\n",
       "      <td>female</td>\n",
       "      <td>6.0</td>\n",
       "      <td>4</td>\n",
       "      <td>2</td>\n",
       "      <td>347082</td>\n",
       "      <td>31.275</td>\n",
       "      <td>NaN</td>\n",
       "      <td>S</td>\n",
       "      <td>6</td>\n",
       "    </tr>\n",
       "    <tr>\n",
       "      <th>850</th>\n",
       "      <td>851</td>\n",
       "      <td>0</td>\n",
       "      <td>3</td>\n",
       "      <td>Andersson, Master. Sigvard Harald Elias</td>\n",
       "      <td>male</td>\n",
       "      <td>4.0</td>\n",
       "      <td>4</td>\n",
       "      <td>2</td>\n",
       "      <td>347082</td>\n",
       "      <td>31.275</td>\n",
       "      <td>NaN</td>\n",
       "      <td>S</td>\n",
       "      <td>6</td>\n",
       "    </tr>\n",
       "    <tr>\n",
       "      <th>542</th>\n",
       "      <td>543</td>\n",
       "      <td>0</td>\n",
       "      <td>3</td>\n",
       "      <td>Andersson, Miss. Sigrid Elisabeth</td>\n",
       "      <td>female</td>\n",
       "      <td>11.0</td>\n",
       "      <td>4</td>\n",
       "      <td>2</td>\n",
       "      <td>347082</td>\n",
       "      <td>31.275</td>\n",
       "      <td>NaN</td>\n",
       "      <td>S</td>\n",
       "      <td>6</td>\n",
       "    </tr>\n",
       "    <tr>\n",
       "      <th>541</th>\n",
       "      <td>542</td>\n",
       "      <td>0</td>\n",
       "      <td>3</td>\n",
       "      <td>Andersson, Miss. Ingeborg Constanzia</td>\n",
       "      <td>female</td>\n",
       "      <td>9.0</td>\n",
       "      <td>4</td>\n",
       "      <td>2</td>\n",
       "      <td>347082</td>\n",
       "      <td>31.275</td>\n",
       "      <td>NaN</td>\n",
       "      <td>S</td>\n",
       "      <td>6</td>\n",
       "    </tr>\n",
       "    <tr>\n",
       "      <th>13</th>\n",
       "      <td>14</td>\n",
       "      <td>0</td>\n",
       "      <td>3</td>\n",
       "      <td>Andersson, Mr. Anders Johan</td>\n",
       "      <td>male</td>\n",
       "      <td>39.0</td>\n",
       "      <td>1</td>\n",
       "      <td>5</td>\n",
       "      <td>347082</td>\n",
       "      <td>31.275</td>\n",
       "      <td>NaN</td>\n",
       "      <td>S</td>\n",
       "      <td>6</td>\n",
       "    </tr>\n",
       "    <tr>\n",
       "      <th>610</th>\n",
       "      <td>611</td>\n",
       "      <td>0</td>\n",
       "      <td>3</td>\n",
       "      <td>Andersson, Mrs. Anders Johan (Alfrida Konstant...</td>\n",
       "      <td>female</td>\n",
       "      <td>39.0</td>\n",
       "      <td>1</td>\n",
       "      <td>5</td>\n",
       "      <td>347082</td>\n",
       "      <td>31.275</td>\n",
       "      <td>NaN</td>\n",
       "      <td>S</td>\n",
       "      <td>6</td>\n",
       "    </tr>\n",
       "  </tbody>\n",
       "</table>\n",
       "</div>"
      ],
      "text/plain": [
       "     PassengerId  Survived  Pclass  \\\n",
       "119          120         0       3   \n",
       "813          814         0       3   \n",
       "850          851         0       3   \n",
       "542          543         0       3   \n",
       "541          542         0       3   \n",
       "13            14         0       3   \n",
       "610          611         0       3   \n",
       "\n",
       "                                                  Name     Sex   Age  SibSp  \\\n",
       "119                  Andersson, Miss. Ellis Anna Maria  female   2.0      4   \n",
       "813                 Andersson, Miss. Ebba Iris Alfrida  female   6.0      4   \n",
       "850            Andersson, Master. Sigvard Harald Elias    male   4.0      4   \n",
       "542                  Andersson, Miss. Sigrid Elisabeth  female  11.0      4   \n",
       "541               Andersson, Miss. Ingeborg Constanzia  female   9.0      4   \n",
       "13                         Andersson, Mr. Anders Johan    male  39.0      1   \n",
       "610  Andersson, Mrs. Anders Johan (Alfrida Konstant...  female  39.0      1   \n",
       "\n",
       "     Parch  Ticket    Fare Cabin Embarked  Family_Size  \n",
       "119      2  347082  31.275   NaN        S            6  \n",
       "813      2  347082  31.275   NaN        S            6  \n",
       "850      2  347082  31.275   NaN        S            6  \n",
       "542      2  347082  31.275   NaN        S            6  \n",
       "541      2  347082  31.275   NaN        S            6  \n",
       "13       5  347082  31.275   NaN        S            6  \n",
       "610      5  347082  31.275   NaN        S            6  "
      ]
     },
     "execution_count": 35,
     "metadata": {},
     "output_type": "execute_result"
    }
   ],
   "source": [
    "titanic_ticket_duplicated[titanic_ticket_duplicated.Ticket == \"347082\"]"
   ]
  },
  {
   "cell_type": "markdown",
   "id": "5d234138",
   "metadata": {},
   "source": [
    "### Duplicated Cabin"
   ]
  },
  {
   "cell_type": "code",
   "execution_count": 36,
   "id": "9c7fc5da",
   "metadata": {
    "ExecuteTime": {
     "end_time": "2021-12-26T09:26:57.498113Z",
     "start_time": "2021-12-26T09:26:57.488104Z"
    }
   },
   "outputs": [],
   "source": [
    "titanic_cabin_duplicated = titanic[titanic.duplicated(\n",
    "    \"Cabin\", keep=False)].sort_values(\"Cabin\").dropna(subset=['Cabin'])"
   ]
  },
  {
   "cell_type": "code",
   "execution_count": 37,
   "id": "981efab9",
   "metadata": {
    "ExecuteTime": {
     "end_time": "2021-12-26T09:26:57.514128Z",
     "start_time": "2021-12-26T09:26:57.501116Z"
    }
   },
   "outputs": [
    {
     "name": "stdout",
     "output_type": "stream",
     "text": [
      "Total number of Duplicated Cabin is: 103\n",
      "Total number of Unique Duplicated Tickets is: 46\n"
     ]
    }
   ],
   "source": [
    "print(\n",
    "    f\"Total number of Duplicated Cabin is: {titanic_cabin_duplicated.shape[0]}\"\n",
    ")\n",
    "print(\n",
    "    f\"Total number of Unique Duplicated Tickets is: {titanic_cabin_duplicated.Cabin.nunique()}\"\n",
    ")"
   ]
  },
  {
   "cell_type": "code",
   "execution_count": 38,
   "id": "b35127c6",
   "metadata": {
    "ExecuteTime": {
     "end_time": "2021-12-26T09:26:57.546157Z",
     "start_time": "2021-12-26T09:26:57.526138Z"
    }
   },
   "outputs": [
    {
     "data": {
      "text/html": [
       "<div>\n",
       "<style scoped>\n",
       "    .dataframe tbody tr th:only-of-type {\n",
       "        vertical-align: middle;\n",
       "    }\n",
       "\n",
       "    .dataframe tbody tr th {\n",
       "        vertical-align: top;\n",
       "    }\n",
       "\n",
       "    .dataframe thead th {\n",
       "        text-align: right;\n",
       "    }\n",
       "</style>\n",
       "<table border=\"1\" class=\"dataframe\">\n",
       "  <thead>\n",
       "    <tr style=\"text-align: right;\">\n",
       "      <th></th>\n",
       "      <th>PassengerId</th>\n",
       "      <th>Survived</th>\n",
       "      <th>Pclass</th>\n",
       "      <th>Name</th>\n",
       "      <th>Sex</th>\n",
       "      <th>Age</th>\n",
       "      <th>SibSp</th>\n",
       "      <th>Parch</th>\n",
       "      <th>Ticket</th>\n",
       "      <th>Fare</th>\n",
       "      <th>Cabin</th>\n",
       "      <th>Embarked</th>\n",
       "      <th>Family_Size</th>\n",
       "    </tr>\n",
       "  </thead>\n",
       "  <tbody>\n",
       "    <tr>\n",
       "      <th>329</th>\n",
       "      <td>330</td>\n",
       "      <td>1</td>\n",
       "      <td>1</td>\n",
       "      <td>Hippach, Miss. Jean Gertrude</td>\n",
       "      <td>female</td>\n",
       "      <td>16.0</td>\n",
       "      <td>0</td>\n",
       "      <td>1</td>\n",
       "      <td>111361</td>\n",
       "      <td>57.9792</td>\n",
       "      <td>B18</td>\n",
       "      <td>C</td>\n",
       "      <td>1</td>\n",
       "    </tr>\n",
       "    <tr>\n",
       "      <th>523</th>\n",
       "      <td>524</td>\n",
       "      <td>1</td>\n",
       "      <td>1</td>\n",
       "      <td>Hippach, Mrs. Louis Albert (Ida Sophia Fischer)</td>\n",
       "      <td>female</td>\n",
       "      <td>44.0</td>\n",
       "      <td>0</td>\n",
       "      <td>1</td>\n",
       "      <td>111361</td>\n",
       "      <td>57.9792</td>\n",
       "      <td>B18</td>\n",
       "      <td>C</td>\n",
       "      <td>1</td>\n",
       "    </tr>\n",
       "    <tr>\n",
       "      <th>781</th>\n",
       "      <td>782</td>\n",
       "      <td>1</td>\n",
       "      <td>1</td>\n",
       "      <td>Dick, Mrs. Albert Adrian (Vera Gillespie)</td>\n",
       "      <td>female</td>\n",
       "      <td>17.0</td>\n",
       "      <td>1</td>\n",
       "      <td>0</td>\n",
       "      <td>17474</td>\n",
       "      <td>57.0000</td>\n",
       "      <td>B20</td>\n",
       "      <td>S</td>\n",
       "      <td>1</td>\n",
       "    </tr>\n",
       "    <tr>\n",
       "      <th>690</th>\n",
       "      <td>691</td>\n",
       "      <td>1</td>\n",
       "      <td>1</td>\n",
       "      <td>Dick, Mr. Albert Adrian</td>\n",
       "      <td>male</td>\n",
       "      <td>31.0</td>\n",
       "      <td>1</td>\n",
       "      <td>0</td>\n",
       "      <td>17474</td>\n",
       "      <td>57.0000</td>\n",
       "      <td>B20</td>\n",
       "      <td>S</td>\n",
       "      <td>1</td>\n",
       "    </tr>\n",
       "    <tr>\n",
       "      <th>745</th>\n",
       "      <td>746</td>\n",
       "      <td>0</td>\n",
       "      <td>1</td>\n",
       "      <td>Crosby, Capt. Edward Gifford</td>\n",
       "      <td>male</td>\n",
       "      <td>70.0</td>\n",
       "      <td>1</td>\n",
       "      <td>1</td>\n",
       "      <td>WE/P 5735</td>\n",
       "      <td>71.0000</td>\n",
       "      <td>B22</td>\n",
       "      <td>S</td>\n",
       "      <td>2</td>\n",
       "    </tr>\n",
       "  </tbody>\n",
       "</table>\n",
       "</div>"
      ],
      "text/plain": [
       "     PassengerId  Survived  Pclass  \\\n",
       "329          330         1       1   \n",
       "523          524         1       1   \n",
       "781          782         1       1   \n",
       "690          691         1       1   \n",
       "745          746         0       1   \n",
       "\n",
       "                                                Name     Sex   Age  SibSp  \\\n",
       "329                     Hippach, Miss. Jean Gertrude  female  16.0      0   \n",
       "523  Hippach, Mrs. Louis Albert (Ida Sophia Fischer)  female  44.0      0   \n",
       "781        Dick, Mrs. Albert Adrian (Vera Gillespie)  female  17.0      1   \n",
       "690                          Dick, Mr. Albert Adrian    male  31.0      1   \n",
       "745                     Crosby, Capt. Edward Gifford    male  70.0      1   \n",
       "\n",
       "     Parch     Ticket     Fare Cabin Embarked  Family_Size  \n",
       "329      1     111361  57.9792   B18        C            1  \n",
       "523      1     111361  57.9792   B18        C            1  \n",
       "781      0      17474  57.0000   B20        S            1  \n",
       "690      0      17474  57.0000   B20        S            1  \n",
       "745      1  WE/P 5735  71.0000   B22        S            2  "
      ]
     },
     "execution_count": 38,
     "metadata": {},
     "output_type": "execute_result"
    }
   ],
   "source": [
    "titanic_cabin_duplicated.head()"
   ]
  },
  {
   "cell_type": "code",
   "execution_count": 39,
   "id": "de753e5c",
   "metadata": {
    "ExecuteTime": {
     "end_time": "2021-12-26T09:26:57.608213Z",
     "start_time": "2021-12-26T09:26:57.547158Z"
    }
   },
   "outputs": [
    {
     "data": {
      "text/plain": [
       "G6             4\n",
       "C23 C25 C27    4\n",
       "B96 B98        4\n",
       "F33            3\n",
       "D              3\n",
       "E101           3\n",
       "F2             3\n",
       "C22 C26        3\n",
       "B18            2\n",
       "E24            2\n",
       "Name: Cabin, dtype: int64"
      ]
     },
     "execution_count": 39,
     "metadata": {},
     "output_type": "execute_result"
    }
   ],
   "source": [
    "# Now let's check for most frequent duplicated cabins\n",
    "titanic_cabin_duplicated.Cabin.value_counts()[:10]"
   ]
  },
  {
   "cell_type": "code",
   "execution_count": 40,
   "id": "693982a8-885c-4061-b31f-a82f92004941",
   "metadata": {
    "ExecuteTime": {
     "end_time": "2021-12-26T09:26:57.624228Z",
     "start_time": "2021-12-26T09:26:57.609214Z"
    }
   },
   "outputs": [
    {
     "data": {
      "text/html": [
       "<div>\n",
       "<style scoped>\n",
       "    .dataframe tbody tr th:only-of-type {\n",
       "        vertical-align: middle;\n",
       "    }\n",
       "\n",
       "    .dataframe tbody tr th {\n",
       "        vertical-align: top;\n",
       "    }\n",
       "\n",
       "    .dataframe thead th {\n",
       "        text-align: right;\n",
       "    }\n",
       "</style>\n",
       "<table border=\"1\" class=\"dataframe\">\n",
       "  <thead>\n",
       "    <tr style=\"text-align: right;\">\n",
       "      <th></th>\n",
       "      <th>PassengerId</th>\n",
       "      <th>Survived</th>\n",
       "      <th>Pclass</th>\n",
       "      <th>Name</th>\n",
       "      <th>Sex</th>\n",
       "      <th>Age</th>\n",
       "      <th>SibSp</th>\n",
       "      <th>Parch</th>\n",
       "      <th>Ticket</th>\n",
       "      <th>Fare</th>\n",
       "      <th>Cabin</th>\n",
       "      <th>Embarked</th>\n",
       "      <th>Family_Size</th>\n",
       "    </tr>\n",
       "  </thead>\n",
       "  <tbody>\n",
       "    <tr>\n",
       "      <th>435</th>\n",
       "      <td>436</td>\n",
       "      <td>1</td>\n",
       "      <td>1</td>\n",
       "      <td>Carter, Miss. Lucile Polk</td>\n",
       "      <td>female</td>\n",
       "      <td>14.0</td>\n",
       "      <td>1</td>\n",
       "      <td>2</td>\n",
       "      <td>113760</td>\n",
       "      <td>120.0</td>\n",
       "      <td>B96 B98</td>\n",
       "      <td>S</td>\n",
       "      <td>3</td>\n",
       "    </tr>\n",
       "    <tr>\n",
       "      <th>390</th>\n",
       "      <td>391</td>\n",
       "      <td>1</td>\n",
       "      <td>1</td>\n",
       "      <td>Carter, Mr. William Ernest</td>\n",
       "      <td>male</td>\n",
       "      <td>36.0</td>\n",
       "      <td>1</td>\n",
       "      <td>2</td>\n",
       "      <td>113760</td>\n",
       "      <td>120.0</td>\n",
       "      <td>B96 B98</td>\n",
       "      <td>S</td>\n",
       "      <td>3</td>\n",
       "    </tr>\n",
       "    <tr>\n",
       "      <th>763</th>\n",
       "      <td>764</td>\n",
       "      <td>1</td>\n",
       "      <td>1</td>\n",
       "      <td>Carter, Mrs. William Ernest (Lucile Polk)</td>\n",
       "      <td>female</td>\n",
       "      <td>36.0</td>\n",
       "      <td>1</td>\n",
       "      <td>2</td>\n",
       "      <td>113760</td>\n",
       "      <td>120.0</td>\n",
       "      <td>B96 B98</td>\n",
       "      <td>S</td>\n",
       "      <td>3</td>\n",
       "    </tr>\n",
       "    <tr>\n",
       "      <th>802</th>\n",
       "      <td>803</td>\n",
       "      <td>1</td>\n",
       "      <td>1</td>\n",
       "      <td>Carter, Master. William Thornton II</td>\n",
       "      <td>male</td>\n",
       "      <td>11.0</td>\n",
       "      <td>1</td>\n",
       "      <td>2</td>\n",
       "      <td>113760</td>\n",
       "      <td>120.0</td>\n",
       "      <td>B96 B98</td>\n",
       "      <td>S</td>\n",
       "      <td>3</td>\n",
       "    </tr>\n",
       "  </tbody>\n",
       "</table>\n",
       "</div>"
      ],
      "text/plain": [
       "     PassengerId  Survived  Pclass                                       Name  \\\n",
       "435          436         1       1                  Carter, Miss. Lucile Polk   \n",
       "390          391         1       1                 Carter, Mr. William Ernest   \n",
       "763          764         1       1  Carter, Mrs. William Ernest (Lucile Polk)   \n",
       "802          803         1       1        Carter, Master. William Thornton II   \n",
       "\n",
       "        Sex   Age  SibSp  Parch  Ticket   Fare    Cabin Embarked  Family_Size  \n",
       "435  female  14.0      1      2  113760  120.0  B96 B98        S            3  \n",
       "390    male  36.0      1      2  113760  120.0  B96 B98        S            3  \n",
       "763  female  36.0      1      2  113760  120.0  B96 B98        S            3  \n",
       "802    male  11.0      1      2  113760  120.0  B96 B98        S            3  "
      ]
     },
     "execution_count": 40,
     "metadata": {},
     "output_type": "execute_result"
    }
   ],
   "source": [
    "titanic_cabin_duplicated[titanic_cabin_duplicated.Cabin == \"B96 B98\"]"
   ]
  },
  {
   "cell_type": "markdown",
   "id": "3e61e943",
   "metadata": {},
   "source": [
    "<b>Interpretation:</b>\n",
    "\n",
    "    1. Same Ticket Number holders are Traveling together.\n",
    "    2. In most cases They are likely to be family members, but they may also be friends, relatives, maids or companions etc.\n",
    "    3. Passengers Traveling together are likely to book same and/or adjacent cabins"
   ]
  },
  {
   "cell_type": "markdown",
   "id": "035ec2f5",
   "metadata": {
    "jp-MarkdownHeadingCollapsed": true,
    "tags": []
   },
   "source": [
    "## Dealing with Null Values"
   ]
  },
  {
   "cell_type": "code",
   "execution_count": 41,
   "id": "e114039c",
   "metadata": {
    "ExecuteTime": {
     "end_time": "2021-12-26T09:26:57.672271Z",
     "start_time": "2021-12-26T09:26:57.625229Z"
    }
   },
   "outputs": [
    {
     "data": {
      "text/plain": [
       "PassengerId      0\n",
       "Survived         0\n",
       "Pclass           0\n",
       "Name             0\n",
       "Sex              0\n",
       "Age            177\n",
       "SibSp            0\n",
       "Parch            0\n",
       "Ticket           0\n",
       "Fare             0\n",
       "Cabin          687\n",
       "Embarked         2\n",
       "Family_Size      0\n",
       "dtype: int64"
      ]
     },
     "execution_count": 41,
     "metadata": {},
     "output_type": "execute_result"
    }
   ],
   "source": [
    "# Checking for null values in titanic dataset\n",
    "titanic.isna().sum()"
   ]
  },
  {
   "cell_type": "markdown",
   "id": "bc68aa2d",
   "metadata": {},
   "source": [
    "There are significant number of rows with missing values. But as there are only 891 observation available for training our model, we can't drop these rows.\n",
    "\n",
    "Another approach could be dropping these columns but they may contain useful information.\n",
    "\n",
    "So, we will try to impute these values."
   ]
  },
  {
   "cell_type": "markdown",
   "id": "40c6a6dd",
   "metadata": {
    "ExecuteTime": {
     "end_time": "2021-12-23T14:04:16.331573Z",
     "start_time": "2021-12-23T14:04:16.286533Z"
    }
   },
   "source": [
    "### Column: Embarked"
   ]
  },
  {
   "cell_type": "code",
   "execution_count": 42,
   "id": "5f270f14",
   "metadata": {
    "ExecuteTime": {
     "end_time": "2021-12-26T09:26:57.768359Z",
     "start_time": "2021-12-26T09:26:57.673272Z"
    }
   },
   "outputs": [
    {
     "name": "stdout",
     "output_type": "stream",
     "text": [
      "Embarked Column has 3 unique values.\n",
      "\n",
      "Frequency of these values are: \n",
      "S    644\n",
      "C    168\n",
      "Q     77\n",
      "Name: Embarked, dtype: int64\n",
      "\n",
      "Percentage Frequency of values are: \n",
      "S    72.440945\n",
      "C    18.897638\n",
      "Q     8.661417\n",
      "Name: Embarked, dtype: float64\n"
     ]
    }
   ],
   "source": [
    "print(f\"Embarked Column has {titanic.Embarked.nunique()} unique values.\")\n",
    "print(f\"\\nFrequency of these values are: \\n{titanic.Embarked.value_counts()}\")\n",
    "print(\n",
    "    f\"\\nPercentage Frequency of values are: \\n{titanic.Embarked.value_counts(normalize=True)*100}\"\n",
    ")"
   ]
  },
  {
   "cell_type": "markdown",
   "id": "f8f54cf0",
   "metadata": {},
   "source": [
    "As maximum passengers(72%) boarded from Southampton('S'), we can impute missing values with 'S', without introducing significant noise to the data as there is only 2 missing values"
   ]
  },
  {
   "cell_type": "code",
   "execution_count": 43,
   "id": "27df0ae0",
   "metadata": {
    "ExecuteTime": {
     "end_time": "2021-12-26T09:26:57.784373Z",
     "start_time": "2021-12-26T09:26:57.769360Z"
    }
   },
   "outputs": [],
   "source": [
    "titanic.Embarked.fillna(\"S\", inplace=True)"
   ]
  },
  {
   "cell_type": "markdown",
   "id": "d4b67c7c",
   "metadata": {},
   "source": [
    "### Column: Cabin"
   ]
  },
  {
   "cell_type": "code",
   "execution_count": 44,
   "id": "1c57afb0",
   "metadata": {
    "ExecuteTime": {
     "end_time": "2021-12-26T09:26:57.816403Z",
     "start_time": "2021-12-26T09:26:57.785374Z"
    }
   },
   "outputs": [
    {
     "name": "stdout",
     "output_type": "stream",
     "text": [
      "Cabin Column has 147 unique values.\n",
      "\n",
      "Percentage Frequency of values are: \n",
      "B96 B98        1.960784\n",
      "G6             1.960784\n",
      "C23 C25 C27    1.960784\n",
      "F2             1.470588\n",
      "E101           1.470588\n",
      "                 ...   \n",
      "C111           0.490196\n",
      "C110           0.490196\n",
      "C50            0.490196\n",
      "B71            0.490196\n",
      "C85            0.490196\n",
      "Name: Cabin, Length: 147, dtype: float64\n"
     ]
    }
   ],
   "source": [
    "print(f\"Cabin Column has {titanic.Cabin.nunique()} unique values.\")\n",
    "print(\n",
    "    f\"\\nPercentage Frequency of values are: \\n{titanic.Cabin.value_counts(normalize=True)*100}\"\n",
    ")"
   ]
  },
  {
   "cell_type": "markdown",
   "id": "b8d5a190",
   "metadata": {},
   "source": [
    "As 'Cabin' Column has too many unique values and very little repetitive values it will be impossible to impute these values with any certain values.\n",
    "\n",
    "So, we will impute these with a universal constant value. This will enable us to explore for any probable feature engineering later. For this value, we can assume that these passengers did not book a cabin and so these values are represented as missing values."
   ]
  },
  {
   "cell_type": "code",
   "execution_count": 45,
   "id": "7fd803c9",
   "metadata": {
    "ExecuteTime": {
     "end_time": "2021-12-26T09:26:57.832417Z",
     "start_time": "2021-12-26T09:26:57.817404Z"
    }
   },
   "outputs": [],
   "source": [
    "titanic.Cabin.fillna(\"non_cabin\", inplace=True)"
   ]
  },
  {
   "cell_type": "markdown",
   "id": "0692f747",
   "metadata": {},
   "source": [
    "### Column: Age"
   ]
  },
  {
   "cell_type": "code",
   "execution_count": 46,
   "id": "a4856387",
   "metadata": {
    "ExecuteTime": {
     "end_time": "2021-12-26T09:26:57.864446Z",
     "start_time": "2021-12-26T09:26:57.833418Z"
    }
   },
   "outputs": [
    {
     "name": "stdout",
     "output_type": "stream",
     "text": [
      "Age Column has 88 unique values.\n",
      "\n",
      "Frequency of these values are: \n",
      "24.00    30\n",
      "22.00    27\n",
      "18.00    26\n",
      "19.00    25\n",
      "30.00    25\n",
      "         ..\n",
      "55.50     1\n",
      "70.50     1\n",
      "66.00     1\n",
      "23.50     1\n",
      "0.42      1\n",
      "Name: Age, Length: 88, dtype: int64\n"
     ]
    }
   ],
   "source": [
    "print(f\"Age Column has {titanic.Age.nunique()} unique values.\")\n",
    "print(f\"\\nFrequency of these values are: \\n{titanic.Age.value_counts()}\")"
   ]
  },
  {
   "cell_type": "markdown",
   "id": "5d5dce27",
   "metadata": {},
   "source": [
    "We see that 'Age' has many unique values but as it's a numeric column we can impute the missing values in several ways. So, let's check it's distribution first."
   ]
  },
  {
   "cell_type": "code",
   "execution_count": 47,
   "id": "3e74c209",
   "metadata": {
    "ExecuteTime": {
     "end_time": "2021-12-26T09:26:58.216767Z",
     "start_time": "2021-12-26T09:26:57.865447Z"
    }
   },
   "outputs": [
    {
     "data": {
      "text/plain": [
       "<seaborn.axisgrid.FacetGrid at 0x18f810e39e8>"
      ]
     },
     "execution_count": 47,
     "metadata": {},
     "output_type": "execute_result"
    },
    {
     "data": {
      "image/png": "[encoded data removed]",
      "text/plain": [
       "<Figure size 360x360 with 1 Axes>"
      ]
     },
     "metadata": {},
     "output_type": "display_data"
    }
   ],
   "source": [
    "sns.displot(titanic.Age)"
   ]
  },
  {
   "cell_type": "code",
   "execution_count": 48,
   "id": "fb0bd212",
   "metadata": {
    "ExecuteTime": {
     "end_time": "2021-12-26T09:26:58.388924Z",
     "start_time": "2021-12-26T09:26:58.217768Z"
    }
   },
   "outputs": [
    {
     "data": {
      "text/plain": [
       "<AxesSubplot:xlabel='Age'>"
      ]
     },
     "execution_count": 48,
     "metadata": {},
     "output_type": "execute_result"
    },
    {
     "data": {
      "image/png": "[encoded data removed]",
      "text/plain": [
       "<Figure size 576x396 with 1 Axes>"
      ]
     },
     "metadata": {},
     "output_type": "display_data"
    }
   ],
   "source": [
    "sns.boxplot(x=titanic.Age)"
   ]
  },
  {
   "cell_type": "markdown",
   "id": "60a12d2c",
   "metadata": {},
   "source": [
    "We see that distribution of Age is right skewed. So, for imputation we will use median as it is more robust in case of outliers. "
   ]
  },
  {
   "cell_type": "code",
   "execution_count": 49,
   "id": "d4db0a61",
   "metadata": {
    "ExecuteTime": {
     "end_time": "2021-12-26T09:26:58.404938Z",
     "start_time": "2021-12-26T09:26:58.389924Z"
    }
   },
   "outputs": [],
   "source": [
    "titanic.Age.fillna(titanic.Age.median(), inplace=True)"
   ]
  },
  {
   "cell_type": "markdown",
   "id": "a0c9b6b3",
   "metadata": {},
   "source": [
    "## Dealing With Null Values (Test Data)"
   ]
  },
  {
   "cell_type": "code",
   "execution_count": 50,
   "id": "dc9d849c",
   "metadata": {
    "ExecuteTime": {
     "end_time": "2021-12-26T09:26:58.452982Z",
     "start_time": "2021-12-26T09:26:58.405939Z"
    }
   },
   "outputs": [
    {
     "data": {
      "text/plain": [
       "PassengerId      0\n",
       "Pclass           0\n",
       "Name             0\n",
       "Sex              0\n",
       "Age             86\n",
       "SibSp            0\n",
       "Parch            0\n",
       "Ticket           0\n",
       "Fare             1\n",
       "Cabin          327\n",
       "Embarked         0\n",
       "dtype: int64"
      ]
     },
     "execution_count": 50,
     "metadata": {},
     "output_type": "execute_result"
    }
   ],
   "source": [
    "test_data.isna().sum()"
   ]
  },
  {
   "cell_type": "markdown",
   "id": "67ab1309",
   "metadata": {},
   "source": [
    "We have to make predictions for each row of test data. Therefore we can't drop any row."
   ]
  },
  {
   "cell_type": "markdown",
   "id": "6a68d932",
   "metadata": {},
   "source": [
    "### Column: Age"
   ]
  },
  {
   "cell_type": "markdown",
   "id": "09eefb49",
   "metadata": {},
   "source": [
    "We will impute Null Values with median as we did with train(titanic) data"
   ]
  },
  {
   "cell_type": "code",
   "execution_count": 51,
   "id": "bfaeb265",
   "metadata": {
    "ExecuteTime": {
     "end_time": "2021-12-26T09:26:58.468997Z",
     "start_time": "2021-12-26T09:26:58.453983Z"
    }
   },
   "outputs": [],
   "source": [
    "test_data.Age.fillna(test_data.Age.median(), inplace=True)"
   ]
  },
  {
   "cell_type": "markdown",
   "id": "abde5cb3",
   "metadata": {},
   "source": [
    "### Column: Cabin"
   ]
  },
  {
   "cell_type": "markdown",
   "id": "a5cb3fc0",
   "metadata": {},
   "source": [
    "We will impute Null Values as we did with titanic data"
   ]
  },
  {
   "cell_type": "code",
   "execution_count": 52,
   "id": "ba60f838",
   "metadata": {
    "ExecuteTime": {
     "end_time": "2021-12-26T09:26:58.485011Z",
     "start_time": "2021-12-26T09:26:58.469998Z"
    }
   },
   "outputs": [],
   "source": [
    "test_data.Cabin.fillna('non_cabin', inplace=True)"
   ]
  },
  {
   "cell_type": "markdown",
   "id": "d7bc3436",
   "metadata": {},
   "source": [
    "### Column: Fare"
   ]
  },
  {
   "cell_type": "markdown",
   "id": "fbb5121f",
   "metadata": {},
   "source": [
    "Fare has only 1 missing value. But before imputation let's check for any other relationships that will help us impute this value"
   ]
  },
  {
   "cell_type": "code",
   "execution_count": 53,
   "id": "9d0f73d5",
   "metadata": {
    "ExecuteTime": {
     "end_time": "2021-12-26T09:26:58.501025Z",
     "start_time": "2021-12-26T09:26:58.486012Z"
    }
   },
   "outputs": [
    {
     "data": {
      "text/html": [
       "<div>\n",
       "<style scoped>\n",
       "    .dataframe tbody tr th:only-of-type {\n",
       "        vertical-align: middle;\n",
       "    }\n",
       "\n",
       "    .dataframe tbody tr th {\n",
       "        vertical-align: top;\n",
       "    }\n",
       "\n",
       "    .dataframe thead th {\n",
       "        text-align: right;\n",
       "    }\n",
       "</style>\n",
       "<table border=\"1\" class=\"dataframe\">\n",
       "  <thead>\n",
       "    <tr style=\"text-align: right;\">\n",
       "      <th></th>\n",
       "      <th>PassengerId</th>\n",
       "      <th>Pclass</th>\n",
       "      <th>Name</th>\n",
       "      <th>Sex</th>\n",
       "      <th>Age</th>\n",
       "      <th>SibSp</th>\n",
       "      <th>Parch</th>\n",
       "      <th>Ticket</th>\n",
       "      <th>Fare</th>\n",
       "      <th>Cabin</th>\n",
       "      <th>Embarked</th>\n",
       "    </tr>\n",
       "  </thead>\n",
       "  <tbody>\n",
       "  </tbody>\n",
       "</table>\n",
       "</div>"
      ],
      "text/plain": [
       "Empty DataFrame\n",
       "Columns: [PassengerId, Pclass, Name, Sex, Age, SibSp, Parch, Ticket, Fare, Cabin, Embarked]\n",
       "Index: []"
      ]
     },
     "execution_count": 53,
     "metadata": {},
     "output_type": "execute_result"
    }
   ],
   "source": [
    "test_data[test_data.Fare == np.NaN]"
   ]
  },
  {
   "cell_type": "markdown",
   "id": "c40c8ee3",
   "metadata": {},
   "source": [
    "It seems it's not encoded as normal NaN. So we will first fill this value with -1 and then explore."
   ]
  },
  {
   "cell_type": "code",
   "execution_count": 54,
   "id": "a114e391",
   "metadata": {
    "ExecuteTime": {
     "end_time": "2021-12-26T09:26:58.517040Z",
     "start_time": "2021-12-26T09:26:58.502026Z"
    }
   },
   "outputs": [
    {
     "data": {
      "text/html": [
       "<div>\n",
       "<style scoped>\n",
       "    .dataframe tbody tr th:only-of-type {\n",
       "        vertical-align: middle;\n",
       "    }\n",
       "\n",
       "    .dataframe tbody tr th {\n",
       "        vertical-align: top;\n",
       "    }\n",
       "\n",
       "    .dataframe thead th {\n",
       "        text-align: right;\n",
       "    }\n",
       "</style>\n",
       "<table border=\"1\" class=\"dataframe\">\n",
       "  <thead>\n",
       "    <tr style=\"text-align: right;\">\n",
       "      <th></th>\n",
       "      <th>PassengerId</th>\n",
       "      <th>Pclass</th>\n",
       "      <th>Name</th>\n",
       "      <th>Sex</th>\n",
       "      <th>Age</th>\n",
       "      <th>SibSp</th>\n",
       "      <th>Parch</th>\n",
       "      <th>Ticket</th>\n",
       "      <th>Fare</th>\n",
       "      <th>Cabin</th>\n",
       "      <th>Embarked</th>\n",
       "    </tr>\n",
       "  </thead>\n",
       "  <tbody>\n",
       "    <tr>\n",
       "      <th>152</th>\n",
       "      <td>1044</td>\n",
       "      <td>3</td>\n",
       "      <td>Storey, Mr. Thomas</td>\n",
       "      <td>male</td>\n",
       "      <td>60.5</td>\n",
       "      <td>0</td>\n",
       "      <td>0</td>\n",
       "      <td>3701</td>\n",
       "      <td>-1.0</td>\n",
       "      <td>non_cabin</td>\n",
       "      <td>S</td>\n",
       "    </tr>\n",
       "  </tbody>\n",
       "</table>\n",
       "</div>"
      ],
      "text/plain": [
       "     PassengerId  Pclass                Name   Sex   Age  SibSp  Parch Ticket  \\\n",
       "152         1044       3  Storey, Mr. Thomas  male  60.5      0      0   3701   \n",
       "\n",
       "     Fare      Cabin Embarked  \n",
       "152  -1.0  non_cabin        S  "
      ]
     },
     "execution_count": 54,
     "metadata": {},
     "output_type": "execute_result"
    }
   ],
   "source": [
    "# creating a copy, so that any operation doesn't affect our main data.\n",
    "td_cpy = test_data.copy()\n",
    "td_cpy.Fare.fillna(-1, inplace=True)\n",
    "td_cpy[td_cpy.Fare == -1]"
   ]
  },
  {
   "cell_type": "markdown",
   "id": "556b0e0c",
   "metadata": {
    "ExecuteTime": {
     "end_time": "2021-12-25T05:20:08.802767Z",
     "start_time": "2021-12-25T05:20:08.781750Z"
    }
   },
   "source": [
    "We will impute this with fare for passenger who is:\n",
    "\n",
    "    1. Traveling alone (no SibSp or Parch)\n",
    "    2. Traveling in 3rd class.\n",
    "    3. No cabin\n",
    "    4. Boarded from Southampton"
   ]
  },
  {
   "cell_type": "code",
   "execution_count": 55,
   "id": "7e3fc054",
   "metadata": {
    "ExecuteTime": {
     "end_time": "2021-12-26T09:26:58.565084Z",
     "start_time": "2021-12-26T09:26:58.518041Z"
    }
   },
   "outputs": [
    {
     "name": "stdout",
     "output_type": "stream",
     "text": [
      "Number of people who fit our profile is: 91\n"
     ]
    },
    {
     "data": {
      "text/html": [
       "<div>\n",
       "<style scoped>\n",
       "    .dataframe tbody tr th:only-of-type {\n",
       "        vertical-align: middle;\n",
       "    }\n",
       "\n",
       "    .dataframe tbody tr th {\n",
       "        vertical-align: top;\n",
       "    }\n",
       "\n",
       "    .dataframe thead th {\n",
       "        text-align: right;\n",
       "    }\n",
       "</style>\n",
       "<table border=\"1\" class=\"dataframe\">\n",
       "  <thead>\n",
       "    <tr style=\"text-align: right;\">\n",
       "      <th></th>\n",
       "      <th>PassengerId</th>\n",
       "      <th>Pclass</th>\n",
       "      <th>Name</th>\n",
       "      <th>Sex</th>\n",
       "      <th>Age</th>\n",
       "      <th>SibSp</th>\n",
       "      <th>Parch</th>\n",
       "      <th>Ticket</th>\n",
       "      <th>Fare</th>\n",
       "      <th>Cabin</th>\n",
       "      <th>Embarked</th>\n",
       "    </tr>\n",
       "  </thead>\n",
       "  <tbody>\n",
       "    <tr>\n",
       "      <th>3</th>\n",
       "      <td>895</td>\n",
       "      <td>3</td>\n",
       "      <td>Wirz, Mr. Albert</td>\n",
       "      <td>male</td>\n",
       "      <td>27.0</td>\n",
       "      <td>0</td>\n",
       "      <td>0</td>\n",
       "      <td>315154</td>\n",
       "      <td>8.6625</td>\n",
       "      <td>non_cabin</td>\n",
       "      <td>S</td>\n",
       "    </tr>\n",
       "    <tr>\n",
       "      <th>5</th>\n",
       "      <td>897</td>\n",
       "      <td>3</td>\n",
       "      <td>Svensson, Mr. Johan Cervin</td>\n",
       "      <td>male</td>\n",
       "      <td>14.0</td>\n",
       "      <td>0</td>\n",
       "      <td>0</td>\n",
       "      <td>7538</td>\n",
       "      <td>9.2250</td>\n",
       "      <td>non_cabin</td>\n",
       "      <td>S</td>\n",
       "    </tr>\n",
       "    <tr>\n",
       "      <th>10</th>\n",
       "      <td>902</td>\n",
       "      <td>3</td>\n",
       "      <td>Ilieff, Mr. Ylio</td>\n",
       "      <td>male</td>\n",
       "      <td>27.0</td>\n",
       "      <td>0</td>\n",
       "      <td>0</td>\n",
       "      <td>349220</td>\n",
       "      <td>7.8958</td>\n",
       "      <td>non_cabin</td>\n",
       "      <td>S</td>\n",
       "    </tr>\n",
       "    <tr>\n",
       "      <th>36</th>\n",
       "      <td>928</td>\n",
       "      <td>3</td>\n",
       "      <td>Roth, Miss. Sarah A</td>\n",
       "      <td>female</td>\n",
       "      <td>27.0</td>\n",
       "      <td>0</td>\n",
       "      <td>0</td>\n",
       "      <td>342712</td>\n",
       "      <td>8.0500</td>\n",
       "      <td>non_cabin</td>\n",
       "      <td>S</td>\n",
       "    </tr>\n",
       "    <tr>\n",
       "      <th>37</th>\n",
       "      <td>929</td>\n",
       "      <td>3</td>\n",
       "      <td>Cacic, Miss. Manda</td>\n",
       "      <td>female</td>\n",
       "      <td>21.0</td>\n",
       "      <td>0</td>\n",
       "      <td>0</td>\n",
       "      <td>315087</td>\n",
       "      <td>8.6625</td>\n",
       "      <td>non_cabin</td>\n",
       "      <td>S</td>\n",
       "    </tr>\n",
       "  </tbody>\n",
       "</table>\n",
       "</div>"
      ],
      "text/plain": [
       "    PassengerId  Pclass                        Name     Sex   Age  SibSp  \\\n",
       "3           895       3            Wirz, Mr. Albert    male  27.0      0   \n",
       "5           897       3  Svensson, Mr. Johan Cervin    male  14.0      0   \n",
       "10          902       3            Ilieff, Mr. Ylio    male  27.0      0   \n",
       "36          928       3         Roth, Miss. Sarah A  female  27.0      0   \n",
       "37          929       3          Cacic, Miss. Manda  female  21.0      0   \n",
       "\n",
       "    Parch  Ticket    Fare      Cabin Embarked  \n",
       "3       0  315154  8.6625  non_cabin        S  \n",
       "5       0    7538  9.2250  non_cabin        S  \n",
       "10      0  349220  7.8958  non_cabin        S  \n",
       "36      0  342712  8.0500  non_cabin        S  \n",
       "37      0  315087  8.6625  non_cabin        S  "
      ]
     },
     "execution_count": 55,
     "metadata": {},
     "output_type": "execute_result"
    }
   ],
   "source": [
    "profile = td_cpy[(td_cpy.Pclass == 3) & (td_cpy.SibSp + td_cpy.Parch == 0) &\n",
    "          (td_cpy.Cabin == 'non_cabin') & (td_cpy.Embarked == 'S')]\n",
    "\n",
    "print(f'Number of people who fit our profile is: {profile.shape[0]}')\n",
    "profile.head()"
   ]
  },
  {
   "cell_type": "markdown",
   "id": "e3aeb60f",
   "metadata": {},
   "source": [
    "We see Fare seems to vary. So we will impute with mode of Fare of the passengers who fit our profile"
   ]
  },
  {
   "cell_type": "code",
   "execution_count": 56,
   "id": "6102247a",
   "metadata": {
    "ExecuteTime": {
     "end_time": "2021-12-26T09:26:58.581098Z",
     "start_time": "2021-12-26T09:26:58.566085Z"
    }
   },
   "outputs": [
    {
     "name": "stdout",
     "output_type": "stream",
     "text": [
      "Here we will impute with 8.05\n"
     ]
    }
   ],
   "source": [
    "print(f'Here we will impute with {float(profile.Fare.mode())}')\n",
    "test_data.Fare.fillna(float(profile.Fare.mode()), inplace=True)"
   ]
  },
  {
   "cell_type": "code",
   "execution_count": 57,
   "id": "96e8d7b2",
   "metadata": {
    "ExecuteTime": {
     "end_time": "2021-12-26T09:26:58.645157Z",
     "start_time": "2021-12-26T09:26:58.582099Z"
    }
   },
   "outputs": [
    {
     "data": {
      "text/plain": [
       "PassengerId                  1044\n",
       "Pclass                          3\n",
       "Name           Storey, Mr. Thomas\n",
       "Sex                          male\n",
       "Age                          60.5\n",
       "SibSp                           0\n",
       "Parch                           0\n",
       "Ticket                       3701\n",
       "Fare                         8.05\n",
       "Cabin                   non_cabin\n",
       "Embarked                        S\n",
       "Name: 152, dtype: object"
      ]
     },
     "execution_count": 57,
     "metadata": {},
     "output_type": "execute_result"
    }
   ],
   "source": [
    "# sanity check\n",
    "test_data.iloc[152]"
   ]
  },
  {
   "cell_type": "markdown",
   "id": "0460ecb1",
   "metadata": {
    "jp-MarkdownHeadingCollapsed": true,
    "tags": []
   },
   "source": [
    "## Bivariate Analysis with Target Variable (Survived)"
   ]
  },
  {
   "cell_type": "markdown",
   "id": "708f967b",
   "metadata": {
    "jp-MarkdownHeadingCollapsed": true,
    "tags": []
   },
   "source": [
    "### Relation between Survival & Ticket Class (Pclass) "
   ]
  },
  {
   "cell_type": "code",
   "execution_count": 58,
   "id": "6bbf6930",
   "metadata": {
    "ExecuteTime": {
     "end_time": "2021-12-26T09:26:58.709215Z",
     "start_time": "2021-12-26T09:26:58.646158Z"
    }
   },
   "outputs": [
    {
     "data": {
      "text/plain": [
       "1    216\n",
       "2    184\n",
       "3    491\n",
       "Name: Pclass, dtype: int64"
      ]
     },
     "execution_count": 58,
     "metadata": {},
     "output_type": "execute_result"
    }
   ],
   "source": [
    "# let's check for unique ticket classes\n",
    "titanic.Pclass.value_counts(sort=False)"
   ]
  },
  {
   "cell_type": "code",
   "execution_count": 59,
   "id": "fd0c1da2",
   "metadata": {
    "ExecuteTime": {
     "end_time": "2021-12-26T09:26:58.933419Z",
     "start_time": "2021-12-26T09:26:58.710216Z"
    }
   },
   "outputs": [
    {
     "data": {
      "text/plain": [
       "<AxesSubplot:xlabel='Pclass', ylabel='count'>"
      ]
     },
     "execution_count": 59,
     "metadata": {},
     "output_type": "execute_result"
    },
    {
     "data": {
      "image/png": "[encoded data removed]",
      "text/plain": [
       "<Figure size 576x396 with 1 Axes>"
      ]
     },
     "metadata": {},
     "output_type": "display_data"
    }
   ],
   "source": [
    "sns.countplot(x=titanic.Pclass, hue=titanic.Survived)"
   ]
  },
  {
   "cell_type": "markdown",
   "id": "07361b80",
   "metadata": {},
   "source": [
    "There's visually an imbalance. but that might be due to large number of passengers with 3rd class ticket. let's dig deeper."
   ]
  },
  {
   "cell_type": "code",
   "execution_count": 60,
   "id": "6c12907d",
   "metadata": {
    "ExecuteTime": {
     "end_time": "2021-12-26T09:26:58.949434Z",
     "start_time": "2021-12-26T09:26:58.934420Z"
    }
   },
   "outputs": [
    {
     "name": "stdout",
     "output_type": "stream",
     "text": [
      "Percent representation of Ticket class: \n",
      "1    24.242424\n",
      "2    20.650954\n",
      "3    55.106622\n",
      "Name: Pclass, dtype: float64\n"
     ]
    }
   ],
   "source": [
    "print(\n",
    "    f\"Percent representation of Ticket class: \\n{titanic.Pclass.value_counts(normalize=True, sort=False)*100}\"\n",
    ")"
   ]
  },
  {
   "cell_type": "code",
   "execution_count": 61,
   "id": "3209f246",
   "metadata": {
    "ExecuteTime": {
     "end_time": "2021-12-26T09:26:59.013492Z",
     "start_time": "2021-12-26T09:26:58.950435Z"
    }
   },
   "outputs": [
    {
     "data": {
      "text/plain": [
       "Survived  Pclass\n",
       "0         1         14.571949\n",
       "          2         17.668488\n",
       "          3         67.759563\n",
       "1         1         39.766082\n",
       "          2         25.438596\n",
       "          3         34.795322\n",
       "Name: Pclass, dtype: float64"
      ]
     },
     "execution_count": 61,
     "metadata": {},
     "output_type": "execute_result"
    }
   ],
   "source": [
    "# percentage of ticket class representation on overall Death and Survival\n",
    "titanic.groupby(\"Survived\").Pclass.value_counts(normalize=True,\n",
    "                                                sort=False) * 100"
   ]
  },
  {
   "cell_type": "markdown",
   "id": "7e22aeb5",
   "metadata": {},
   "source": [
    "<b>Interpretation:</b>\n",
    "\n",
    "    1. Though 1st class ticket holders represent 24.24% of passengers but in survived passengers they are represented 39.77%.\n",
    "    2. In terms of 2nd class ticket holders, although they are 20.65% of total passengers, they are 25.44% of survived passengers.\n",
    "    3. The situation is reversed for 3rd class ticket holders. They are 55.1% of total passengers but are only 34.8% of the passengers who survived."
   ]
  },
  {
   "cell_type": "code",
   "execution_count": 62,
   "id": "8b5b74d9",
   "metadata": {
    "ExecuteTime": {
     "end_time": "2021-12-26T09:26:59.061535Z",
     "start_time": "2021-12-26T09:26:59.014493Z"
    }
   },
   "outputs": [
    {
     "data": {
      "text/plain": [
       "Pclass  Survived\n",
       "1       0           37.037037\n",
       "        1           62.962963\n",
       "2       0           52.717391\n",
       "        1           47.282609\n",
       "3       0           75.763747\n",
       "        1           24.236253\n",
       "Name: Pclass, dtype: float64"
      ]
     },
     "execution_count": 62,
     "metadata": {},
     "output_type": "execute_result"
    }
   ],
   "source": [
    "# Now let's find the percent of passengers survived against their ticket class\n",
    "titanic.groupby([\n",
    "    \"Pclass\", \"Survived\"\n",
    "]).Pclass.count() / titanic.groupby(\"Pclass\").Pclass.count() * 100"
   ]
  },
  {
   "cell_type": "markdown",
   "id": "ca4abf03",
   "metadata": {},
   "source": [
    "<b>Interpretation:</b>\n",
    "\n",
    "    1. 1st class ticket holders were much more likely to survive (about 63% of 1st class passengers survived).\n",
    "    2. For 2nd class ticket holders it was almost 50-50 (slightly less likely to survive)\n",
    "    3. But for 3rd class ticket holders it's very much different. Almost 76% of 3rd class passengers died."
   ]
  },
  {
   "cell_type": "markdown",
   "id": "255a0537",
   "metadata": {
    "jp-MarkdownHeadingCollapsed": true,
    "tags": []
   },
   "source": [
    "### Relation between Survival & Passenger Gender (Sex) "
   ]
  },
  {
   "cell_type": "code",
   "execution_count": 63,
   "id": "02259196",
   "metadata": {
    "ExecuteTime": {
     "end_time": "2021-12-26T09:26:59.109579Z",
     "start_time": "2021-12-26T09:26:59.062536Z"
    }
   },
   "outputs": [
    {
     "data": {
      "text/plain": [
       "male      577\n",
       "female    314\n",
       "Name: Sex, dtype: int64"
      ]
     },
     "execution_count": 63,
     "metadata": {},
     "output_type": "execute_result"
    }
   ],
   "source": [
    "titanic.Sex.value_counts()"
   ]
  },
  {
   "cell_type": "code",
   "execution_count": 64,
   "id": "8cbc88d0",
   "metadata": {
    "ExecuteTime": {
     "end_time": "2021-12-26T09:26:59.296749Z",
     "start_time": "2021-12-26T09:26:59.110580Z"
    }
   },
   "outputs": [
    {
     "data": {
      "text/plain": [
       "<AxesSubplot:xlabel='Sex', ylabel='count'>"
      ]
     },
     "execution_count": 64,
     "metadata": {},
     "output_type": "execute_result"
    },
    {
     "data": {
      "image/png": "[encoded data removed]",
      "text/plain": [
       "<Figure size 576x396 with 1 Axes>"
      ]
     },
     "metadata": {},
     "output_type": "display_data"
    }
   ],
   "source": [
    "sns.countplot(x=titanic.Sex, hue=titanic.Survived)"
   ]
  },
  {
   "cell_type": "markdown",
   "id": "cd41978c",
   "metadata": {},
   "source": [
    "We see that there is a very significant disparity between Male and Female Survival. Lets explore this as percentage."
   ]
  },
  {
   "cell_type": "code",
   "execution_count": 65,
   "id": "bef8b87e",
   "metadata": {
    "ExecuteTime": {
     "end_time": "2021-12-26T09:26:59.564826Z",
     "start_time": "2021-12-26T09:26:59.298751Z"
    }
   },
   "outputs": [
    {
     "name": "stdout",
     "output_type": "stream",
     "text": [
      "Sex     Survived\n",
      "female  1           74.203822\n",
      "        0           25.796178\n",
      "male    0           81.109185\n",
      "        1           18.890815\n",
      "Name: Survived, dtype: float64\n"
     ]
    },
    {
     "data": {
      "text/plain": [
       "<AxesSubplot:xlabel='Sex,Survived'>"
      ]
     },
     "execution_count": 65,
     "metadata": {},
     "output_type": "execute_result"
    },
    {
     "data": {
      "image/png": "[encoded data removed]",
      "text/plain": [
       "<Figure size 576x396 with 1 Axes>"
      ]
     },
     "metadata": {},
     "output_type": "display_data"
    }
   ],
   "source": [
    "print(titanic.groupby(\"Sex\").Survived.value_counts(normalize=True) * 100)\n",
    "(titanic.groupby(\"Sex\").Survived.value_counts(normalize=True) *\n",
    " 100).plot(kind=\"bar\")"
   ]
  },
  {
   "cell_type": "markdown",
   "id": "af370b00",
   "metadata": {},
   "source": [
    "Wow!! Females have a 74% chance of survival whereas Males have only 19% chance of survival."
   ]
  },
  {
   "cell_type": "markdown",
   "id": "5d229743",
   "metadata": {
    "jp-MarkdownHeadingCollapsed": true,
    "tags": []
   },
   "source": [
    "### Effect of Age on Survival"
   ]
  },
  {
   "cell_type": "code",
   "execution_count": 66,
   "id": "5e1ab2f8",
   "metadata": {
    "ExecuteTime": {
     "end_time": "2021-12-26T09:26:59.875902Z",
     "start_time": "2021-12-26T09:26:59.565827Z"
    },
    "scrolled": true
   },
   "outputs": [
    {
     "data": {
      "text/plain": [
       "<AxesSubplot:xlabel='Age'>"
      ]
     },
     "execution_count": 66,
     "metadata": {},
     "output_type": "execute_result"
    },
    {
     "data": {
      "image/png": "[encoded data removed]",
      "text/plain": [
       "<Figure size 576x396 with 1 Axes>"
      ]
     },
     "metadata": {},
     "output_type": "display_data"
    }
   ],
   "source": [
    "titanic.groupby(\"Age\").Survived.sum().plot()"
   ]
  },
  {
   "cell_type": "markdown",
   "id": "6a0677eb",
   "metadata": {},
   "source": [
    "We see a huge spike on 28 years. This may be due to imputation of missing values with median (which was 28).\n",
    "\n",
    "We also see a general trend for 15-50 years old.\n",
    "\n",
    "The trend is downward for people aged greater than 50 years old."
   ]
  },
  {
   "cell_type": "code",
   "execution_count": 67,
   "id": "99b6cd42",
   "metadata": {
    "ExecuteTime": {
     "end_time": "2021-12-26T09:27:00.148150Z",
     "start_time": "2021-12-26T09:26:59.876903Z"
    }
   },
   "outputs": [
    {
     "data": {
      "text/plain": [
       "<AxesSubplot:xlabel='Parch', ylabel='count'>"
      ]
     },
     "execution_count": 67,
     "metadata": {},
     "output_type": "execute_result"
    },
    {
     "data": {
      "image/png": "[encoded data removed]",
      "text/plain": [
       "<Figure size 576x396 with 1 Axes>"
      ]
     },
     "metadata": {},
     "output_type": "display_data"
    }
   ],
   "source": [
    "sns.countplot(x=titanic.Parch, hue=titanic.Survived)"
   ]
  },
  {
   "cell_type": "code",
   "execution_count": 68,
   "id": "2b0a14af",
   "metadata": {
    "ExecuteTime": {
     "end_time": "2021-12-26T09:27:00.386367Z",
     "start_time": "2021-12-26T09:27:00.149151Z"
    }
   },
   "outputs": [
    {
     "name": "stdout",
     "output_type": "stream",
     "text": [
      "Parch\n",
      "0    233\n",
      "1     65\n",
      "2     40\n",
      "3      3\n",
      "4      0\n",
      "5      1\n",
      "6      0\n",
      "Name: Survived, dtype: int64\n"
     ]
    },
    {
     "data": {
      "text/plain": [
       "<AxesSubplot:xlabel='Parch'>"
      ]
     },
     "execution_count": 68,
     "metadata": {},
     "output_type": "execute_result"
    },
    {
     "data": {
      "image/png": "[encoded data removed]",
      "text/plain": [
       "<Figure size 576x396 with 1 Axes>"
      ]
     },
     "metadata": {},
     "output_type": "display_data"
    }
   ],
   "source": [
    "print(titanic.groupby(\"Parch\").Survived.sum())\n",
    "titanic.groupby(\"Parch\").Survived.sum().plot()"
   ]
  },
  {
   "cell_type": "code",
   "execution_count": 69,
   "id": "caf23910",
   "metadata": {
    "ExecuteTime": {
     "end_time": "2021-12-26T09:27:00.450425Z",
     "start_time": "2021-12-26T09:27:00.387367Z"
    }
   },
   "outputs": [
    {
     "data": {
      "text/plain": [
       "Parch  Survived\n",
       "0      0            65.634218\n",
       "       1            34.365782\n",
       "1      0            44.915254\n",
       "       1            55.084746\n",
       "2      0            50.000000\n",
       "       1            50.000000\n",
       "3      0            40.000000\n",
       "       1            60.000000\n",
       "4      0           100.000000\n",
       "5      0            80.000000\n",
       "       1            20.000000\n",
       "6      0           100.000000\n",
       "Name: Parch, dtype: float64"
      ]
     },
     "execution_count": 69,
     "metadata": {},
     "output_type": "execute_result"
    }
   ],
   "source": [
    "# Now let's find the percent of passengers survived against their number of parent/children\n",
    "titanic.groupby([\n",
    "    \"Parch\", \"Survived\"\n",
    "]).Parch.count() / titanic.groupby(\"Parch\").Parch.count() * 100"
   ]
  },
  {
   "cell_type": "markdown",
   "id": "dce0d035",
   "metadata": {},
   "source": [
    "Surprisingly passengers with 1,2&3 parents/children has a better survival percentage than others. As Sample size is very low we can't draw any conclusion from this."
   ]
  },
  {
   "cell_type": "markdown",
   "id": "f0a3ea0a-b9aa-4404-8ff4-8974a3102043",
   "metadata": {
    "jp-MarkdownHeadingCollapsed": true,
    "tags": []
   },
   "source": [
    "### Effect of Family Size on Survival"
   ]
  },
  {
   "cell_type": "code",
   "execution_count": 70,
   "id": "aa753a33-a25c-4f6f-a51a-1b7dcd6ef556",
   "metadata": {
    "ExecuteTime": {
     "end_time": "2021-12-26T09:27:00.689643Z",
     "start_time": "2021-12-26T09:27:00.451426Z"
    }
   },
   "outputs": [
    {
     "name": "stdout",
     "output_type": "stream",
     "text": [
      "Family_Size\n",
      "0     163\n",
      "1      89\n",
      "2      59\n",
      "3      21\n",
      "4       3\n",
      "5       3\n",
      "6       4\n",
      "7       0\n",
      "10      0\n",
      "Name: Survived, dtype: int64\n"
     ]
    },
    {
     "data": {
      "text/plain": [
       "<AxesSubplot:xlabel='Family_Size'>"
      ]
     },
     "execution_count": 70,
     "metadata": {},
     "output_type": "execute_result"
    },
    {
     "data": {
      "image/png": "[encoded data removed]",
      "text/plain": [
       "<Figure size 576x396 with 1 Axes>"
      ]
     },
     "metadata": {},
     "output_type": "display_data"
    }
   ],
   "source": [
    "print(titanic.groupby(\"Family_Size\").Survived.sum())\n",
    "titanic.groupby(\"Family_Size\").Survived.sum().plot()"
   ]
  },
  {
   "cell_type": "markdown",
   "id": "f0c1eee7-860c-4596-b514-5f9116e90856",
   "metadata": {},
   "source": [
    "We see that as Family Size increases number of survivors decrease significantly. But this may be due to high number of single passengers (passengers with no family). Let's dig deeper."
   ]
  },
  {
   "cell_type": "code",
   "execution_count": 71,
   "id": "e597d8db",
   "metadata": {
    "ExecuteTime": {
     "end_time": "2021-12-26T09:27:00.878815Z",
     "start_time": "2021-12-26T09:27:00.690644Z"
    }
   },
   "outputs": [
    {
     "data": {
      "text/plain": [
       "<AxesSubplot:xlabel='Survived', ylabel='Family_Size'>"
      ]
     },
     "execution_count": 71,
     "metadata": {},
     "output_type": "execute_result"
    },
    {
     "data": {
      "image/png": "[encoded data removed]",
      "text/plain": [
       "<Figure size 576x396 with 1 Axes>"
      ]
     },
     "metadata": {},
     "output_type": "display_data"
    }
   ],
   "source": [
    "sns.boxplot(x=titanic.Survived, y=titanic.Family_Size)"
   ]
  },
  {
   "cell_type": "code",
   "execution_count": 72,
   "id": "d92bc3bf-e067-4487-a073-8fd95ef2b3d8",
   "metadata": {
    "ExecuteTime": {
     "end_time": "2021-12-26T09:27:01.199106Z",
     "start_time": "2021-12-26T09:27:00.879816Z"
    }
   },
   "outputs": [
    {
     "data": {
      "text/plain": [
       "<AxesSubplot:xlabel='Family_Size', ylabel='count'>"
      ]
     },
     "execution_count": 72,
     "metadata": {},
     "output_type": "execute_result"
    },
    {
     "data": {
      "image/png": "[encoded data removed]",
      "text/plain": [
       "<Figure size 576x396 with 1 Axes>"
      ]
     },
     "metadata": {},
     "output_type": "display_data"
    }
   ],
   "source": [
    "sns.countplot(x=titanic.Family_Size, hue=titanic.Survived)"
   ]
  },
  {
   "cell_type": "code",
   "execution_count": 73,
   "id": "5f844d54-27bf-493a-906c-00153d54705e",
   "metadata": {
    "ExecuteTime": {
     "end_time": "2021-12-26T09:27:01.247150Z",
     "start_time": "2021-12-26T09:27:01.200107Z"
    }
   },
   "outputs": [
    {
     "data": {
      "text/plain": [
       "Family_Size  Survived\n",
       "0            0            69.646182\n",
       "             1            30.353818\n",
       "1            0            44.720497\n",
       "             1            55.279503\n",
       "2            0            42.156863\n",
       "             1            57.843137\n",
       "3            0            27.586207\n",
       "             1            72.413793\n",
       "4            0            80.000000\n",
       "             1            20.000000\n",
       "5            0            86.363636\n",
       "             1            13.636364\n",
       "6            0            66.666667\n",
       "             1            33.333333\n",
       "7            0           100.000000\n",
       "10           0           100.000000\n",
       "Name: Family_Size, dtype: float64"
      ]
     },
     "execution_count": 73,
     "metadata": {},
     "output_type": "execute_result"
    }
   ],
   "source": [
    "# Now let's find the percent of passengers survived against their number of Family Size\n",
    "titanic.groupby([\"Family_Size\", \"Survived\"]).Family_Size.count(\n",
    ") / titanic.groupby(\"Family_Size\").Family_Size.count() * 100"
   ]
  },
  {
   "cell_type": "markdown",
   "id": "e6e6dbe4-4cde-4453-9ec0-71850fa0922d",
   "metadata": {},
   "source": [
    "After further investigation we see that passengers with 1-3 Family members are more likely to survive. But for passengers with Large Family size (>3) survival rate is very low"
   ]
  },
  {
   "cell_type": "markdown",
   "id": "ce35be87",
   "metadata": {},
   "source": [
    "## Correlation of Columns"
   ]
  },
  {
   "cell_type": "markdown",
   "id": "ee42e8bd",
   "metadata": {},
   "source": [
    "We could analyze further for any relation between columns like:\n",
    "\n",
    "    * There seems to be some relation between Fare and Cabin/Non-Cabin\n",
    "    * There seems to be some relation between Fare and Passengers Traveling with same ticket number.(all persons fare are same regardless of same or different cabins)\n",
    "    * There seems to be some relation between Fare and Cabin Level(B,C,E etc)\n",
    "    * Further Bivariate analysis for inner column relationships (i.e, SibSp&Parch etc.)\n",
    "    * Did people with same ticket travelled in same class?\n",
    "    \n",
    "But these will lengthen our process. So we will skip these for now and will try to visualize any linear correlation."
   ]
  },
  {
   "cell_type": "code",
   "execution_count": 74,
   "id": "8013193e",
   "metadata": {
    "ExecuteTime": {
     "end_time": "2021-12-26T09:27:01.612482Z",
     "start_time": "2021-12-26T09:27:01.248151Z"
    }
   },
   "outputs": [
    {
     "data": {
      "text/plain": [
       "<AxesSubplot:>"
      ]
     },
     "execution_count": 74,
     "metadata": {},
     "output_type": "execute_result"
    },
    {
     "data": {
      "image/png": "[encoded data removed]",
      "text/plain": [
       "<Figure size 576x396 with 2 Axes>"
      ]
     },
     "metadata": {},
     "output_type": "display_data"
    }
   ],
   "source": [
    "sns.heatmap(titanic.corr(), cmap='seismic', center=0)"
   ]
  },
  {
   "cell_type": "markdown",
   "id": "c70bcc6d",
   "metadata": {},
   "source": [
    "<b>Interpretation:</b>\n",
    "    \n",
    "    1. Family Size has very strong positive linear correlation with SibSp, Parch; moderate positive linear correlation with Fare; slight positive linear correlation with Pclass and moderate negative linear correlation with Age.\n",
    "    2. Fare has moderate positive linear correlation with Survival, Parch and Family Size; slight positive linear correlation with Age and SibSp; and strong negative linear correlation with Pclass.\n",
    "    3. Parch and SibSp are strongly correlated meaning Passenger with Parents/Children are highly likely to also have Siblings/Spouses on Board.\n",
    "    4. Parch and SibSp has slight positive linear correlation with Survival and Pclass; and moderate negative correlation with Age. \n",
    "    5. Age has strong negative linear correlation with Pclass.\n",
    "    6. Pclass has moderate negative linear correlation with Survival."
   ]
  },
  {
   "cell_type": "markdown",
   "id": "c400568e",
   "metadata": {},
   "source": [
    "# Feature Engineering"
   ]
  },
  {
   "cell_type": "markdown",
   "id": "ff3c6db9",
   "metadata": {},
   "source": [
    "## Family Size"
   ]
  },
  {
   "cell_type": "code",
   "execution_count": 75,
   "id": "33f9bd82",
   "metadata": {
    "ExecuteTime": {
     "end_time": "2021-12-26T09:27:01.627496Z",
     "start_time": "2021-12-26T09:27:01.613483Z"
    }
   },
   "outputs": [],
   "source": [
    "# we only do this for test data as we already done this step for train(titanic) data.\n",
    "test_data['Family_Size'] = test_data.SibSp + test_data.Parch"
   ]
  },
  {
   "cell_type": "markdown",
   "id": "f3b8ef27",
   "metadata": {},
   "source": [
    "## Cabin Level"
   ]
  },
  {
   "cell_type": "markdown",
   "id": "ed9e7819",
   "metadata": {},
   "source": [
    "Idea taken from https://www.kaggle.com/vincentwainman/binary-classif-from-a-beginner-for-beginners?scriptVersionId=83048950&cellId=43"
   ]
  },
  {
   "cell_type": "code",
   "execution_count": 76,
   "id": "77f5dc25",
   "metadata": {
    "ExecuteTime": {
     "end_time": "2021-12-26T09:27:01.643510Z",
     "start_time": "2021-12-26T09:27:01.628497Z"
    }
   },
   "outputs": [],
   "source": [
    "def cabin_level(row):\n",
    "    return row.str.extract(r'^(.+?)\\d') # extract before first number"
   ]
  },
  {
   "cell_type": "code",
   "execution_count": 77,
   "id": "80e59d49",
   "metadata": {
    "ExecuteTime": {
     "end_time": "2021-12-26T09:27:01.659525Z",
     "start_time": "2021-12-26T09:27:01.644511Z"
    }
   },
   "outputs": [],
   "source": [
    "titanic['Cabin_Level'] = cabin_level(titanic.Cabin)\n",
    "test_data['Cabin_Level'] = cabin_level(test_data.Cabin)"
   ]
  },
  {
   "cell_type": "markdown",
   "id": "845ec879",
   "metadata": {},
   "source": [
    "There would be some missing values at Cabin Level as some values did not have any number associated with them. "
   ]
  },
  {
   "cell_type": "code",
   "execution_count": 78,
   "id": "8d3fde35",
   "metadata": {
    "ExecuteTime": {
     "end_time": "2021-12-26T09:27:01.675540Z",
     "start_time": "2021-12-26T09:27:01.660526Z"
    }
   },
   "outputs": [],
   "source": [
    "titanic.Cabin_Level.fillna('non_cabin', inplace=True)\n",
    "test_data.Cabin_Level.fillna('non_cabin', inplace=True)"
   ]
  },
  {
   "cell_type": "markdown",
   "id": "0d2b02d6",
   "metadata": {},
   "source": [
    "## Number of Cabins"
   ]
  },
  {
   "cell_type": "markdown",
   "id": "9de7f7db",
   "metadata": {},
   "source": [
    "We saw some passengers booked more than one cabin, but to simplify our process we just took the first one for 'Cabin Level' & 'Cabin Number'. We can introduce another feature to inform our model about the Number of Cabins Booked by a passenger."
   ]
  },
  {
   "cell_type": "code",
   "execution_count": 79,
   "id": "f3d147b0",
   "metadata": {
    "ExecuteTime": {
     "end_time": "2021-12-26T09:27:01.819671Z",
     "start_time": "2021-12-26T09:27:01.676541Z"
    },
    "scrolled": true
   },
   "outputs": [],
   "source": [
    "def cabin_count(df):\n",
    "    for i,cabins in enumerate(df.Cabin):\n",
    "        if cabins != 'non_cabin':\n",
    "            df.loc[i,'Cabin_Count'] = len(cabins.split())\n",
    "        else: continue\n",
    "            \n",
    "# first we will initialize Cabin Count as 0\n",
    "titanic['Cabin_Count'] = 0\n",
    "test_data['Cabin_Count']= 0\n",
    "\n",
    "# this function changes the values inplace\n",
    "cabin_count(titanic)\n",
    "cabin_count(test_data)"
   ]
  },
  {
   "cell_type": "code",
   "execution_count": 80,
   "id": "dd3c5045",
   "metadata": {
    "ExecuteTime": {
     "end_time": "2021-12-26T09:27:01.850699Z",
     "start_time": "2021-12-26T09:27:01.820672Z"
    }
   },
   "outputs": [
    {
     "data": {
      "text/plain": [
       "0    687\n",
       "1    180\n",
       "2     16\n",
       "3      6\n",
       "4      2\n",
       "Name: Cabin_Count, dtype: int64"
      ]
     },
     "execution_count": 80,
     "metadata": {},
     "output_type": "execute_result"
    }
   ],
   "source": [
    "titanic.Cabin_Count.value_counts()"
   ]
  },
  {
   "cell_type": "code",
   "execution_count": 81,
   "id": "e2ee153b",
   "metadata": {
    "ExecuteTime": {
     "end_time": "2021-12-26T09:27:01.896741Z",
     "start_time": "2021-12-26T09:27:01.851700Z"
    }
   },
   "outputs": [
    {
     "data": {
      "text/plain": [
       "0    327\n",
       "1     74\n",
       "2     10\n",
       "3      4\n",
       "4      3\n",
       "Name: Cabin_Count, dtype: int64"
      ]
     },
     "execution_count": 81,
     "metadata": {},
     "output_type": "execute_result"
    }
   ],
   "source": [
    "test_data.Cabin_Count.value_counts()"
   ]
  },
  {
   "cell_type": "markdown",
   "id": "594e0ce7",
   "metadata": {},
   "source": [
    "## Ticket Text"
   ]
  },
  {
   "cell_type": "markdown",
   "id": "b9fac1c7",
   "metadata": {},
   "source": [
    "There are some tickets with some text before number. we will split these and generate new features"
   ]
  },
  {
   "cell_type": "code",
   "execution_count": 82,
   "id": "50a848c5",
   "metadata": {
    "ExecuteTime": {
     "end_time": "2021-12-26T09:27:02.406204Z",
     "start_time": "2021-12-26T09:27:01.897742Z"
    }
   },
   "outputs": [],
   "source": [
    "def ticket_text(df):\n",
    "    for i,text in enumerate(df.Ticket.str.split(' ',1).apply(lambda x: x[0])):\n",
    "        try:\n",
    "            int(text)\n",
    "            df.loc[i, 'Ticket_Text'] = 'no_text'\n",
    "        except:\n",
    "            df.loc[i, 'Ticket_Text'] = text\n",
    "            \n",
    "titanic['Ticket_Text'] = ''\n",
    "test_data['Ticket_Text'] = ''\n",
    "\n",
    "ticket_text(titanic)\n",
    "ticket_text(test_data)"
   ]
  },
  {
   "cell_type": "markdown",
   "id": "82b719e6",
   "metadata": {},
   "source": [
    "## Family Name"
   ]
  },
  {
   "cell_type": "markdown",
   "id": "2038698a",
   "metadata": {},
   "source": [
    "We saw many passengers with same ticket number or other have same family name. this can be used as feature."
   ]
  },
  {
   "cell_type": "code",
   "execution_count": 83,
   "id": "a5a617ab",
   "metadata": {
    "ExecuteTime": {
     "end_time": "2021-12-26T09:27:02.422219Z",
     "start_time": "2021-12-26T09:27:02.407205Z"
    }
   },
   "outputs": [],
   "source": [
    "def family_name(df):\n",
    "    return df.Name.str.split(',', 1).apply(lambda x: x[0])\n",
    "\n",
    "titanic['Family_Name'] = family_name(titanic)\n",
    "test_data['Family_Name'] = family_name(test_data)"
   ]
  },
  {
   "cell_type": "markdown",
   "id": "8ad6bbd7",
   "metadata": {},
   "source": [
    "## Title"
   ]
  },
  {
   "cell_type": "code",
   "execution_count": 84,
   "id": "c0dd1e0b",
   "metadata": {
    "ExecuteTime": {
     "end_time": "2021-12-26T09:27:02.486277Z",
     "start_time": "2021-12-26T09:27:02.423220Z"
    }
   },
   "outputs": [
    {
     "data": {
      "text/plain": [
       "0                              Braund, Mr. Owen Harris\n",
       "1    Cumings, Mrs. John Bradley (Florence Briggs Th...\n",
       "2                               Heikkinen, Miss. Laina\n",
       "3         Futrelle, Mrs. Jacques Heath (Lily May Peel)\n",
       "4                             Allen, Mr. William Henry\n",
       "5                                     Moran, Mr. James\n",
       "6                              McCarthy, Mr. Timothy J\n",
       "7                       Palsson, Master. Gosta Leonard\n",
       "8    Johnson, Mrs. Oscar W (Elisabeth Vilhelmina Berg)\n",
       "9                  Nasser, Mrs. Nicholas (Adele Achem)\n",
       "Name: Name, dtype: object"
      ]
     },
     "execution_count": 84,
     "metadata": {},
     "output_type": "execute_result"
    }
   ],
   "source": [
    "titanic.Name.head(10)"
   ]
  },
  {
   "cell_type": "markdown",
   "id": "e8ec3d18",
   "metadata": {},
   "source": [
    "After further inspection of Name Column we see that the titles are after first ',' and before a '.'. We will grab these and use as feature. These may help us to express social dynamic."
   ]
  },
  {
   "cell_type": "code",
   "execution_count": 85,
   "id": "7f95c6ef",
   "metadata": {
    "ExecuteTime": {
     "end_time": "2021-12-26T09:27:02.502292Z",
     "start_time": "2021-12-26T09:27:02.487278Z"
    }
   },
   "outputs": [],
   "source": [
    "def title(df):\n",
    "    return df.Name.str.split(',', 1).apply(lambda x: x[1]).str.split('.').apply(lambda x: x[0]).str.strip()\n",
    "\n",
    "titanic['Title'] = title(titanic)\n",
    "test_data['Title'] = title(test_data)"
   ]
  },
  {
   "cell_type": "code",
   "execution_count": 86,
   "id": "f1a5e14a",
   "metadata": {
    "ExecuteTime": {
     "end_time": "2021-12-26T09:27:02.518306Z",
     "start_time": "2021-12-26T09:27:02.503293Z"
    }
   },
   "outputs": [
    {
     "name": "stdout",
     "output_type": "stream",
     "text": [
      "Unique Titles in Train(Titanic) Data: \n",
      "['Mr' 'Mrs' 'Miss' 'Master' 'Don' 'Rev' 'Dr' 'Mme' 'Ms' 'Major' 'Lady'\n",
      " 'Sir' 'Mlle' 'Col' 'Capt' 'the Countess' 'Jonkheer']\n",
      "\n",
      "Unique Titles in Test Data: \n",
      "['Mr' 'Mrs' 'Miss' 'Master' 'Ms' 'Col' 'Rev' 'Dr' 'Dona']\n"
     ]
    }
   ],
   "source": [
    "# Now Let's check how many titles are there\n",
    "print(f'Unique Titles in Train(Titanic) Data: \\n{titanic.Title.unique()}')\n",
    "print(f'\\nUnique Titles in Test Data: \\n{test_data.Title.unique()}')"
   ]
  },
  {
   "cell_type": "markdown",
   "id": "dbc4cac4",
   "metadata": {},
   "source": [
    "We see that there is one Title on test set which is not from test set. Let's investigate the row."
   ]
  },
  {
   "cell_type": "code",
   "execution_count": 87,
   "id": "5b40ee15",
   "metadata": {
    "ExecuteTime": {
     "end_time": "2021-12-26T09:27:02.550335Z",
     "start_time": "2021-12-26T09:27:02.519307Z"
    }
   },
   "outputs": [
    {
     "data": {
      "text/html": [
       "<div>\n",
       "<style scoped>\n",
       "    .dataframe tbody tr th:only-of-type {\n",
       "        vertical-align: middle;\n",
       "    }\n",
       "\n",
       "    .dataframe tbody tr th {\n",
       "        vertical-align: top;\n",
       "    }\n",
       "\n",
       "    .dataframe thead th {\n",
       "        text-align: right;\n",
       "    }\n",
       "</style>\n",
       "<table border=\"1\" class=\"dataframe\">\n",
       "  <thead>\n",
       "    <tr style=\"text-align: right;\">\n",
       "      <th></th>\n",
       "      <th>PassengerId</th>\n",
       "      <th>Pclass</th>\n",
       "      <th>Name</th>\n",
       "      <th>Sex</th>\n",
       "      <th>Age</th>\n",
       "      <th>SibSp</th>\n",
       "      <th>Parch</th>\n",
       "      <th>Ticket</th>\n",
       "      <th>Fare</th>\n",
       "      <th>Cabin</th>\n",
       "      <th>Embarked</th>\n",
       "      <th>Family_Size</th>\n",
       "      <th>Cabin_Level</th>\n",
       "      <th>Cabin_Count</th>\n",
       "      <th>Ticket_Text</th>\n",
       "      <th>Family_Name</th>\n",
       "      <th>Title</th>\n",
       "    </tr>\n",
       "  </thead>\n",
       "  <tbody>\n",
       "    <tr>\n",
       "      <th>414</th>\n",
       "      <td>1306</td>\n",
       "      <td>1</td>\n",
       "      <td>Oliva y Ocana, Dona. Fermina</td>\n",
       "      <td>female</td>\n",
       "      <td>39.0</td>\n",
       "      <td>0</td>\n",
       "      <td>0</td>\n",
       "      <td>PC 17758</td>\n",
       "      <td>108.9</td>\n",
       "      <td>C105</td>\n",
       "      <td>C</td>\n",
       "      <td>0</td>\n",
       "      <td>C</td>\n",
       "      <td>1</td>\n",
       "      <td>PC</td>\n",
       "      <td>Oliva y Ocana</td>\n",
       "      <td>Dona</td>\n",
       "    </tr>\n",
       "  </tbody>\n",
       "</table>\n",
       "</div>"
      ],
      "text/plain": [
       "     PassengerId  Pclass                          Name     Sex   Age  SibSp  \\\n",
       "414         1306       1  Oliva y Ocana, Dona. Fermina  female  39.0      0   \n",
       "\n",
       "     Parch    Ticket   Fare Cabin Embarked  Family_Size Cabin_Level  \\\n",
       "414      0  PC 17758  108.9  C105        C            0           C   \n",
       "\n",
       "     Cabin_Count Ticket_Text    Family_Name Title  \n",
       "414            1          PC  Oliva y Ocana  Dona  "
      ]
     },
     "execution_count": 87,
     "metadata": {},
     "output_type": "execute_result"
    }
   ],
   "source": [
    "test_data.query(\"Title == 'Dona'\")"
   ]
  },
  {
   "cell_type": "markdown",
   "id": "bb5684d4",
   "metadata": {},
   "source": [
    "After further investigation (some DuckDuckGo search) we see that 'Dona' was used as a title as a courtesy title before the name of a woman in a Spanish-speaking area(https://www.thefreedictionary.com/Do%C3%B1a). We also found a short bio of her which mentions she was not married(https://www.encyclopedia-titanica.org/titanic-survivor/fermina-oliva-y-ocana.html). So we will replace 'Dona' with 'Miss'"
   ]
  },
  {
   "cell_type": "code",
   "execution_count": 88,
   "id": "670c7e0e",
   "metadata": {
    "ExecuteTime": {
     "end_time": "2021-12-26T09:27:02.581364Z",
     "start_time": "2021-12-26T09:27:02.566350Z"
    }
   },
   "outputs": [],
   "source": [
    "test_data.loc[414, 'Title'] = 'Miss'"
   ]
  },
  {
   "cell_type": "markdown",
   "id": "94db55fd",
   "metadata": {},
   "source": [
    "## Fare per Person"
   ]
  },
  {
   "cell_type": "code",
   "execution_count": 89,
   "id": "f42ecb71",
   "metadata": {
    "ExecuteTime": {
     "end_time": "2021-12-26T09:27:02.597379Z",
     "start_time": "2021-12-26T09:27:02.582365Z"
    }
   },
   "outputs": [],
   "source": [
    "titanic['Fare_per_Person'] = titanic.Fare / (titanic.Family_Size + 1)\n",
    "test_data['Fare_per_Person'] = test_data.Fare / (test_data.Family_Size + 1)"
   ]
  },
  {
   "cell_type": "markdown",
   "id": "27992e6c",
   "metadata": {},
   "source": [
    "# Data Preprocessing"
   ]
  },
  {
   "cell_type": "markdown",
   "id": "a7c772e0",
   "metadata": {},
   "source": [
    "We already extracted useful informations from 'Name', 'Ticket', 'Cabin' columns. So we will drop these"
   ]
  },
  {
   "cell_type": "markdown",
   "id": "d814d3c3",
   "metadata": {},
   "source": [
    "## Feature Selection"
   ]
  },
  {
   "cell_type": "code",
   "execution_count": 90,
   "id": "69fa4e13",
   "metadata": {
    "ExecuteTime": {
     "end_time": "2021-12-26T09:27:02.612392Z",
     "start_time": "2021-12-26T09:27:02.598379Z"
    }
   },
   "outputs": [],
   "source": [
    "titanic_X = titanic.drop('Survived', axis=1)\n",
    "titanic_y = titanic.Survived\n",
    "test_data_X = test_data.copy()"
   ]
  },
  {
   "cell_type": "code",
   "execution_count": 91,
   "id": "11509f08",
   "metadata": {
    "ExecuteTime": {
     "end_time": "2021-12-26T09:27:02.628407Z",
     "start_time": "2021-12-26T09:27:02.613393Z"
    }
   },
   "outputs": [
    {
     "data": {
      "text/plain": [
       "Index(['PassengerId', 'Pclass', 'Name', 'Sex', 'Age', 'SibSp', 'Parch',\n",
       "       'Ticket', 'Fare', 'Cabin', 'Embarked', 'Family_Size', 'Cabin_Level',\n",
       "       'Cabin_Count', 'Ticket_Text', 'Family_Name', 'Title',\n",
       "       'Fare_per_Person'],\n",
       "      dtype='object')"
      ]
     },
     "execution_count": 91,
     "metadata": {},
     "output_type": "execute_result"
    }
   ],
   "source": [
    "titanic_X.columns"
   ]
  },
  {
   "cell_type": "code",
   "execution_count": 92,
   "id": "a4a2ea9a",
   "metadata": {
    "ExecuteTime": {
     "end_time": "2021-12-26T09:27:02.643420Z",
     "start_time": "2021-12-26T09:27:02.629408Z"
    }
   },
   "outputs": [],
   "source": [
    "columns_to_drop = ['PassengerId', 'Name', 'Ticket', 'Cabin']\n",
    "titanic_X.drop(columns=columns_to_drop, inplace=True)\n",
    "test_data_X.drop(columns=columns_to_drop, inplace=True)"
   ]
  },
  {
   "cell_type": "code",
   "execution_count": 93,
   "id": "ace66b9e",
   "metadata": {
    "ExecuteTime": {
     "end_time": "2021-12-26T09:27:02.658434Z",
     "start_time": "2021-12-26T09:27:02.644421Z"
    }
   },
   "outputs": [
    {
     "name": "stdout",
     "output_type": "stream",
     "text": [
      "<class 'pandas.core.frame.DataFrame'>\n",
      "RangeIndex: 891 entries, 0 to 890\n",
      "Data columns (total 14 columns):\n",
      " #   Column           Non-Null Count  Dtype  \n",
      "---  ------           --------------  -----  \n",
      " 0   Pclass           891 non-null    int64  \n",
      " 1   Sex              891 non-null    object \n",
      " 2   Age              891 non-null    float64\n",
      " 3   SibSp            891 non-null    int64  \n",
      " 4   Parch            891 non-null    int64  \n",
      " 5   Fare             891 non-null    float64\n",
      " 6   Embarked         891 non-null    object \n",
      " 7   Family_Size      891 non-null    int64  \n",
      " 8   Cabin_Level      891 non-null    object \n",
      " 9   Cabin_Count      891 non-null    int64  \n",
      " 10  Ticket_Text      891 non-null    object \n",
      " 11  Family_Name      891 non-null    object \n",
      " 12  Title            891 non-null    object \n",
      " 13  Fare_per_Person  891 non-null    float64\n",
      "dtypes: float64(3), int64(5), object(6)\n",
      "memory usage: 97.6+ KB\n"
     ]
    }
   ],
   "source": [
    "titanic_X.info()"
   ]
  },
  {
   "cell_type": "markdown",
   "id": "593f7142",
   "metadata": {},
   "source": [
    "## Data Encoding"
   ]
  },
  {
   "cell_type": "code",
   "execution_count": 94,
   "id": "7cfad9fc",
   "metadata": {
    "ExecuteTime": {
     "end_time": "2021-12-26T09:27:02.674448Z",
     "start_time": "2021-12-26T09:27:02.659435Z"
    }
   },
   "outputs": [],
   "source": [
    "cat_feat = ['Sex', 'Embarked', 'Cabin_Level', 'Ticket_Text', 'Family_Name', 'Title']\n",
    "num_feat = ['Age', 'SibSp', 'Parch', 'Fare', 'Family_Size', 'Cabin_Count', 'Fare_per_Person']"
   ]
  },
  {
   "cell_type": "code",
   "execution_count": 95,
   "id": "081ba387",
   "metadata": {
    "ExecuteTime": {
     "end_time": "2021-12-26T09:27:02.719589Z",
     "start_time": "2021-12-26T09:27:02.675449Z"
    }
   },
   "outputs": [],
   "source": [
    "ord = OrdinalEncoder()\n",
    "titanic_X[cat_feat] = ord.fit_transform(titanic_X[cat_feat])\n",
    "test_data_X[cat_feat] = ord.fit_transform(test_data_X[cat_feat])"
   ]
  },
  {
   "cell_type": "markdown",
   "id": "9809194d",
   "metadata": {
    "ExecuteTime": {
     "end_time": "2021-12-26T07:14:01.649596Z",
     "start_time": "2021-12-26T07:14:01.628577Z"
    }
   },
   "source": [
    "## Data Scaling"
   ]
  },
  {
   "cell_type": "code",
   "execution_count": 96,
   "id": "2a78fa33",
   "metadata": {
    "ExecuteTime": {
     "end_time": "2021-12-26T09:27:02.735604Z",
     "start_time": "2021-12-26T09:27:02.720591Z"
    }
   },
   "outputs": [],
   "source": [
    "titanic_X_scaled = titanic_X.copy()\n",
    "test_data_X_scaled = test_data_X.copy()"
   ]
  },
  {
   "cell_type": "code",
   "execution_count": 97,
   "id": "b4863fdc",
   "metadata": {
    "ExecuteTime": {
     "end_time": "2021-12-26T09:27:02.765631Z",
     "start_time": "2021-12-26T09:27:02.736605Z"
    }
   },
   "outputs": [],
   "source": [
    "scaler = StandardScaler()\n",
    "titanic_X_scaled[num_feat] = scaler.fit_transform(titanic_X_scaled[num_feat])\n",
    "test_data_X_scaled[num_feat] = scaler.fit_transform(test_data_X_scaled[num_feat])"
   ]
  },
  {
   "cell_type": "markdown",
   "id": "a530bfd6",
   "metadata": {},
   "source": [
    "# Model Building"
   ]
  },
  {
   "cell_type": "markdown",
   "id": "1c7ce75a",
   "metadata": {},
   "source": [
    "We will use both scaled and Unscaled data and compare the results to see how it effects the performance"
   ]
  },
  {
   "cell_type": "markdown",
   "id": "287d63bb",
   "metadata": {},
   "source": [
    "## Data Splitting for Modeling "
   ]
  },
  {
   "cell_type": "code",
   "execution_count": 98,
   "id": "df695e12",
   "metadata": {
    "ExecuteTime": {
     "end_time": "2021-12-26T09:27:02.781646Z",
     "start_time": "2021-12-26T09:27:02.766632Z"
    }
   },
   "outputs": [],
   "source": [
    "titanic_X_train, titanic_X_test, titanic_y_train, titanic_y_test = train_test_split(\n",
    "    titanic_X, titanic_y)\n",
    "titanic_X_scaled_train, titanic_X_scaled_test, titanic_y_scaled_train, titanic_y_scaled_test = train_test_split(\n",
    "    titanic_X_scaled, titanic_y)"
   ]
  },
  {
   "cell_type": "markdown",
   "id": "22222c6b",
   "metadata": {},
   "source": [
    "## Simple Basic Model for Benchmark Score"
   ]
  },
  {
   "cell_type": "markdown",
   "id": "29f202b5",
   "metadata": {},
   "source": [
    "We have seen from our EDA that sex has a very strong relation with survival. Here we will build a basic model which will predict every female survived and every male died. Accuracy of this model will be our benchmark."
   ]
  },
  {
   "cell_type": "code",
   "execution_count": 99,
   "id": "bbfff798",
   "metadata": {
    "ExecuteTime": {
     "end_time": "2021-12-26T09:27:02.796660Z",
     "start_time": "2021-12-26T09:27:02.782647Z"
    }
   },
   "outputs": [
    {
     "name": "stdout",
     "output_type": "stream",
     "text": [
      "Benchmark Accuracy is: 78.68% for training data\n"
     ]
    }
   ],
   "source": [
    "titanic_y_sample_pred = titanic.Sex.map({'male':0, 'female':1})\n",
    "benchmark_accuracy = round(accuracy_score(titanic_y, titanic_y_sample_pred)*100, 2)\n",
    "print(f'Benchmark Accuracy is: {benchmark_accuracy}% for training data')"
   ]
  },
  {
   "cell_type": "code",
   "execution_count": 100,
   "id": "3dcd975e",
   "metadata": {
    "ExecuteTime": {
     "end_time": "2021-12-26T09:27:02.812674Z",
     "start_time": "2021-12-26T09:27:02.797661Z"
    }
   },
   "outputs": [],
   "source": [
    "# Now Let's see how this model performs on test data\n",
    "submission_y_pred = test_data.Sex.map({\n",
    "    'male': 0,\n",
    "    'female': 1\n",
    "}).rename('Survived')\n",
    "pd.concat([test_data.PassengerId, submission_y_pred],\n",
    "          axis=1).set_index('PassengerId').to_csv(\n",
    "              'sample_submission.csv')  # same as gender submission"
   ]
  },
  {
   "cell_type": "markdown",
   "id": "f9c6303d",
   "metadata": {},
   "source": [
    "This model scores 76.56% on kaggle.\n",
    "\n",
    "Now we will try to improve this score."
   ]
  },
  {
   "cell_type": "markdown",
   "id": "60ac0cda",
   "metadata": {},
   "source": [
    "## Different Models with Default Parameters"
   ]
  },
  {
   "cell_type": "markdown",
   "id": "88e8061e",
   "metadata": {},
   "source": [
    "We will use:\n",
    "    \n",
    "    1. Logistic Regression Classifier\n",
    "    2. Decision Tree Classifier\n",
    "    3. Random Forest Classifier\n",
    "    4. Support Vector Classifier\n",
    "    5. KNN classifier\n",
    "    6. Gradient Boosted Classifier"
   ]
  },
  {
   "cell_type": "code",
   "execution_count": 101,
   "id": "a74423d4",
   "metadata": {
    "ExecuteTime": {
     "end_time": "2021-12-26T09:27:02.844703Z",
     "start_time": "2021-12-26T09:27:02.813676Z"
    }
   },
   "outputs": [],
   "source": [
    "log_reg = LogisticRegression()\n",
    "decision_tree = DecisionTreeClassifier()\n",
    "random_forest = RandomForestClassifier()\n",
    "gradient_boosting = GradientBoostingClassifier()\n",
    "knn = KNeighborsClassifier()\n",
    "svm = SVC()"
   ]
  },
  {
   "cell_type": "code",
   "execution_count": 102,
   "id": "7999b8ed",
   "metadata": {
    "ExecuteTime": {
     "end_time": "2021-12-26T09:27:02.859906Z",
     "start_time": "2021-12-26T09:27:02.845704Z"
    }
   },
   "outputs": [],
   "source": [
    "classifiers = [('Logistic Regression Classifier', log_reg), ('Decision Tree Classifier', decision_tree), \n",
    "              ('Random Forest Classifier', random_forest), ('Gradient Boosted Classifier', gradient_boosting), \n",
    "              ('KNN classifier', knn), ('Support Vector Machine', svm)]"
   ]
  },
  {
   "cell_type": "code",
   "execution_count": 103,
   "id": "87149fd4",
   "metadata": {
    "ExecuteTime": {
     "end_time": "2021-12-26T09:27:07.066731Z",
     "start_time": "2021-12-26T09:27:02.860905Z"
    }
   },
   "outputs": [
    {
     "name": "stdout",
     "output_type": "stream",
     "text": [
      "Scores for Non-Scaled Data\n",
      "\n",
      "Logistic Regression Classifier\n",
      "5 fold cross validation scores are: [81.00558659 79.21348315 76.40449438 75.28089888 82.02247191]% \n",
      "Accuracy Score is: 79.0%\n",
      "\n",
      "Decision Tree Classifier\n",
      "5 fold cross validation scores are: [73.74301676 79.7752809  79.7752809  74.15730337 78.08988764]% \n",
      "Accuracy Score is: 79.0%\n",
      "\n",
      "Random Forest Classifier\n",
      "5 fold cross validation scores are: [84.91620112 79.7752809  88.76404494 79.21348315 84.26966292]% \n",
      "Accuracy Score is: 83.0%\n",
      "\n",
      "Gradient Boosted Classifier\n",
      "5 fold cross validation scores are: [82.12290503 82.02247191 85.95505618 78.08988764 84.26966292]% \n",
      "Accuracy Score is: 82.0%\n",
      "\n",
      "KNN classifier\n",
      "5 fold cross validation scores are: [65.92178771 66.85393258 64.60674157 66.29213483 66.85393258]% \n",
      "Accuracy Score is: 71.0%\n",
      "\n",
      "Support Vector Machine\n",
      "5 fold cross validation scores are: [60.89385475 72.47191011 65.16853933 64.60674157 67.97752809]% \n",
      "Accuracy Score is: 66.0%\n",
      "\n"
     ]
    }
   ],
   "source": [
    "print('Scores for Non-Scaled Data\\n')\n",
    "for model_name, clf in classifiers:\n",
    "    clf.fit(titanic_X_train, titanic_y_train)\n",
    "    pred = clf.predict(titanic_X_test)\n",
    "    acc_score = round(accuracy_score(titanic_y_test, pred), 2)\n",
    "    cv_score = cross_val_score(clf, titanic_X, titanic_y, cv=5)\n",
    "    print(f'{model_name}\\n5 fold cross validation scores are: {cv_score*100}% \\nAccuracy Score is: {acc_score*100}%\\n')"
   ]
  },
  {
   "cell_type": "code",
   "execution_count": 104,
   "id": "344ede2b",
   "metadata": {
    "ExecuteTime": {
     "end_time": "2021-12-26T09:27:11.177120Z",
     "start_time": "2021-12-26T09:27:07.067732Z"
    }
   },
   "outputs": [
    {
     "name": "stdout",
     "output_type": "stream",
     "text": [
      "Scores for Scaled Data\n",
      "\n",
      "Logistic Regression Classifier\n",
      "5 fold cross validation scores are: [79.32960894 79.21348315 75.84269663 77.52808989 82.58426966]% \n",
      "Accuracy Score is: 78.0%\n",
      "\n",
      "Decision Tree Classifier\n",
      "5 fold cross validation scores are: [72.06703911 80.8988764  79.21348315 74.15730337 79.7752809 ]% \n",
      "Accuracy Score is: 73.0%\n",
      "\n",
      "Random Forest Classifier\n",
      "5 fold cross validation scores are: [83.79888268 80.33707865 88.76404494 78.65168539 84.26966292]% \n",
      "Accuracy Score is: 79.0%\n",
      "\n",
      "Gradient Boosted Classifier\n",
      "5 fold cross validation scores are: [82.12290503 82.02247191 87.07865169 78.08988764 84.26966292]% \n",
      "Accuracy Score is: 81.0%\n",
      "\n",
      "KNN classifier\n",
      "5 fold cross validation scores are: [62.01117318 61.23595506 62.35955056 61.23595506 67.97752809]% \n",
      "Accuracy Score is: 57.99999999999999%\n",
      "\n",
      "Support Vector Machine\n",
      "5 fold cross validation scores are: [61.45251397 61.79775281 61.79775281 61.79775281 61.23595506]% \n",
      "Accuracy Score is: 57.99999999999999%\n",
      "\n"
     ]
    }
   ],
   "source": [
    "print('Scores for Scaled Data\\n')\n",
    "for model_name, clf in classifiers:\n",
    "    clf.fit(titanic_X_scaled_train, titanic_y_scaled_train)\n",
    "    pred = clf.predict(titanic_X_scaled_test)\n",
    "    acc_score = round(accuracy_score(titanic_y_scaled_test, pred), 2)\n",
    "    cv_score = cross_val_score(clf, titanic_X_scaled, titanic_y, cv=5)\n",
    "    print(f'{model_name}\\n5 fold cross validation scores are: {cv_score*100}% \\nAccuracy Score is: {acc_score*100}%\\n')"
   ]
  },
  {
   "cell_type": "markdown",
   "id": "65168f43",
   "metadata": {
    "ExecuteTime": {
     "end_time": "2021-12-25T18:36:50.906198Z",
     "start_time": "2021-12-25T18:36:50.892184Z"
    }
   },
   "source": [
    "We see un-scaled Data Has much better score."
   ]
  },
  {
   "cell_type": "markdown",
   "id": "521c0980",
   "metadata": {},
   "source": [
    "## Hyper Parameter Tuning"
   ]
  },
  {
   "cell_type": "markdown",
   "id": "ca273008",
   "metadata": {},
   "source": [
    "Let's Find the parameters we may need to tune"
   ]
  },
  {
   "cell_type": "code",
   "execution_count": 105,
   "id": "f5bd09e9",
   "metadata": {
    "ExecuteTime": {
     "end_time": "2021-12-26T09:27:11.193134Z",
     "start_time": "2021-12-26T09:27:11.178121Z"
    }
   },
   "outputs": [
    {
     "name": "stdout",
     "output_type": "stream",
     "text": [
      "Parameters for Logistic Regression Classifier: \n",
      "dict_keys(['C', 'class_weight', 'dual', 'fit_intercept', 'intercept_scaling', 'l1_ratio', 'max_iter', 'multi_class', 'n_jobs', 'penalty', 'random_state', 'solver', 'tol', 'verbose', 'warm_start'])\n",
      "\n",
      "Parameters for Decision Tree Classifier: \n",
      "dict_keys(['ccp_alpha', 'class_weight', 'criterion', 'max_depth', 'max_features', 'max_leaf_nodes', 'min_impurity_decrease', 'min_impurity_split', 'min_samples_leaf', 'min_samples_split', 'min_weight_fraction_leaf', 'random_state', 'splitter'])\n",
      "\n",
      "Parameters for Random Forest Classifier: \n",
      "dict_keys(['bootstrap', 'ccp_alpha', 'class_weight', 'criterion', 'max_depth', 'max_features', 'max_leaf_nodes', 'max_samples', 'min_impurity_decrease', 'min_impurity_split', 'min_samples_leaf', 'min_samples_split', 'min_weight_fraction_leaf', 'n_estimators', 'n_jobs', 'oob_score', 'random_state', 'verbose', 'warm_start'])\n",
      "\n",
      "Parameters for Gradient Boosted Classifier: \n",
      "dict_keys(['ccp_alpha', 'criterion', 'init', 'learning_rate', 'loss', 'max_depth', 'max_features', 'max_leaf_nodes', 'min_impurity_decrease', 'min_impurity_split', 'min_samples_leaf', 'min_samples_split', 'min_weight_fraction_leaf', 'n_estimators', 'n_iter_no_change', 'random_state', 'subsample', 'tol', 'validation_fraction', 'verbose', 'warm_start'])\n",
      "\n",
      "Parameters for KNN classifier: \n",
      "dict_keys(['algorithm', 'leaf_size', 'metric', 'metric_params', 'n_jobs', 'n_neighbors', 'p', 'weights'])\n",
      "\n",
      "Parameters for Support Vector Machine: \n",
      "dict_keys(['C', 'break_ties', 'cache_size', 'class_weight', 'coef0', 'decision_function_shape', 'degree', 'gamma', 'kernel', 'max_iter', 'probability', 'random_state', 'shrinking', 'tol', 'verbose'])\n",
      "\n"
     ]
    }
   ],
   "source": [
    "for model_name, clf in classifiers:\n",
    "    print(f'Parameters for {model_name}: \\n{clf.get_params().keys()}\\n')"
   ]
  },
  {
   "cell_type": "code",
   "execution_count": 106,
   "id": "4eeefb75",
   "metadata": {
    "ExecuteTime": {
     "end_time": "2021-12-26T09:27:11.208148Z",
     "start_time": "2021-12-26T09:27:11.194135Z"
    }
   },
   "outputs": [],
   "source": [
    "# Now we will define the parameters for which we want to tune the model\n",
    "param_log_reg = {'C':[0.1, 1, 10, 100], 'penalty':['l2'], 'solver':['liblinear', 'lbfgs'], 'max_iter':[500, 1000, 2000]}\n",
    "param_decision_tree = {'max_depth':[10, 20, 30, 50], 'min_samples_leaf':[1, 2, 4], 'max_features':['auto', 'sqrt', 'log2'], \n",
    "                      'min_samples_split':[2, 5, 7]}\n",
    "param_random_forest = {'max_depth':[10, 20, 30, 50], 'min_samples_leaf':[1, 2, 4], 'max_features':['auto', 'sqrt', 'log2'], \n",
    "                      'min_samples_split':[2, 5, 7], 'bootstrap':[True, False],\n",
    "                       'n_estimators': [10, 100, 200, 500, 1000, 1500, 2000]}\n",
    "param_gradient_boosting = {'max_depth':[10, 20, 30, 50], 'min_samples_leaf':[1, 2, 4], 'max_features':['auto', 'sqrt', 'log2'], \n",
    "                      'min_samples_split':[2, 5, 7], 'n_estimators': [10, 1000, 200, 500, 1000, 1500, 2000], \n",
    "                          'learning_rate':[0.01, 0.1, 0.5, 1]}\n",
    "param_knn = {'n_neighbors':[3, 5, 7, 9]}\n",
    "param_svm = {'C':[0.1, 1, 10], 'gamma':['auto'], 'kernel':['sigmoid']}"
   ]
  },
  {
   "cell_type": "code",
   "execution_count": 107,
   "id": "b0378dd8",
   "metadata": {
    "ExecuteTime": {
     "end_time": "2021-12-26T09:27:11.224163Z",
     "start_time": "2021-12-26T09:27:11.209149Z"
    }
   },
   "outputs": [],
   "source": [
    "classifiers = [('Logistic Regression Classifier', log_reg, param_log_reg),\n",
    "               ('Decision Tree Classifier', decision_tree, param_decision_tree),\n",
    "               ('Random Forest Classifier', random_forest, param_random_forest),\n",
    "               ('Gradient Boosted Classifier', gradient_boosting, param_gradient_boosting),\n",
    "               ('KNN classifier', knn, param_knn), ('Support Vector Machine', svm, param_svm)]"
   ]
  },
  {
   "cell_type": "code",
   "execution_count": 108,
   "id": "e47a45b4",
   "metadata": {
    "ExecuteTime": {
     "end_time": "2021-12-26T09:28:19.960809Z",
     "start_time": "2021-12-26T09:27:11.262197Z"
    }
   },
   "outputs": [
    {
     "name": "stdout",
     "output_type": "stream",
     "text": [
      "Score For Scaled Data\n",
      "Logistic Regression Classifier:- \n",
      "Best Params are: {'solver': 'liblinear', 'penalty': 'l2', 'max_iter': 1000, 'C': 100}\n",
      "Accuracy Score is: 78.0%\n",
      "\n",
      "Decision Tree Classifier:- \n",
      "Best Params are: {'min_samples_split': 7, 'min_samples_leaf': 2, 'max_features': 'log2', 'max_depth': 30}\n",
      "Accuracy Score is: 77.0%\n",
      "\n",
      "Random Forest Classifier:- \n",
      "Best Params are: {'n_estimators': 2000, 'min_samples_split': 5, 'min_samples_leaf': 4, 'max_features': 'log2', 'max_depth': 20, 'bootstrap': False}\n",
      "Accuracy Score is: 79.0%\n",
      "\n",
      "Gradient Boosted Classifier:- \n",
      "Best Params are: {'n_estimators': 200, 'min_samples_split': 5, 'min_samples_leaf': 4, 'max_features': 'log2', 'max_depth': 20, 'learning_rate': 0.01}\n",
      "Accuracy Score is: 79.0%\n",
      "\n",
      "KNN classifier:- \n",
      "Best Params are: {'n_neighbors': 3}\n",
      "Accuracy Score is: 60.0%\n",
      "\n",
      "Support Vector Machine:- \n",
      "Best Params are: {'kernel': 'sigmoid', 'gamma': 'auto', 'C': 0.1}\n",
      "Accuracy Score is: 57.99999999999999%\n",
      "\n"
     ]
    }
   ],
   "source": [
    "print(f'Score For Scaled Data')\n",
    "for model_name, clf, param in classifiers:\n",
    "    rcv = RandomizedSearchCV(clf, param, scoring='accuracy', n_jobs=-1, cv=3)\n",
    "    rcv.fit(titanic_X_scaled_train, titanic_y_scaled_train)\n",
    "    print(f'{model_name}:- \\nBest Params are: {rcv.best_params_}')\n",
    "    pred = rcv.predict(titanic_X_scaled_test)\n",
    "    acc_score = round(accuracy_score(titanic_y_scaled_test, pred), 2)\n",
    "    print(f'Accuracy Score is: {acc_score*100}%\\n')"
   ]
  },
  {
   "cell_type": "code",
   "execution_count": 109,
   "id": "94693f4a",
   "metadata": {
    "ExecuteTime": {
     "end_time": "2021-12-26T09:29:10.499265Z",
     "start_time": "2021-12-26T09:28:19.966815Z"
    }
   },
   "outputs": [
    {
     "name": "stdout",
     "output_type": "stream",
     "text": [
      "Score For Un-Scaled Data\n",
      "Logistic Regression Classifier:- \n",
      "Best Params are: {'solver': 'liblinear', 'penalty': 'l2', 'max_iter': 500, 'C': 1}\n",
      "Accuracy Score is: 79.0%\n",
      "\n",
      "Decision Tree Classifier:- \n",
      "Best Params are: {'min_samples_split': 7, 'min_samples_leaf': 2, 'max_features': 'auto', 'max_depth': 50}\n",
      "Accuracy Score is: 82.0%\n",
      "\n",
      "Random Forest Classifier:- \n",
      "Best Params are: {'n_estimators': 500, 'min_samples_split': 5, 'min_samples_leaf': 2, 'max_features': 'log2', 'max_depth': 10, 'bootstrap': False}\n",
      "Accuracy Score is: 86.0%\n",
      "\n",
      "Gradient Boosted Classifier:- \n",
      "Best Params are: {'n_estimators': 1000, 'min_samples_split': 7, 'min_samples_leaf': 4, 'max_features': 'sqrt', 'max_depth': 50, 'learning_rate': 0.01}\n",
      "Accuracy Score is: 82.0%\n",
      "\n",
      "KNN classifier:- \n",
      "Best Params are: {'n_neighbors': 7}\n",
      "Accuracy Score is: 71.0%\n",
      "\n",
      "Support Vector Machine:- \n",
      "Best Params are: {'kernel': 'sigmoid', 'gamma': 'auto', 'C': 0.1}\n",
      "Accuracy Score is: 61.0%\n",
      "\n"
     ]
    }
   ],
   "source": [
    "print(f'Score For Un-Scaled Data')\n",
    "for model_name, clf, param in classifiers:\n",
    "    rcv = RandomizedSearchCV(clf, param, scoring='accuracy', n_jobs=-1, cv=3)\n",
    "    rcv.fit(titanic_X_train, titanic_y_train)\n",
    "    print(f'{model_name}:- \\nBest Params are: {rcv.best_params_}')\n",
    "    pred = rcv.predict(titanic_X_test)\n",
    "    acc_score = round(accuracy_score(titanic_y_test, pred), 2)\n",
    "    print(f'Accuracy Score is: {acc_score*100}%\\n')"
   ]
  },
  {
   "cell_type": "markdown",
   "id": "25c3ef15",
   "metadata": {},
   "source": [
    "## Ensembling Models"
   ]
  },
  {
   "cell_type": "markdown",
   "id": "176c1cbd",
   "metadata": {},
   "source": [
    "From above scores we saw tree based models did better for non scaled data. KNN did a lot better after parameter tuning. Some models did better with default parameters, as we used RandomizedSearchCV we couldn't tune the parameters exhaustively. For this we could use GridSearchCV, but that will be very time consuming and would need higher resources.\n",
    "\n",
    "So, for Ensembling we will use Voting Classifier with Decision Tree Classifier, Random Forest Classifier and Gradient Boosting Classifier. We will use GridSearchCV to better tune our models."
   ]
  },
  {
   "cell_type": "code",
   "execution_count": 123,
   "id": "0534cdb3",
   "metadata": {
    "ExecuteTime": {
     "end_time": "2021-12-26T09:53:27.548353Z",
     "start_time": "2021-12-26T09:53:27.528335Z"
    }
   },
   "outputs": [],
   "source": [
    "# Now we will define the parameters for which we want to tune the model\n",
    "param_decision_tree = {'max_depth':[10, 20, 50], 'min_samples_leaf':[2, 5], 'max_features':['log2'], \n",
    "                      'min_samples_split':[5, 7, 10]}\n",
    "param_random_forest = {'max_depth':[10, 20, 50], 'min_samples_leaf':[2, 5], 'max_features':['log2'], \n",
    "                      'min_samples_split':[5, 7, 10], 'bootstrap':[False],\n",
    "                       'n_estimators': [500, 1000, 2000]}\n",
    "param_gradient_boosting = {'max_depth':[10, 20, 50], 'min_samples_leaf':[2, 5], 'max_features':['log2'], \n",
    "                      'min_samples_split':[5, 7, 10], 'n_estimators': [500, 1000, 2000], \n",
    "                          'learning_rate':[0.1, 1, 10]}"
   ]
  },
  {
   "cell_type": "code",
   "execution_count": 124,
   "id": "0a563d29",
   "metadata": {
    "ExecuteTime": {
     "end_time": "2021-12-26T10:05:41.855858Z",
     "start_time": "2021-12-26T09:54:03.061967Z"
    }
   },
   "outputs": [
    {
     "name": "stdout",
     "output_type": "stream",
     "text": [
      "Accuracy Score for decision_tree is: 80.0%\n",
      "\n",
      "Accuracy Score for random_forest is: 84.0%\n",
      "\n",
      "Accuracy Score for gradient_boosting is: 83.0%\n",
      "\n"
     ]
    }
   ],
   "source": [
    "classifiers = [('decision_tree', decision_tree, param_decision_tree),\n",
    "               ('random_forest', random_forest, param_random_forest),\n",
    "               ('gradient_boosting', gradient_boosting, param_gradient_boosting)]\n",
    "best_params = dict()\n",
    "\n",
    "for model_name, clf, param in classifiers:\n",
    "    gcv = GridSearchCV(clf, param, scoring='accuracy', n_jobs=-1, cv=5)\n",
    "    gcv.fit(titanic_X_train, titanic_y_train)\n",
    "    best_params.update({model_name: gcv.best_params_})\n",
    "    pred = gcv.predict(titanic_X_test)\n",
    "    acc_score = round(accuracy_score(titanic_y_test, pred), 2)\n",
    "    print(f'Accuracy Score for {model_name} is: {acc_score*100}%\\n')"
   ]
  },
  {
   "cell_type": "code",
   "execution_count": 125,
   "id": "1b084c70",
   "metadata": {
    "ExecuteTime": {
     "end_time": "2021-12-26T10:09:03.211744Z",
     "start_time": "2021-12-26T10:09:03.202736Z"
    }
   },
   "outputs": [
    {
     "data": {
      "text/plain": [
       "{'decision_tree': {'max_depth': 50,\n",
       "  'max_features': 'log2',\n",
       "  'min_samples_leaf': 5,\n",
       "  'min_samples_split': 5},\n",
       " 'random_forest': {'bootstrap': False,\n",
       "  'max_depth': 50,\n",
       "  'max_features': 'log2',\n",
       "  'min_samples_leaf': 2,\n",
       "  'min_samples_split': 10,\n",
       "  'n_estimators': 2000},\n",
       " 'gradient_boosting': {'learning_rate': 0.1,\n",
       "  'max_depth': 50,\n",
       "  'max_features': 'log2',\n",
       "  'min_samples_leaf': 2,\n",
       "  'min_samples_split': 5,\n",
       "  'n_estimators': 1000}}"
      ]
     },
     "execution_count": 125,
     "metadata": {},
     "output_type": "execute_result"
    }
   ],
   "source": [
    "best_params"
   ]
  },
  {
   "cell_type": "code",
   "execution_count": 138,
   "id": "d7c313d3",
   "metadata": {
    "ExecuteTime": {
     "end_time": "2021-12-26T10:22:39.006134Z",
     "start_time": "2021-12-26T10:22:38.990120Z"
    }
   },
   "outputs": [],
   "source": [
    "decision_tree_clf = DecisionTreeClassifier(max_depth=50, max_features='log2', min_samples_leaf=5, min_samples_split=5)\n",
    "random_forest_clf = RandomForestClassifier(\n",
    "    bootstrap=False, max_depth=50, max_features='log2', min_samples_leaf=2, min_samples_split=10, n_estimators=2000)\n",
    "gradient_boosting_clf = GradientBoostingClassifier(\n",
    "    learning_rate=0.1, max_depth=50, max_features='log2', min_samples_leaf=2, min_samples_split=5, n_estimators=1000)\n",
    "\n",
    "voting_clf_hard = VotingClassifier(estimators=[\n",
    "    ('decision_tree_clf', decision_tree_clf),\n",
    "    ('random_forest_clf', random_forest_clf),\n",
    "    ('gradient_boosting_clf', gradient_boosting_clf)\n",
    "],\n",
    "    voting='hard',\n",
    "    n_jobs=-1)\n",
    "voting_clf_soft = VotingClassifier(estimators=[\n",
    "    ('decision_tree_clf', decision_tree_clf), ('random_forest_clf', random_forest_clf),\n",
    "    ('gradient_boosting_clf', gradient_boosting_clf)\n",
    "],\n",
    "    voting='soft',\n",
    "    n_jobs=-1)"
   ]
  },
  {
   "cell_type": "code",
   "execution_count": 140,
   "id": "61522a50",
   "metadata": {
    "ExecuteTime": {
     "end_time": "2021-12-26T10:23:29.372861Z",
     "start_time": "2021-12-26T10:23:06.582304Z"
    }
   },
   "outputs": [
    {
     "name": "stdout",
     "output_type": "stream",
     "text": [
      "Accuracy for Hard Voting Classifier is: 83.0%\n"
     ]
    }
   ],
   "source": [
    "# Hard Voting\n",
    "voting_clf_hard.fit(titanic_X_train, titanic_y_train)\n",
    "pred = voting_clf_hard.predict(titanic_X_test)\n",
    "score = round(accuracy_score(titanic_y_test, pred), 2)\n",
    "print(f'Accuracy for Hard Voting Classifier is: {score*100}%')"
   ]
  },
  {
   "cell_type": "code",
   "execution_count": 141,
   "id": "6fa90535",
   "metadata": {
    "ExecuteTime": {
     "end_time": "2021-12-26T10:23:59.399529Z",
     "start_time": "2021-12-26T10:23:41.695892Z"
    }
   },
   "outputs": [
    {
     "name": "stdout",
     "output_type": "stream",
     "text": [
      "Accuracy for Soft Voting Classifier is: 83.0%\n"
     ]
    }
   ],
   "source": [
    "# Soft Voting\n",
    "voting_clf_soft.fit(titanic_X_train, titanic_y_train)\n",
    "pred = voting_clf_soft.predict(titanic_X_test)\n",
    "score = round(accuracy_score(titanic_y_test, pred), 2)\n",
    "print(f'Accuracy for Soft Voting Classifier is: {score*100}%')"
   ]
  },
  {
   "cell_type": "markdown",
   "id": "163ce6c8",
   "metadata": {},
   "source": [
    "We will use Hard Voting for Predictions"
   ]
  },
  {
   "cell_type": "markdown",
   "id": "ac6a4d59",
   "metadata": {},
   "source": [
    "# Predictions"
   ]
  },
  {
   "cell_type": "markdown",
   "id": "c33c94b0",
   "metadata": {},
   "source": [
    "## Using Voting Classifier"
   ]
  },
  {
   "cell_type": "code",
   "execution_count": 142,
   "id": "dd20fd5d",
   "metadata": {
    "ExecuteTime": {
     "end_time": "2021-12-26T10:24:41.221516Z",
     "start_time": "2021-12-26T10:24:40.803023Z"
    }
   },
   "outputs": [],
   "source": [
    "test_data_pred_hard = voting_clf_hard.predict(test_data_X)\n",
    "prediction_df_hard = pd.DataFrame(test_data.PassengerId)\n",
    "prediction_df_hard['Survived'] = test_data_pred_hard"
   ]
  },
  {
   "cell_type": "code",
   "execution_count": 143,
   "id": "870281f4",
   "metadata": {
    "ExecuteTime": {
     "end_time": "2021-12-26T10:24:53.593488Z",
     "start_time": "2021-12-26T10:24:53.580479Z"
    }
   },
   "outputs": [
    {
     "data": {
      "text/html": [
       "<div>\n",
       "<style scoped>\n",
       "    .dataframe tbody tr th:only-of-type {\n",
       "        vertical-align: middle;\n",
       "    }\n",
       "\n",
       "    .dataframe tbody tr th {\n",
       "        vertical-align: top;\n",
       "    }\n",
       "\n",
       "    .dataframe thead th {\n",
       "        text-align: right;\n",
       "    }\n",
       "</style>\n",
       "<table border=\"1\" class=\"dataframe\">\n",
       "  <thead>\n",
       "    <tr style=\"text-align: right;\">\n",
       "      <th></th>\n",
       "      <th>PassengerId</th>\n",
       "      <th>Survived</th>\n",
       "    </tr>\n",
       "  </thead>\n",
       "  <tbody>\n",
       "    <tr>\n",
       "      <th>0</th>\n",
       "      <td>892</td>\n",
       "      <td>0</td>\n",
       "    </tr>\n",
       "    <tr>\n",
       "      <th>1</th>\n",
       "      <td>893</td>\n",
       "      <td>0</td>\n",
       "    </tr>\n",
       "    <tr>\n",
       "      <th>2</th>\n",
       "      <td>894</td>\n",
       "      <td>1</td>\n",
       "    </tr>\n",
       "    <tr>\n",
       "      <th>3</th>\n",
       "      <td>895</td>\n",
       "      <td>0</td>\n",
       "    </tr>\n",
       "    <tr>\n",
       "      <th>4</th>\n",
       "      <td>896</td>\n",
       "      <td>1</td>\n",
       "    </tr>\n",
       "    <tr>\n",
       "      <th>...</th>\n",
       "      <td>...</td>\n",
       "      <td>...</td>\n",
       "    </tr>\n",
       "    <tr>\n",
       "      <th>413</th>\n",
       "      <td>1305</td>\n",
       "      <td>0</td>\n",
       "    </tr>\n",
       "    <tr>\n",
       "      <th>414</th>\n",
       "      <td>1306</td>\n",
       "      <td>1</td>\n",
       "    </tr>\n",
       "    <tr>\n",
       "      <th>415</th>\n",
       "      <td>1307</td>\n",
       "      <td>0</td>\n",
       "    </tr>\n",
       "    <tr>\n",
       "      <th>416</th>\n",
       "      <td>1308</td>\n",
       "      <td>0</td>\n",
       "    </tr>\n",
       "    <tr>\n",
       "      <th>417</th>\n",
       "      <td>1309</td>\n",
       "      <td>1</td>\n",
       "    </tr>\n",
       "  </tbody>\n",
       "</table>\n",
       "<p>418 rows × 2 columns</p>\n",
       "</div>"
      ],
      "text/plain": [
       "     PassengerId  Survived\n",
       "0            892         0\n",
       "1            893         0\n",
       "2            894         1\n",
       "3            895         0\n",
       "4            896         1\n",
       "..           ...       ...\n",
       "413         1305         0\n",
       "414         1306         1\n",
       "415         1307         0\n",
       "416         1308         0\n",
       "417         1309         1\n",
       "\n",
       "[418 rows x 2 columns]"
      ]
     },
     "execution_count": 143,
     "metadata": {},
     "output_type": "execute_result"
    }
   ],
   "source": [
    "prediction_df_hard"
   ]
  },
  {
   "cell_type": "code",
   "execution_count": 144,
   "id": "f5a05112",
   "metadata": {
    "ExecuteTime": {
     "end_time": "2021-12-26T10:25:06.035593Z",
     "start_time": "2021-12-26T10:25:06.020149Z"
    }
   },
   "outputs": [],
   "source": [
    "# Generate Submission File\n",
    "prediction_df_hard.set_index('PassengerId').to_csv('submission_voting_clf_hard.csv')"
   ]
  },
  {
   "cell_type": "markdown",
   "id": "c107a2cb",
   "metadata": {},
   "source": [
    "This model scored 0.71531 on kaggle"
   ]
  },
  {
   "cell_type": "code",
   "execution_count": 145,
   "id": "d4630c0f",
   "metadata": {
    "ExecuteTime": {
     "end_time": "2021-12-26T10:25:40.338668Z",
     "start_time": "2021-12-26T10:25:39.910275Z"
    }
   },
   "outputs": [],
   "source": [
    "test_data_pred_soft = voting_clf_soft.predict(test_data_X)\n",
    "prediction_df_soft = pd.DataFrame(test_data.PassengerId)\n",
    "prediction_df_soft['Survived'] = test_data_pred_soft"
   ]
  },
  {
   "cell_type": "code",
   "execution_count": 146,
   "id": "10d140d4",
   "metadata": {
    "ExecuteTime": {
     "end_time": "2021-12-26T10:26:14.165343Z",
     "start_time": "2021-12-26T10:26:14.149328Z"
    }
   },
   "outputs": [
    {
     "data": {
      "text/html": [
       "<div>\n",
       "<style scoped>\n",
       "    .dataframe tbody tr th:only-of-type {\n",
       "        vertical-align: middle;\n",
       "    }\n",
       "\n",
       "    .dataframe tbody tr th {\n",
       "        vertical-align: top;\n",
       "    }\n",
       "\n",
       "    .dataframe thead th {\n",
       "        text-align: right;\n",
       "    }\n",
       "</style>\n",
       "<table border=\"1\" class=\"dataframe\">\n",
       "  <thead>\n",
       "    <tr style=\"text-align: right;\">\n",
       "      <th></th>\n",
       "      <th>PassengerId</th>\n",
       "      <th>Survived</th>\n",
       "    </tr>\n",
       "  </thead>\n",
       "  <tbody>\n",
       "    <tr>\n",
       "      <th>0</th>\n",
       "      <td>892</td>\n",
       "      <td>0</td>\n",
       "    </tr>\n",
       "    <tr>\n",
       "      <th>1</th>\n",
       "      <td>893</td>\n",
       "      <td>0</td>\n",
       "    </tr>\n",
       "    <tr>\n",
       "      <th>2</th>\n",
       "      <td>894</td>\n",
       "      <td>0</td>\n",
       "    </tr>\n",
       "    <tr>\n",
       "      <th>3</th>\n",
       "      <td>895</td>\n",
       "      <td>0</td>\n",
       "    </tr>\n",
       "    <tr>\n",
       "      <th>4</th>\n",
       "      <td>896</td>\n",
       "      <td>0</td>\n",
       "    </tr>\n",
       "    <tr>\n",
       "      <th>...</th>\n",
       "      <td>...</td>\n",
       "      <td>...</td>\n",
       "    </tr>\n",
       "    <tr>\n",
       "      <th>413</th>\n",
       "      <td>1305</td>\n",
       "      <td>0</td>\n",
       "    </tr>\n",
       "    <tr>\n",
       "      <th>414</th>\n",
       "      <td>1306</td>\n",
       "      <td>1</td>\n",
       "    </tr>\n",
       "    <tr>\n",
       "      <th>415</th>\n",
       "      <td>1307</td>\n",
       "      <td>0</td>\n",
       "    </tr>\n",
       "    <tr>\n",
       "      <th>416</th>\n",
       "      <td>1308</td>\n",
       "      <td>0</td>\n",
       "    </tr>\n",
       "    <tr>\n",
       "      <th>417</th>\n",
       "      <td>1309</td>\n",
       "      <td>0</td>\n",
       "    </tr>\n",
       "  </tbody>\n",
       "</table>\n",
       "<p>418 rows × 2 columns</p>\n",
       "</div>"
      ],
      "text/plain": [
       "     PassengerId  Survived\n",
       "0            892         0\n",
       "1            893         0\n",
       "2            894         0\n",
       "3            895         0\n",
       "4            896         0\n",
       "..           ...       ...\n",
       "413         1305         0\n",
       "414         1306         1\n",
       "415         1307         0\n",
       "416         1308         0\n",
       "417         1309         0\n",
       "\n",
       "[418 rows x 2 columns]"
      ]
     },
     "execution_count": 146,
     "metadata": {},
     "output_type": "execute_result"
    }
   ],
   "source": [
    "prediction_df_soft"
   ]
  },
  {
   "cell_type": "code",
   "execution_count": 147,
   "id": "cfa7879b",
   "metadata": {
    "ExecuteTime": {
     "end_time": "2021-12-26T10:26:26.699972Z",
     "start_time": "2021-12-26T10:26:26.668692Z"
    }
   },
   "outputs": [],
   "source": [
    "# Generate Submission File\n",
    "prediction_df_soft.set_index('PassengerId').to_csv('submission_voting_clf_soft.csv')"
   ]
  },
  {
   "cell_type": "markdown",
   "id": "cbe58a7c",
   "metadata": {},
   "source": [
    "This model scored 0.75358 on kaggle"
   ]
  },
  {
   "cell_type": "markdown",
   "id": "f8ea647e",
   "metadata": {},
   "source": [
    "## Using Random Forest Classifier"
   ]
  },
  {
   "cell_type": "code",
   "execution_count": 148,
   "id": "c6b78fdc",
   "metadata": {
    "ExecuteTime": {
     "end_time": "2021-12-26T10:37:18.931757Z",
     "start_time": "2021-12-26T10:37:17.610890Z"
    }
   },
   "outputs": [
    {
     "data": {
      "text/html": [
       "<div>\n",
       "<style scoped>\n",
       "    .dataframe tbody tr th:only-of-type {\n",
       "        vertical-align: middle;\n",
       "    }\n",
       "\n",
       "    .dataframe tbody tr th {\n",
       "        vertical-align: top;\n",
       "    }\n",
       "\n",
       "    .dataframe thead th {\n",
       "        text-align: right;\n",
       "    }\n",
       "</style>\n",
       "<table border=\"1\" class=\"dataframe\">\n",
       "  <thead>\n",
       "    <tr style=\"text-align: right;\">\n",
       "      <th></th>\n",
       "      <th>PassengerId</th>\n",
       "      <th>Survived</th>\n",
       "    </tr>\n",
       "  </thead>\n",
       "  <tbody>\n",
       "    <tr>\n",
       "      <th>0</th>\n",
       "      <td>892</td>\n",
       "      <td>0</td>\n",
       "    </tr>\n",
       "    <tr>\n",
       "      <th>1</th>\n",
       "      <td>893</td>\n",
       "      <td>0</td>\n",
       "    </tr>\n",
       "    <tr>\n",
       "      <th>2</th>\n",
       "      <td>894</td>\n",
       "      <td>0</td>\n",
       "    </tr>\n",
       "    <tr>\n",
       "      <th>3</th>\n",
       "      <td>895</td>\n",
       "      <td>0</td>\n",
       "    </tr>\n",
       "    <tr>\n",
       "      <th>4</th>\n",
       "      <td>896</td>\n",
       "      <td>1</td>\n",
       "    </tr>\n",
       "    <tr>\n",
       "      <th>...</th>\n",
       "      <td>...</td>\n",
       "      <td>...</td>\n",
       "    </tr>\n",
       "    <tr>\n",
       "      <th>413</th>\n",
       "      <td>1305</td>\n",
       "      <td>0</td>\n",
       "    </tr>\n",
       "    <tr>\n",
       "      <th>414</th>\n",
       "      <td>1306</td>\n",
       "      <td>1</td>\n",
       "    </tr>\n",
       "    <tr>\n",
       "      <th>415</th>\n",
       "      <td>1307</td>\n",
       "      <td>0</td>\n",
       "    </tr>\n",
       "    <tr>\n",
       "      <th>416</th>\n",
       "      <td>1308</td>\n",
       "      <td>0</td>\n",
       "    </tr>\n",
       "    <tr>\n",
       "      <th>417</th>\n",
       "      <td>1309</td>\n",
       "      <td>1</td>\n",
       "    </tr>\n",
       "  </tbody>\n",
       "</table>\n",
       "<p>418 rows × 2 columns</p>\n",
       "</div>"
      ],
      "text/plain": [
       "     PassengerId  Survived\n",
       "0            892         0\n",
       "1            893         0\n",
       "2            894         0\n",
       "3            895         0\n",
       "4            896         1\n",
       "..           ...       ...\n",
       "413         1305         0\n",
       "414         1306         1\n",
       "415         1307         0\n",
       "416         1308         0\n",
       "417         1309         1\n",
       "\n",
       "[418 rows x 2 columns]"
      ]
     },
     "execution_count": 148,
     "metadata": {},
     "output_type": "execute_result"
    }
   ],
   "source": [
    "random_forest_clf = RandomForestClassifier(n_estimators=500, min_samples_split=5, min_samples_leaf=2, max_features='log2', max_depth=10, bootstrap=False)\n",
    "\n",
    "random_forest_clf.fit(titanic_X, titanic_y)\n",
    "test_data_pred = random_forest_clf.predict(test_data_X)\n",
    "prediction_df = pd.DataFrame(test_data.PassengerId)\n",
    "prediction_df['Survived'] = test_data_pred\n",
    "\n",
    "# Generate Submission File\n",
    "prediction_df.set_index('PassengerId').to_csv('submission_random_forest_clf.csv')\n",
    "\n",
    "# view prediction\n",
    "prediction_df"
   ]
  },
  {
   "cell_type": "markdown",
   "id": "756d4bf3",
   "metadata": {},
   "source": [
    "kaggle score 0.74162"
   ]
  },
  {
   "cell_type": "markdown",
   "id": "7851bbab",
   "metadata": {},
   "source": [
    "# To Do to Improve Model Performance"
   ]
  },
  {
   "cell_type": "markdown",
   "id": "9de8fe9e",
   "metadata": {},
   "source": [
    "1. Using other Gradient Boosted Classifiers such as XgBoost.\n",
    "2. Further Feature Engineering\n",
    "3. Changing encoder (manual encoding)\n",
    "4. Merging train & test set before data encoding\n",
    "5. Using other classifiers (logreg, svm) with tree based classifiers in Voting Classifier"
   ]
  }
 ],
 "metadata": {
  "hide_input": false,
  "kernelspec": {
   "display_name": "python_kaggle",
   "language": "python",
   "name": "kaggle"
  },
  "language_info": {
   "codemirror_mode": {
    "name": "ipython",
    "version": 3
   },
   "file_extension": ".py",
   "mimetype": "text/x-python",
   "name": "python",
   "nbconvert_exporter": "python",
   "pygments_lexer": "ipython3",
   "version": "3.6.13"
  },
  "notify_time": "5",
  "toc": {
   "base_numbering": 1,
   "nav_menu": {},
   "number_sections": true,
   "sideBar": true,
   "skip_h1_title": false,
   "title_cell": "Table of Contents",
   "title_sidebar": "Contents",
   "toc_cell": false,
   "toc_position": {
    "height": "calc(100% - 180px)",
    "left": "10px",
    "top": "150px",
    "width": "307.2px"
   },
   "toc_section_display": true,
   "toc_window_display": true
  },
  "toc-autonumbering": true,
  "toc-showtags": true,
  "varInspector": {
   "cols": {
    "lenName": 16,
    "lenType": 16,
    "lenVar": 40
   },
   "kernels_config": {
    "python": {
     "delete_cmd_postfix": "",
     "delete_cmd_prefix": "del ",
     "library": "var_list.py",
     "varRefreshCmd": "print(var_dic_list())"
    },
    "r": {
     "delete_cmd_postfix": ") ",
     "delete_cmd_prefix": "rm(",
     "library": "var_list.r",
     "varRefreshCmd": "cat(var_dic_list()) "
    }
   },
   "types_to_exclude": [
    "module",
    "function",
    "builtin_function_or_method",
    "instance",
    "_Feature"
   ],
   "window_display": false
  }
 },
 "nbformat": 4,
 "nbformat_minor": 5
}
